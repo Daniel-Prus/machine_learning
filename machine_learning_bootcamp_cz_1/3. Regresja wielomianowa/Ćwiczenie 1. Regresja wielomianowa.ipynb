{
 "cells": [
  {
   "cell_type": "markdown",
   "id": "95f7a4d1",
   "metadata": {},
   "source": [
    "#### 1. Regresja wielomianowa:\n",
    "\n",
    "\n",
    "\n",
    "\n",
    "- wygeneruj dane  i narysuj wykres w matplotlib tych danych\n",
    "\n",
    "\n",
    "- zrób regresję liniową i predykcje i dołącz do wykresu\n",
    "\n",
    "\n",
    "- zbadaj współczynnik r2 score\n",
    "\n",
    "\n",
    "- dokonaj ektrakcji cech za pomocą sklearn - stopień drugi, dorzuć do wykresu\n",
    "\n",
    "\n",
    "- zbuduj model stopnia 3 i dołącz do wykresu\n",
    "\n",
    "\n",
    "- zaimportuj odpowiednie metryki ze sklearn, zbuduj dataframe ze współczynnikami r2 score, mae, mse, rmse dla wszystkich modeli\n",
    "\n",
    "\n",
    "- przedstaw na wykresie wszystkie metryki - plotly.express, ale możesz spróbować coś innego - matplotlib"
   ]
  },
  {
   "cell_type": "markdown",
   "id": "c8a61d6e",
   "metadata": {},
   "source": [
    "X = np.arange(-10, 10, 0.5)\n",
    "noise = 80 * np.random.randn(40)\n",
    "y = -X**3 + 10*X**2 - 2*X + 3 + noise\n",
    "X = X.reshape(40, 1)"
   ]
  }
 ],
 "metadata": {
  "kernelspec": {
   "display_name": "Python 3 (ipykernel)",
   "language": "python",
   "name": "python3"
  },
  "language_info": {
   "codemirror_mode": {
    "name": "ipython",
    "version": 3
   },
   "file_extension": ".py",
   "mimetype": "text/x-python",
   "name": "python",
   "nbconvert_exporter": "python",
   "pygments_lexer": "ipython3",
   "version": "3.8.12"
  }
 },
 "nbformat": 4,
 "nbformat_minor": 5
}
