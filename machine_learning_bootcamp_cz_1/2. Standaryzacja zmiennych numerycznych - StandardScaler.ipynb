{
 "cells": [
  {
   "cell_type": "code",
   "execution_count": 15,
   "id": "50a50a38",
   "metadata": {},
   "outputs": [],
   "source": [
    "import numpy as np\n",
    "import pandas as pd\n",
    "import sklearn\n",
    "\n",
    "np.set_printoptions(precision=6, suppress=True, edgeitems=10, linewidth=100000, \n",
    "                    formatter=dict(float=lambda x: f'{x:.2f}'))\n",
    "np.random.seed(42)"
   ]
  },
  {
   "cell_type": "markdown",
   "id": "2ac78652",
   "metadata": {},
   "source": [
    "### 1. Przygotowanie danych - uproszczone"
   ]
  },
  {
   "cell_type": "code",
   "execution_count": 16,
   "id": "bebc9375",
   "metadata": {},
   "outputs": [],
   "source": [
    "from sklearn.datasets import load_breast_cancer"
   ]
  },
  {
   "cell_type": "code",
   "execution_count": 17,
   "id": "3fab5955",
   "metadata": {},
   "outputs": [
    {
     "name": "stdout",
     "output_type": "stream",
     "text": [
      "dict_keys(['data', 'target', 'frame', 'target_names', 'DESCR', 'feature_names', 'filename', 'data_module'])\n"
     ]
    }
   ],
   "source": [
    "raw_data = load_breast_cancer()\n",
    "print(raw_data.keys())"
   ]
  },
  {
   "cell_type": "code",
   "execution_count": 18,
   "id": "c31e5cdc",
   "metadata": {},
   "outputs": [],
   "source": [
    "all_data = raw_data.copy()"
   ]
  },
  {
   "cell_type": "code",
   "execution_count": 19,
   "id": "94997d8c",
   "metadata": {},
   "outputs": [],
   "source": [
    "data = all_data['data']\n",
    "target = all_data['target']"
   ]
  },
  {
   "cell_type": "code",
   "execution_count": 23,
   "id": "0fbb0b35",
   "metadata": {},
   "outputs": [
    {
     "data": {
      "text/plain": [
       "array([0, 0, 0])"
      ]
     },
     "execution_count": 23,
     "metadata": {},
     "output_type": "execute_result"
    }
   ],
   "source": [
    "target[:3]"
   ]
  },
  {
   "cell_type": "markdown",
   "id": "30659c51",
   "metadata": {},
   "source": [
    "### 3. Standaryzaja bez podzału na train /test :\n",
    "\n",
    "scaler = StandardScaler()\n",
    "\n",
    "scaler.fit(X_train)\n",
    "\n",
    "\n",
    "\n",
    "\n",
    "X_train = scaler.transform(X_train)\n",
    "\n",
    "X_test = scaler.transform(X_test)\n",
    "\n",
    "\n",
    "a) w przypadku zbiorów train/test:\n",
    "\n",
    "    - fit stosujemy tylko do X_train\n",
    "    - transform dla X_train i X_test"
   ]
  },
  {
   "cell_type": "markdown",
   "id": "8e6a914c",
   "metadata": {},
   "source": [
    "#### - standaryzacja"
   ]
  },
  {
   "cell_type": "code",
   "execution_count": 25,
   "id": "357142cf",
   "metadata": {},
   "outputs": [],
   "source": [
    "from sklearn.preprocessing import StandardScaler"
   ]
  },
  {
   "cell_type": "code",
   "execution_count": 26,
   "id": "6ef4a83f",
   "metadata": {},
   "outputs": [],
   "source": [
    "X_train = data.copy()\n",
    "\n",
    "scaler = StandardScaler()\n",
    "\n",
    "scaler.fit(X_train)\n",
    "X_train = scaler.transform(X_train)"
   ]
  },
  {
   "cell_type": "markdown",
   "id": "0acc0d40",
   "metadata": {},
   "source": [
    "#### - współczynniki"
   ]
  },
  {
   "cell_type": "code",
   "execution_count": 29,
   "id": "f009dd1e",
   "metadata": {},
   "outputs": [
    {
     "data": {
      "text/plain": [
       "array([14.13, 19.29, 91.97, 654.89, 0.10, 0.10, 0.09, 0.05, 0.18, 0.06, 0.41, 1.22, 2.87, 40.34, 0.01, 0.03, 0.03, 0.01, 0.02, 0.00, 16.27, 25.68, 107.26, 880.58, 0.13, 0.25, 0.27, 0.11, 0.29, 0.08])"
      ]
     },
     "execution_count": 29,
     "metadata": {},
     "output_type": "execute_result"
    }
   ],
   "source": [
    "#średnia\n",
    "\n",
    "scaler.mean_"
   ]
  },
  {
   "cell_type": "code",
   "execution_count": 30,
   "id": "0757faa9",
   "metadata": {},
   "outputs": [
    {
     "data": {
      "text/plain": [
       "array([3.52, 4.30, 24.28, 351.60, 0.01, 0.05, 0.08, 0.04, 0.03, 0.01, 0.28, 0.55, 2.02, 45.45, 0.00, 0.02, 0.03, 0.01, 0.01, 0.00, 4.83, 6.14, 33.57, 568.86, 0.02, 0.16, 0.21, 0.07, 0.06, 0.02])"
      ]
     },
     "execution_count": 30,
     "metadata": {},
     "output_type": "execute_result"
    }
   ],
   "source": [
    "# odchylenie standardowe\n",
    "scaler.scale_"
   ]
  },
  {
   "cell_type": "markdown",
   "id": "308a3a47",
   "metadata": {},
   "source": [
    "### 4. Inwersja - powrót do wcześniejszych wartości"
   ]
  },
  {
   "cell_type": "markdown",
   "id": "d8afaba2",
   "metadata": {},
   "source": [
    "#### - automatycznie"
   ]
  },
  {
   "cell_type": "code",
   "execution_count": 56,
   "id": "e730fa05",
   "metadata": {},
   "outputs": [
    {
     "data": {
      "text/plain": [
       "array([[17.99, 10.38, 122.80, 1001.00, 0.12, 0.28, 0.30, 0.15, 0.24, 0.08, 1.09, 0.91, 8.59, 153.40, 0.01, 0.05, 0.05, 0.02, 0.03, 0.01, 25.38, 17.33, 184.60, 2019.00, 0.16, 0.67, 0.71, 0.27, 0.46, 0.12],\n",
       "       [20.57, 17.77, 132.90, 1326.00, 0.08, 0.08, 0.09, 0.07, 0.18, 0.06, 0.54, 0.73, 3.40, 74.08, 0.01, 0.01, 0.02, 0.01, 0.01, 0.00, 24.99, 23.41, 158.80, 1956.00, 0.12, 0.19, 0.24, 0.19, 0.28, 0.09],\n",
       "       [19.69, 21.25, 130.00, 1203.00, 0.11, 0.16, 0.20, 0.13, 0.21, 0.06, 0.75, 0.79, 4.58, 94.03, 0.01, 0.04, 0.04, 0.02, 0.02, 0.00, 23.57, 25.53, 152.50, 1709.00, 0.14, 0.42, 0.45, 0.24, 0.36, 0.09],\n",
       "       [11.42, 20.38, 77.58, 386.10, 0.14, 0.28, 0.24, 0.11, 0.26, 0.10, 0.50, 1.16, 3.44, 27.23, 0.01, 0.07, 0.06, 0.02, 0.06, 0.01, 14.91, 26.50, 98.87, 567.70, 0.21, 0.87, 0.69, 0.26, 0.66, 0.17],\n",
       "       [20.29, 14.34, 135.10, 1297.00, 0.10, 0.13, 0.20, 0.10, 0.18, 0.06, 0.76, 0.78, 5.44, 94.44, 0.01, 0.02, 0.06, 0.02, 0.02, 0.01, 22.54, 16.67, 152.20, 1575.00, 0.14, 0.20, 0.40, 0.16, 0.24, 0.08]])"
      ]
     },
     "execution_count": 56,
     "metadata": {},
     "output_type": "execute_result"
    }
   ],
   "source": [
    "data[:5]"
   ]
  },
  {
   "cell_type": "code",
   "execution_count": 57,
   "id": "7fa807cc",
   "metadata": {},
   "outputs": [
    {
     "data": {
      "text/plain": [
       "array([[1.10, -2.07, 1.27, 0.98, 1.57, 3.28, 2.65, 2.53, 2.22, 2.26, 2.49, -0.57, 2.83, 2.49, -0.21, 1.32, 0.72, 0.66, 1.15, 0.91, 1.89, -1.36, 2.30, 2.00, 1.31, 2.62, 2.11, 2.30, 2.75, 1.94],\n",
       "       [1.83, -0.35, 1.69, 1.91, -0.83, -0.49, -0.02, 0.55, 0.00, -0.87, 0.50, -0.88, 0.26, 0.74, -0.61, -0.69, -0.44, 0.26, -0.81, -0.10, 1.81, -0.37, 1.54, 1.89, -0.38, -0.43, -0.15, 1.09, -0.24, 0.28],\n",
       "       [1.58, 0.46, 1.57, 1.56, 0.94, 1.05, 1.36, 2.04, 0.94, -0.40, 1.23, -0.78, 0.85, 1.18, -0.30, 0.81, 0.21, 1.42, 0.24, 0.29, 1.51, -0.02, 1.35, 1.46, 0.53, 1.08, 0.85, 1.96, 1.15, 0.20],\n",
       "       [-0.77, 0.25, -0.59, -0.76, 3.28, 3.40, 1.92, 1.45, 2.87, 4.91, 0.33, -0.11, 0.29, -0.29, 0.69, 2.74, 0.82, 1.12, 4.73, 2.05, -0.28, 0.13, -0.25, -0.55, 3.39, 3.89, 1.99, 2.18, 6.05, 4.94],\n",
       "       [1.75, -1.15, 1.78, 1.83, 0.28, 0.54, 1.37, 1.43, -0.01, -0.56, 1.27, -0.79, 1.27, 1.19, 1.48, -0.05, 0.83, 1.14, -0.36, 0.50, 1.30, -1.47, 1.34, 1.22, 0.22, -0.31, 0.61, 0.73, -0.87, -0.40]])"
      ]
     },
     "execution_count": 57,
     "metadata": {},
     "output_type": "execute_result"
    }
   ],
   "source": [
    "X_train[:5]"
   ]
  },
  {
   "cell_type": "code",
   "execution_count": 35,
   "id": "c1ab97e2",
   "metadata": {},
   "outputs": [
    {
     "data": {
      "text/plain": [
       "array([[17.99, 10.38, 122.80, 1001.00, 0.12, 0.28, 0.30, 0.15, 0.24, 0.08, 1.09, 0.91, 8.59, 153.40, 0.01, 0.05, 0.05, 0.02, 0.03, 0.01, 25.38, 17.33, 184.60, 2019.00, 0.16, 0.67, 0.71, 0.27, 0.46, 0.12],\n",
       "       [20.57, 17.77, 132.90, 1326.00, 0.08, 0.08, 0.09, 0.07, 0.18, 0.06, 0.54, 0.73, 3.40, 74.08, 0.01, 0.01, 0.02, 0.01, 0.01, 0.00, 24.99, 23.41, 158.80, 1956.00, 0.12, 0.19, 0.24, 0.19, 0.28, 0.09]])"
      ]
     },
     "execution_count": 35,
     "metadata": {},
     "output_type": "execute_result"
    }
   ],
   "source": [
    "scaler.inverse_transform(X_train)[:2]"
   ]
  },
  {
   "cell_type": "markdown",
   "id": "637e185e",
   "metadata": {},
   "source": [
    "#### - inwersja ręczna:\n",
    "\n",
    "- wzór  s = (x- x.mean) / x.std\n",
    "\n",
    "\n",
    "- wzór odwrócony (inwersja)\n",
    "\n",
    "s = (x- x.mean) / x.std    | * x.std\n",
    "\n",
    "s * x.std = x- x.mean\n",
    "\n",
    "x = s * x.std + x.mean"
   ]
  },
  {
   "cell_type": "code",
   "execution_count": 42,
   "id": "8531f4c5",
   "metadata": {},
   "outputs": [],
   "source": [
    "first_col = data[:,0]"
   ]
  },
  {
   "cell_type": "code",
   "execution_count": 45,
   "id": "2e301b2d",
   "metadata": {},
   "outputs": [],
   "source": [
    "mean = first_col.mean()\n",
    "std = first_col.std()"
   ]
  },
  {
   "cell_type": "markdown",
   "id": "0a09fc6a",
   "metadata": {},
   "source": [
    "#### - obliczenie s - standaryzacja"
   ]
  },
  {
   "cell_type": "code",
   "execution_count": 50,
   "id": "311428cb",
   "metadata": {},
   "outputs": [],
   "source": [
    "first_col_stand = (first_col - mean) / std"
   ]
  },
  {
   "cell_type": "code",
   "execution_count": 62,
   "id": "c6da8504",
   "metadata": {},
   "outputs": [
    {
     "data": {
      "text/plain": [
       "array([False, False, False, False, False])"
      ]
     },
     "execution_count": 62,
     "metadata": {},
     "output_type": "execute_result"
    }
   ],
   "source": [
    "first_col_stand[:5] == X_train[:5,0]"
   ]
  },
  {
   "cell_type": "code",
   "execution_count": 59,
   "id": "7211daeb",
   "metadata": {},
   "outputs": [
    {
     "data": {
      "text/plain": [
       "array([1.10, 1.83, 1.58, -0.77, 1.75])"
      ]
     },
     "execution_count": 59,
     "metadata": {},
     "output_type": "execute_result"
    }
   ],
   "source": [
    "first_col_stand[:5]"
   ]
  },
  {
   "cell_type": "code",
   "execution_count": 60,
   "id": "37a6aae5",
   "metadata": {},
   "outputs": [
    {
     "data": {
      "text/plain": [
       "array([1.10, 1.83, 1.58, -0.77, 1.75])"
      ]
     },
     "execution_count": 60,
     "metadata": {},
     "output_type": "execute_result"
    }
   ],
   "source": [
    "X_train[:5,0]"
   ]
  },
  {
   "cell_type": "code",
   "execution_count": 66,
   "id": "30edcace",
   "metadata": {},
   "outputs": [
    {
     "data": {
      "text/plain": [
       "True"
      ]
     },
     "execution_count": 66,
     "metadata": {},
     "output_type": "execute_result"
    }
   ],
   "source": [
    "np.allclose(first_col_stand[:5], X_train[:5,0])"
   ]
  },
  {
   "cell_type": "markdown",
   "id": "4ec36f78",
   "metadata": {},
   "source": [
    "#### - inwersja"
   ]
  },
  {
   "cell_type": "code",
   "execution_count": 69,
   "id": "c598b902",
   "metadata": {},
   "outputs": [],
   "source": [
    "first_col_inverse = first_col_stand * std + mean"
   ]
  },
  {
   "cell_type": "code",
   "execution_count": 70,
   "id": "df4c045a",
   "metadata": {},
   "outputs": [
    {
     "data": {
      "text/plain": [
       "array([17.99, 20.57, 19.69, 11.42, 20.29])"
      ]
     },
     "execution_count": 70,
     "metadata": {},
     "output_type": "execute_result"
    }
   ],
   "source": [
    "first_col_inverse[:5]"
   ]
  },
  {
   "cell_type": "code",
   "execution_count": 72,
   "id": "a342dfbc",
   "metadata": {},
   "outputs": [
    {
     "data": {
      "text/plain": [
       "array([17.99, 20.57, 19.69, 11.42, 20.29])"
      ]
     },
     "execution_count": 72,
     "metadata": {},
     "output_type": "execute_result"
    }
   ],
   "source": [
    "data[:5,0]"
   ]
  },
  {
   "cell_type": "code",
   "execution_count": 73,
   "id": "0ee5289d",
   "metadata": {},
   "outputs": [
    {
     "data": {
      "text/plain": [
       "array([ True,  True,  True,  True,  True])"
      ]
     },
     "execution_count": 73,
     "metadata": {},
     "output_type": "execute_result"
    }
   ],
   "source": [
    "first_col_inverse[:5] == data[:5,0]"
   ]
  },
  {
   "cell_type": "code",
   "execution_count": 74,
   "id": "02373674",
   "metadata": {},
   "outputs": [
    {
     "data": {
      "text/plain": [
       "True"
      ]
     },
     "execution_count": 74,
     "metadata": {},
     "output_type": "execute_result"
    }
   ],
   "source": [
    "np.array_equal(data[:5,0], first_col_inverse[:5])"
   ]
  },
  {
   "cell_type": "code",
   "execution_count": null,
   "id": "eb12e1d9",
   "metadata": {},
   "outputs": [],
   "source": []
  }
 ],
 "metadata": {
  "kernelspec": {
   "display_name": "Python 3 (ipykernel)",
   "language": "python",
   "name": "python3"
  },
  "language_info": {
   "codemirror_mode": {
    "name": "ipython",
    "version": 3
   },
   "file_extension": ".py",
   "mimetype": "text/x-python",
   "name": "python",
   "nbconvert_exporter": "python",
   "pygments_lexer": "ipython3",
   "version": "3.8.12"
  }
 },
 "nbformat": 4,
 "nbformat_minor": 5
}
