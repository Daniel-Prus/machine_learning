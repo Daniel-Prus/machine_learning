{
 "cells": [
  {
   "cell_type": "markdown",
   "id": "8690984c",
   "metadata": {},
   "source": [
    "#### 1. Dane:\n",
    "\n",
    "\n",
    "- pobierz dane 'iris' ze sklearn\n",
    "\n",
    "\n",
    "- wczytaj dane do dataframe (data i target), dodaj kolumnę (zmapuj) z nazwami zmiennych (dict comprehension)\n",
    "\n",
    "\n",
    "- zrób podstawową analizę (policz rozkład targetu, sprawdź nulle, outliersy)\n",
    "\n",
    "\n",
    "- zbadaj korelację i narysuj wykres z seaborn (dokładnie przeanalizuj dane, co mówią poszczególne obrazki!!!!!!!!!!!)"
   ]
  },
  {
   "cell_type": "markdown",
   "id": "dbdb875e",
   "metadata": {},
   "source": [
    "#### 2. Wybór zmiennych do modelu:\n",
    "\n",
    "\n",
    "- do modelu wybierz zmienne słabiej skorelowane\n",
    "\n",
    "- narysuj wykres w plotly express i matplotlib rozłożenia zmiennych, z podziałami na klasy (ustaw kolory)\n",
    "\n",
    "- przygotuj arraye do modelu - wytnij odpowiednie kolumny\n",
    "\n"
   ]
  },
  {
   "cell_type": "markdown",
   "id": "c89db2b6",
   "metadata": {},
   "source": [
    "#### 3. Przygotuj model:\n",
    "\n",
    "- użyj różnych głebokości i przeanalizuj granice i grafy (użyj funkcji żeby było szybciej)\n",
    "\n",
    "- zbuduj wykres accuracy dla danych treningowych i predyckji, odpowiedz na pytanie jak zmienia się dokładność modelu na danych testowych wraz ze wzrostem max_depth ?"
   ]
  },
  {
   "cell_type": "code",
   "execution_count": null,
   "id": "4d6679d9",
   "metadata": {},
   "outputs": [],
   "source": []
  }
 ],
 "metadata": {
  "kernelspec": {
   "display_name": "Python 3 (ipykernel)",
   "language": "python",
   "name": "python3"
  },
  "language_info": {
   "codemirror_mode": {
    "name": "ipython",
    "version": 3
   },
   "file_extension": ".py",
   "mimetype": "text/x-python",
   "name": "python",
   "nbconvert_exporter": "python",
   "pygments_lexer": "ipython3",
   "version": "3.8.12"
  }
 },
 "nbformat": 4,
 "nbformat_minor": 5
}
