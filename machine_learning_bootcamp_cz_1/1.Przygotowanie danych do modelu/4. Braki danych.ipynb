{
 "cells": [
  {
   "cell_type": "markdown",
   "id": "d4995801",
   "metadata": {},
   "source": [
    "### 1. Jak radzić sobie z brakiem danych:\n",
    "\n",
    "\n",
    "- usunięcie rekordów z brakami:\n",
    "  np. usuwanie przy pomocy pandas, gdy Nan jest więcej niż 3\n",
    "\n",
    "\n",
    "- uzupełnianie braków średnią lub medianą (porównywane do innych kolumn):\n",
    "  np. gdy mamy informacje 'bought' - no, to wtedy brakujące 'price' uzupełniami średnią z price dla 'bought' - 'no'\n",
    "\n",
    "- jeśli trend jest rosnący/malęjacy średnią poprzedniej i następnej wartości\n",
    "\n",
    "- w zmiennych kategorycznych - najczęsciej występująca wartość\n",
    "\n",
    "- wytrenowanie modelu w celu uzupełnienia braków - wytrenować model na danych dostępnych i na podstawie modelu uzupełniać braki\n",
    "\n",
    "- zastosowanie interpolacji (szeregi czasowe)\n",
    "\n",
    "- dodanie nowej kategorii np. 'brak' (zmienne kategoryczne) - brak może stanowić ważną informację dla modelu\"\"\""
   ]
  },
  {
   "cell_type": "markdown",
   "id": "1e9e9e9b",
   "metadata": {},
   "source": [
    "### 2. Przed wrzuceniem danych do modelu, dane musimy podzielić na dwa zbioty - treningowy i testowy:\n",
    "\n",
    "- obliczenia i uzupełnienia braków dokonujemy na zbiorze treningowym"
   ]
  },
  {
   "cell_type": "markdown",
   "id": "5b4afc24",
   "metadata": {},
   "source": [
    "### 3. Szeregi czasowe - uzupełnanie braków\n",
    "\n",
    "#### - brak danych\n",
    "\n",
    "![alt text](szeregi_czasowe_brak_danych.png \"Brak danych\")\n",
    "\n",
    "\n",
    " - pomiędzy godziną 13, a 16 brakuje danych"
   ]
  },
  {
   "cell_type": "markdown",
   "id": "52f6b379",
   "metadata": {},
   "source": [
    "#### - uzupełnianie wartością 0\n",
    "\n",
    "![alt text](szeregi_czasowe_zero.png \"Wartość zero\")\n",
    "\n",
    "\n",
    "- po wstawieniu wartości 0, wykres staje się nieczytelny, to nie jest dobra opcja"
   ]
  },
  {
   "cell_type": "markdown",
   "id": "e9c7f2c4",
   "metadata": {},
   "source": [
    "#### - uzupełnianie średnią\n",
    "\n",
    "\n",
    "![alt text](srednia.png \"Wartość zero\")\n",
    "\n",
    "- tutaj wygląda już lepiej"
   ]
  },
  {
   "cell_type": "markdown",
   "id": "485fe5f5",
   "metadata": {},
   "source": [
    "#### - interpolacja\n",
    "\n",
    "\n",
    "![alt text](interpolacja.png \"Wartość zero\")\n",
    "\n"
   ]
  },
  {
   "cell_type": "markdown",
   "id": "351fc0bf",
   "metadata": {},
   "source": [
    "#### - interpolacja - forward fill\n",
    "\n",
    "\n",
    "![alt text](interpolacja_forwardfill.png \"Wartość zero\")\n",
    "\n",
    "- dostępa w bibliotece pandas, uzupełnianie braków poprzednią wartością (ostatnią przed wystąpieniembraków)"
   ]
  },
  {
   "cell_type": "markdown",
   "id": "9665e7a3",
   "metadata": {},
   "source": [
    "#### - interpolacja - backward fill\n",
    "\n",
    "\n",
    "![alt text](interpolacja_backwardfill.png \"Wartość zero\")\n",
    "\n",
    "- dostępa w bibliotece pandas, uzupełnianie braków następną wartością (pierwszą po wystąpieni braków)"
   ]
  },
  {
   "cell_type": "code",
   "execution_count": null,
   "id": "6299e509",
   "metadata": {},
   "outputs": [],
   "source": []
  }
 ],
 "metadata": {
  "kernelspec": {
   "display_name": "Python 3 (ipykernel)",
   "language": "python",
   "name": "python3"
  },
  "language_info": {
   "codemirror_mode": {
    "name": "ipython",
    "version": 3
   },
   "file_extension": ".py",
   "mimetype": "text/x-python",
   "name": "python",
   "nbconvert_exporter": "python",
   "pygments_lexer": "ipython3",
   "version": "3.8.8"
  }
 },
 "nbformat": 4,
 "nbformat_minor": 5
}
