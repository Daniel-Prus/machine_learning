{
 "cells": [
  {
   "cell_type": "markdown",
   "id": "1aaef1b8",
   "metadata": {},
   "source": [
    "### 1. Zbiory uczenia maszynowego - podział treningowy, testowy, walidacyjny\n",
    "\n",
    "- zbiór danych należy podzielić na dwie części - zmienne opisujące i zmienna docelową\n",
    "\n",
    "\n",
    "- **data** - wszystkie dane, które możemy 'wsadzić' do modelu\n",
    "\n",
    "\n",
    "- **target** - zmienna docelowa, czasami nazywana **label**"
   ]
  },
  {
   "cell_type": "markdown",
   "id": "159a6588",
   "metadata": {},
   "source": [
    "![alt text](zbiory_uczenia_maszynowego.png \"Zbiory\")\n"
   ]
  },
  {
   "cell_type": "markdown",
   "id": "c99c4332",
   "metadata": {},
   "source": [
    "### 2. Ramkę danych - df/dataframe dzielimy na dwie części - zbiór testowy i treningowy"
   ]
  },
  {
   "cell_type": "markdown",
   "id": "e82b6e7a",
   "metadata": {},
   "source": [
    "- zbiór treningowy - **x_train** (data) **y_train** (zmienna docelowa)\n",
    "\n",
    "\n",
    "- zbiór testowy - **x_test** i **y_test** - około **25%** danych (domyślne ustawienie scikit learn).\n",
    "    W przypadku dużego ilości wierszy np. miliony rekordów, zbiór testowy należy pomniejszyć"
   ]
  },
  {
   "cell_type": "markdown",
   "id": "c5a34159",
   "metadata": {},
   "source": [
    "### 3. Zbiór testowy i treningowy - wyjaśnienie\n",
    "\n",
    "![alt text](zbiory_tesyt_train.png \"Zbiory\")"
   ]
  },
  {
   "cell_type": "markdown",
   "id": "a66cc8fd",
   "metadata": {},
   "source": [
    "- wszystkie uzupełnienia danych, obliczenia wykonywane są na zbiorze treningowym\n",
    "\n",
    "\n",
    "- zbiór testowy odkładamy na samym początku i na nim testujemy na końcu, czy przyjęty model się sprawdza np. regresja lub drzewa decyzyjne"
   ]
  },
  {
   "cell_type": "markdown",
   "id": "ba4ca255",
   "metadata": {},
   "source": [
    "### 4. Podział zbiorów na treningowy, walidacyny, testowy - według autora lepszy, lepiej sobie radzi z przeuczeniem i niedouczeniem modelu - generuje mniej błędów"
   ]
  },
  {
   "attachments": {},
   "cell_type": "markdown",
   "id": "b9e1f8fa",
   "metadata": {},
   "source": [
    "![alt text](zbior_walidacyjny.png \"Zbiory\")"
   ]
  },
  {
   "cell_type": "markdown",
   "id": "99aee587",
   "metadata": {},
   "source": [
    "- zbiór walidacyjny służy do oceny procesu trenowania na zbiorze treningowym, a dopiero na samym końcu testowanie na zbiorze testowym. Może się okazać, że model będzie zbyt dopasowany do danych testowych.\n",
    "\n",
    "\n",
    "- zbiór walidacyjny - krok pośredni, który redukuje możliwe błędy"
   ]
  },
  {
   "cell_type": "markdown",
   "id": "ee2f53fc",
   "metadata": {},
   "source": [
    "### 5. Proces ze zbiorem walidacyjnym"
   ]
  },
  {
   "cell_type": "markdown",
   "id": "4f385cee",
   "metadata": {},
   "source": [
    "![alt text](zbior_walidacyjny_proces.png \"Zbiory\")\n",
    "\n",
    "\n",
    "\n",
    "\n",
    "- w tym przypadku zbiór testowy wykorzystywany jest na samym końcu, do potwierdzena wybranego modelu"
   ]
  },
  {
   "cell_type": "code",
   "execution_count": null,
   "id": "b863e0f9",
   "metadata": {},
   "outputs": [],
   "source": []
  }
 ],
 "metadata": {
  "kernelspec": {
   "display_name": "Python 3 (ipykernel)",
   "language": "python",
   "name": "python3"
  },
  "language_info": {
   "codemirror_mode": {
    "name": "ipython",
    "version": 3
   },
   "file_extension": ".py",
   "mimetype": "text/x-python",
   "name": "python",
   "nbconvert_exporter": "python",
   "pygments_lexer": "ipython3",
   "version": "3.8.12"
  }
 },
 "nbformat": 4,
 "nbformat_minor": 5
}
