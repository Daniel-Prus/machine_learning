{
 "cells": [
  {
   "cell_type": "markdown",
   "id": "65eaa5b3",
   "metadata": {},
   "source": [
    "### 1. Regresja logistyczna\n",
    "\n",
    "\n",
    "![alt text](regresja_logistyczna.png \"Regresja logistycznaa\")"
   ]
  },
  {
   "cell_type": "markdown",
   "id": "db9f5e6e",
   "metadata": {},
   "source": [
    "### 2. Funkcja straty\n",
    "\n",
    "\n",
    "\n",
    "![alt text](reg_log_strata.png \"Reglog funkcja straty\")\n",
    "\n",
    "\n",
    "\n",
    "![alt text](reglog_strata_sum.png \"Suma strat\")"
   ]
  },
  {
   "cell_type": "markdown",
   "id": "ed32d950",
   "metadata": {},
   "source": [
    "### 3. Model regresji i funkcja decyzyjna\n",
    "\n",
    "\n",
    "![alt text](reglog_scoring.png \"SCoring\")"
   ]
  },
  {
   "cell_type": "markdown",
   "id": "db49f340",
   "metadata": {},
   "source": [
    "#### a) czarna linia - funkcja decyzyjna (poziom 0.5):\n",
    "    - wszystko co powyżej 0.5 - klasyfikacja 1, poniżej 0"
   ]
  },
  {
   "cell_type": "markdown",
   "id": "b8d417c1",
   "metadata": {},
   "source": [
    "###  <a name='a2'></a>  Regresja Logistyczna (Logistic Regression) - wprowadzenie\n",
    "\n",
    "Pomimo nazwy jest to liniowy model do zadań klasyfikacyjnych. Inna nazwa Logit Regression. \n",
    "\n",
    "#### Przykłady zastosowań:\n",
    "- przewidywanie czy mail jest spamem, czy też nie\n",
    "- przewidywanie czy użytkownik kliknie w reklamę\n",
    "- przewidywanie czy nowotwór jest złośliwy czy też nie\n",
    "- przewidywanie czy dłużnik spłaci wierzycielowi dług, czy też zajdzie zdarzenie default\n",
    "- przewidywanie czy transakcja jest próbą oszustwa\n",
    "\n",
    "Przy budowie modelu regresji logistycznej wykorzystamy funkcję sigmoid. Definiuje się ją wzorem:\n",
    "$$sigmoid(x) = \\frac{1}{1+e^{-x}}$$"
   ]
  },
  {
   "cell_type": "code",
   "execution_count": null,
   "id": "54fdec4f",
   "metadata": {},
   "outputs": [],
   "source": []
  }
 ],
 "metadata": {
  "kernelspec": {
   "display_name": "Python 3 (ipykernel)",
   "language": "python",
   "name": "python3"
  },
  "language_info": {
   "codemirror_mode": {
    "name": "ipython",
    "version": 3
   },
   "file_extension": ".py",
   "mimetype": "text/x-python",
   "name": "python",
   "nbconvert_exporter": "python",
   "pygments_lexer": "ipython3",
   "version": "3.8.12"
  }
 },
 "nbformat": 4,
 "nbformat_minor": 5
}
