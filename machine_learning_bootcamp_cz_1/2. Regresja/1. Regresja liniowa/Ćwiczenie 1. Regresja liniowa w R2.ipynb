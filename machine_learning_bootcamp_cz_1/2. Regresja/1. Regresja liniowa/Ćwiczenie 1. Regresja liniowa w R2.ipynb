{
 "cells": [
  {
   "cell_type": "markdown",
   "id": "cf01a75d",
   "metadata": {},
   "source": [
    "#### 1. Regresja liniowa w R2:\n",
    "\n",
    "- zaimportuj potrzebne bilbioteki\n",
    "\n",
    "- ustaw ziarno losowe na 42\n",
    "\n",
    "- zmień wielkość czcionki dla biblioteki seaborn na - 1.3\n",
    "\n",
    "#### 2. Stwórz zbiór danych (data, target) z biblioteki sklearn z parametrami:\n",
    "\n",
    "- n_samples=1000, n_features=1, n_targets=1, noise=15, random_state=42\n",
    "\n",
    "- co oznaczają te parametry??\n",
    "\n",
    "- zbadaj wstępnie dane - shape, corr itd.\n",
    "\n",
    "\n",
    "#### 3. Regresja liniowa w sklearn:\n",
    "\n",
    "- przygotuj dane - podziel na zbiór testowy(0.25) i treningowy (0.75)\n",
    "\n",
    "- wyprintuj najważniejsze dane na temat wzorów\n",
    "\n",
    "- zwizualizuj za pomocą matplotlib (z tłem z seaborn) zbiór test i train\n",
    "\n",
    "- stwóz model regresji liniowej - sprawdź score, coef i intercept\n",
    "\n",
    "- sprawdź score na modelu testowym - jaki jest wyniik ? jaki powinien być ? (czy mniejszy, czy większy)\n",
    "\n",
    "- zwizualizuj zbiór testowy, treningowy, oba (z linią modelu regresji)\n",
    "\n",
    "\n",
    "\n",
    "#### 4. Stwórz predykcję na podstawie modelu (sklearn):\n",
    "\n",
    "- zbuduj df z y_true i y_pred i porównaj wyniki\n",
    "\n",
    "- dołącz do df serię 'error'\n",
    "\n",
    "- przeanalizuj dane np. za pomocą histogramu (pamiętaj o bins) i np.liniowego\n",
    "\n",
    "\n",
    "#### 5. Spróbuj wykonać te wszystkie kroki dla 'równania normalnego' i 'metody spadku gradientu' i oczywiście ręczną predykcję "
   ]
  },
  {
   "cell_type": "code",
   "execution_count": 1,
   "id": "809f31be",
   "metadata": {},
   "outputs": [],
   "source": [
    "import numpy as np\n",
    "import pandas as pd\n",
    "import matplotlib.pyplot as plt\n",
    "import seaborn as sns\n",
    "sns.set(font_scale=1.3)\n",
    "\n",
    "np.random.seed(42)"
   ]
  },
  {
   "cell_type": "markdown",
   "id": "bb2d3263",
   "metadata": {},
   "source": [
    "### 1. Przygotowanie danych"
   ]
  },
  {
   "cell_type": "code",
   "execution_count": 2,
   "id": "10e28df6",
   "metadata": {},
   "outputs": [],
   "source": [
    "from sklearn.datasets import make_regression"
   ]
  },
  {
   "cell_type": "code",
   "execution_count": 3,
   "id": "47e5b831",
   "metadata": {},
   "outputs": [],
   "source": [
    "data_sample, target_sample = make_regression(n_samples=1000, n_features=1, n_targets=1, noise=15, random_state=42)"
   ]
  },
  {
   "cell_type": "code",
   "execution_count": 4,
   "id": "4e6e20b6",
   "metadata": {},
   "outputs": [
    {
     "data": {
      "text/plain": [
       "array([[ -1.75873949, -34.42766754],\n",
       "       [  1.03184454,  -3.3839128 ],\n",
       "       [ -0.48760622, -22.81218402],\n",
       "       [  0.18645431,  -7.54669436],\n",
       "       [  0.72576662,  13.5802331 ]])"
      ]
     },
     "execution_count": 4,
     "metadata": {},
     "output_type": "execute_result"
    }
   ],
   "source": [
    "data_numpy = np.c_[data_sample, target_sample]\n",
    "\n",
    "data_numpy[:5]"
   ]
  },
  {
   "cell_type": "code",
   "execution_count": 5,
   "id": "b6e79749",
   "metadata": {},
   "outputs": [],
   "source": [
    "df_raw = pd.DataFrame(data_numpy, columns=['data', 'target'])\n",
    "df = df_raw.copy()"
   ]
  },
  {
   "cell_type": "code",
   "execution_count": 6,
   "id": "840c9585",
   "metadata": {},
   "outputs": [
    {
     "data": {
      "text/html": [
       "<div>\n",
       "<style scoped>\n",
       "    .dataframe tbody tr th:only-of-type {\n",
       "        vertical-align: middle;\n",
       "    }\n",
       "\n",
       "    .dataframe tbody tr th {\n",
       "        vertical-align: top;\n",
       "    }\n",
       "\n",
       "    .dataframe thead th {\n",
       "        text-align: right;\n",
       "    }\n",
       "</style>\n",
       "<table border=\"1\" class=\"dataframe\">\n",
       "  <thead>\n",
       "    <tr style=\"text-align: right;\">\n",
       "      <th></th>\n",
       "      <th>data</th>\n",
       "      <th>target</th>\n",
       "    </tr>\n",
       "  </thead>\n",
       "  <tbody>\n",
       "    <tr>\n",
       "      <th>0</th>\n",
       "      <td>-1.758739</td>\n",
       "      <td>-34.427668</td>\n",
       "    </tr>\n",
       "    <tr>\n",
       "      <th>1</th>\n",
       "      <td>1.031845</td>\n",
       "      <td>-3.383913</td>\n",
       "    </tr>\n",
       "    <tr>\n",
       "      <th>2</th>\n",
       "      <td>-0.487606</td>\n",
       "      <td>-22.812184</td>\n",
       "    </tr>\n",
       "    <tr>\n",
       "      <th>3</th>\n",
       "      <td>0.186454</td>\n",
       "      <td>-7.546694</td>\n",
       "    </tr>\n",
       "    <tr>\n",
       "      <th>4</th>\n",
       "      <td>0.725767</td>\n",
       "      <td>13.580233</td>\n",
       "    </tr>\n",
       "  </tbody>\n",
       "</table>\n",
       "</div>"
      ],
      "text/plain": [
       "       data     target\n",
       "0 -1.758739 -34.427668\n",
       "1  1.031845  -3.383913\n",
       "2 -0.487606 -22.812184\n",
       "3  0.186454  -7.546694\n",
       "4  0.725767  13.580233"
      ]
     },
     "execution_count": 6,
     "metadata": {},
     "output_type": "execute_result"
    }
   ],
   "source": [
    "df.head(5)"
   ]
  },
  {
   "cell_type": "markdown",
   "id": "f6e07d99",
   "metadata": {},
   "source": [
    "### 2. Wstępna analiza danych"
   ]
  },
  {
   "cell_type": "code",
   "execution_count": 7,
   "id": "ba73ad49",
   "metadata": {
    "scrolled": true
   },
   "outputs": [
    {
     "name": "stdout",
     "output_type": "stream",
     "text": [
      "<class 'pandas.core.frame.DataFrame'>\n",
      "RangeIndex: 1000 entries, 0 to 999\n",
      "Data columns (total 2 columns):\n",
      " #   Column  Non-Null Count  Dtype  \n",
      "---  ------  --------------  -----  \n",
      " 0   data    1000 non-null   float64\n",
      " 1   target  1000 non-null   float64\n",
      "dtypes: float64(2)\n",
      "memory usage: 15.8 KB\n"
     ]
    }
   ],
   "source": [
    "df.info()"
   ]
  },
  {
   "cell_type": "code",
   "execution_count": 8,
   "id": "826a262c",
   "metadata": {},
   "outputs": [
    {
     "data": {
      "text/plain": [
       "data      0\n",
       "target    0\n",
       "dtype: int64"
      ]
     },
     "execution_count": 8,
     "metadata": {},
     "output_type": "execute_result"
    }
   ],
   "source": [
    "df.isnull().sum()"
   ]
  },
  {
   "cell_type": "code",
   "execution_count": 9,
   "id": "145ee711",
   "metadata": {},
   "outputs": [
    {
     "data": {
      "text/html": [
       "<div>\n",
       "<style scoped>\n",
       "    .dataframe tbody tr th:only-of-type {\n",
       "        vertical-align: middle;\n",
       "    }\n",
       "\n",
       "    .dataframe tbody tr th {\n",
       "        vertical-align: top;\n",
       "    }\n",
       "\n",
       "    .dataframe thead th {\n",
       "        text-align: right;\n",
       "    }\n",
       "</style>\n",
       "<table border=\"1\" class=\"dataframe\">\n",
       "  <thead>\n",
       "    <tr style=\"text-align: right;\">\n",
       "      <th></th>\n",
       "      <th>data</th>\n",
       "      <th>target</th>\n",
       "    </tr>\n",
       "  </thead>\n",
       "  <tbody>\n",
       "    <tr>\n",
       "      <th>data</th>\n",
       "      <td>1.000000</td>\n",
       "      <td>0.737629</td>\n",
       "    </tr>\n",
       "    <tr>\n",
       "      <th>target</th>\n",
       "      <td>0.737629</td>\n",
       "      <td>1.000000</td>\n",
       "    </tr>\n",
       "  </tbody>\n",
       "</table>\n",
       "</div>"
      ],
      "text/plain": [
       "            data    target\n",
       "data    1.000000  0.737629\n",
       "target  0.737629  1.000000"
      ]
     },
     "execution_count": 9,
     "metadata": {},
     "output_type": "execute_result"
    }
   ],
   "source": [
    "df.corr()"
   ]
  },
  {
   "cell_type": "code",
   "execution_count": 10,
   "id": "7f1f59f4",
   "metadata": {
    "scrolled": true
   },
   "outputs": [
    {
     "data": {
      "text/html": [
       "<div>\n",
       "<style scoped>\n",
       "    .dataframe tbody tr th:only-of-type {\n",
       "        vertical-align: middle;\n",
       "    }\n",
       "\n",
       "    .dataframe tbody tr th {\n",
       "        vertical-align: top;\n",
       "    }\n",
       "\n",
       "    .dataframe thead th {\n",
       "        text-align: right;\n",
       "    }\n",
       "</style>\n",
       "<table border=\"1\" class=\"dataframe\">\n",
       "  <thead>\n",
       "    <tr style=\"text-align: right;\">\n",
       "      <th></th>\n",
       "      <th>count</th>\n",
       "      <th>mean</th>\n",
       "      <th>std</th>\n",
       "      <th>min</th>\n",
       "      <th>25%</th>\n",
       "      <th>50%</th>\n",
       "      <th>75%</th>\n",
       "      <th>max</th>\n",
       "    </tr>\n",
       "  </thead>\n",
       "  <tbody>\n",
       "    <tr>\n",
       "      <th>data</th>\n",
       "      <td>1000.0</td>\n",
       "      <td>0.019332</td>\n",
       "      <td>0.979216</td>\n",
       "      <td>-3.241267</td>\n",
       "      <td>-0.64759</td>\n",
       "      <td>0.025301</td>\n",
       "      <td>0.647944</td>\n",
       "      <td>3.852731</td>\n",
       "    </tr>\n",
       "    <tr>\n",
       "      <th>target</th>\n",
       "      <td>1000.0</td>\n",
       "      <td>0.388345</td>\n",
       "      <td>22.005193</td>\n",
       "      <td>-63.910421</td>\n",
       "      <td>-14.30009</td>\n",
       "      <td>0.881963</td>\n",
       "      <td>13.829938</td>\n",
       "      <td>69.022219</td>\n",
       "    </tr>\n",
       "  </tbody>\n",
       "</table>\n",
       "</div>"
      ],
      "text/plain": [
       "         count      mean        std        min       25%       50%        75%  \\\n",
       "data    1000.0  0.019332   0.979216  -3.241267  -0.64759  0.025301   0.647944   \n",
       "target  1000.0  0.388345  22.005193 -63.910421 -14.30009  0.881963  13.829938   \n",
       "\n",
       "              max  \n",
       "data     3.852731  \n",
       "target  69.022219  "
      ]
     },
     "execution_count": 10,
     "metadata": {},
     "output_type": "execute_result"
    }
   ],
   "source": [
    "df.describe().T"
   ]
  },
  {
   "cell_type": "code",
   "execution_count": 11,
   "id": "41ddf7ea",
   "metadata": {},
   "outputs": [
    {
     "data": {
      "text/plain": [
       "0.025300612234888248"
      ]
     },
     "execution_count": 11,
     "metadata": {},
     "output_type": "execute_result"
    }
   ],
   "source": [
    "df.data.median()"
   ]
  },
  {
   "cell_type": "code",
   "execution_count": 12,
   "id": "c46b7495",
   "metadata": {},
   "outputs": [
    {
     "data": {
      "text/plain": [
       "data      0.116976\n",
       "target    0.082636\n",
       "dtype: float64"
      ]
     },
     "execution_count": 12,
     "metadata": {},
     "output_type": "execute_result"
    }
   ],
   "source": [
    "df.skew()"
   ]
  },
  {
   "cell_type": "code",
   "execution_count": 13,
   "id": "995d511c",
   "metadata": {},
   "outputs": [
    {
     "data": {
      "text/plain": [
       "<AxesSubplot:ylabel='Frequency'>"
      ]
     },
     "execution_count": 13,
     "metadata": {},
     "output_type": "execute_result"
    },
    {
     "data": {
      "image/png": "[encoded data removed]",
      "text/plain": [
       "<Figure size 720x360 with 1 Axes>"
      ]
     },
     "metadata": {},
     "output_type": "display_data"
    }
   ],
   "source": [
    "df.data.plot(kind='hist', bins=100, figsize = (10,5))"
   ]
  },
  {
   "cell_type": "markdown",
   "id": "0062029d",
   "metadata": {},
   "source": [
    "### 3. Podział zbiorów"
   ]
  },
  {
   "cell_type": "code",
   "execution_count": 14,
   "id": "bd539bce",
   "metadata": {},
   "outputs": [],
   "source": [
    "data = df\n",
    "target = df.pop('target')"
   ]
  },
  {
   "cell_type": "code",
   "execution_count": 15,
   "id": "7cac2862",
   "metadata": {},
   "outputs": [],
   "source": [
    "from sklearn.model_selection import train_test_split"
   ]
  },
  {
   "cell_type": "code",
   "execution_count": 16,
   "id": "3a31244e",
   "metadata": {},
   "outputs": [
    {
     "name": "stdout",
     "output_type": "stream",
     "text": [
      "data shape: (1000, 1)\n",
      "target shape: (1000,)\n",
      "\n",
      "X_train shape: (750, 1)\n",
      "X_test shape: (250, 1)\n",
      "y_train shape: (750,)\n",
      "y_test shape: (250,)\n",
      "\n",
      "X_train ratio: 0.75\n",
      "X_test ratio: 0.25\n",
      "y_train  ratio: 0.75\n",
      "y_test ratio: 0.25\n"
     ]
    }
   ],
   "source": [
    "X_train, X_test, y_train, y_test = train_test_split(data, target, test_size=0.25)\n",
    "\n",
    "print (f'data shape: {data.shape}')\n",
    "print (f'target shape: {target.shape}\\n')\n",
    "print (f'X_train shape: {X_train.shape}')\n",
    "print (f'X_test shape: {X_test.shape}')\n",
    "print (f'y_train shape: {y_train.shape}')\n",
    "print (f'y_test shape: {y_test.shape}\\n')\n",
    "\n",
    "print (f'X_train ratio: {len(X_train)/ len(data)}')\n",
    "print (f'X_test ratio: {len(X_test)/ len(data)}')\n",
    "print (f'y_train  ratio: {len(y_train)/ len(data)}')\n",
    "print (f'y_test ratio: {len(y_test)/ len(data)}')"
   ]
  },
  {
   "cell_type": "code",
   "execution_count": 17,
   "id": "64e70981",
   "metadata": {},
   "outputs": [
    {
     "data": {
      "image/png": "[encoded data removed]",
      "text/plain": [
       "<Figure size 576x432 with 1 Axes>"
      ]
     },
     "metadata": {},
     "output_type": "display_data"
    }
   ],
   "source": [
    "plt.figure (figsize=(8,6))\n",
    "plt.title ('Train vs Test')\n",
    "plt.xlabel('Predictor')\n",
    "plt.xlabel('Response')\n",
    "plt.scatter(X_train, y_train, color='grey', alpha=0.5)\n",
    "plt.scatter(X_test, y_test, color='yellow', alpha=0.5);"
   ]
  },
  {
   "cell_type": "markdown",
   "id": "69bc57f3",
   "metadata": {},
   "source": [
    "### 4. Regression model"
   ]
  },
  {
   "cell_type": "code",
   "execution_count": 18,
   "id": "69e39b89",
   "metadata": {},
   "outputs": [],
   "source": [
    "from sklearn.linear_model import LinearRegression"
   ]
  },
  {
   "cell_type": "code",
   "execution_count": 19,
   "id": "6fd01ceb",
   "metadata": {},
   "outputs": [
    {
     "data": {
      "text/plain": [
       "LinearRegression()"
      ]
     },
     "execution_count": 19,
     "metadata": {},
     "output_type": "execute_result"
    }
   ],
   "source": [
    "reg = LinearRegression()\n",
    "reg.fit(X_train, y_train)"
   ]
  },
  {
   "cell_type": "code",
   "execution_count": 20,
   "id": "8bdce96d",
   "metadata": {},
   "outputs": [
    {
     "name": "stdout",
     "output_type": "stream",
     "text": [
      "Coef: 16.7781\n",
      "Intercept: 0.047775428476506565\n"
     ]
    }
   ],
   "source": [
    "print (f'Coef: {reg.coef_[0]:.4f}')\n",
    "print (f'Intercept: {reg.intercept_}')"
   ]
  },
  {
   "cell_type": "code",
   "execution_count": 21,
   "id": "35ee8009",
   "metadata": {},
   "outputs": [
    {
     "data": {
      "text/plain": [
       "0.5550440098049001"
      ]
     },
     "execution_count": 21,
     "metadata": {},
     "output_type": "execute_result"
    }
   ],
   "source": [
    "reg.score(X_train, y_train)"
   ]
  },
  {
   "cell_type": "code",
   "execution_count": 22,
   "id": "1a2cb570",
   "metadata": {},
   "outputs": [
    {
     "data": {
      "text/plain": [
       "0.5108438585354155"
      ]
     },
     "execution_count": 22,
     "metadata": {},
     "output_type": "execute_result"
    }
   ],
   "source": [
    "reg.score(X_test, y_test)"
   ]
  },
  {
   "cell_type": "code",
   "execution_count": 23,
   "id": "7d10492f",
   "metadata": {},
   "outputs": [
    {
     "data": {
      "text/plain": [
       "<matplotlib.legend.Legend at 0x24d73d38670>"
      ]
     },
     "execution_count": 23,
     "metadata": {},
     "output_type": "execute_result"
    },
    {
     "data": {
      "image/png": "[encoded data removed]",
      "text/plain": [
       "<Figure size 576x360 with 1 Axes>"
      ]
     },
     "metadata": {},
     "output_type": "display_data"
    }
   ],
   "source": [
    "plt.figure (figsize=(8,5))\n",
    "plt.title ('Train vs Test')\n",
    "plt.xlabel('Predictor')\n",
    "plt.xlabel('Response')\n",
    "plt.scatter(X_train, y_train, color='grey', alpha=0.5, label = 'train set')\n",
    "plt.scatter(X_test, y_test, color='yellow', alpha=0.5, label = 'test set');\n",
    "plt.plot(X_train, reg.intercept_ + reg.coef_ * X_train, label = 'model', color='red')\n",
    "plt.legend()"
   ]
  },
  {
   "cell_type": "code",
   "execution_count": 24,
   "id": "7f754ecf",
   "metadata": {
    "scrolled": true
   },
   "outputs": [
    {
     "data": {
      "text/plain": [
       "<matplotlib.legend.Legend at 0x24d73d9f7f0>"
      ]
     },
     "execution_count": 24,
     "metadata": {},
     "output_type": "execute_result"
    },
    {
     "data": {
      "image/png": "[encoded data removed]",
      "text/plain": [
       "<Figure size 576x360 with 1 Axes>"
      ]
     },
     "metadata": {},
     "output_type": "display_data"
    }
   ],
   "source": [
    "plt.figure (figsize=(8,5))\n",
    "plt.title ('Train vs Test')\n",
    "plt.xlabel('Predictor')\n",
    "plt.xlabel('Response')\n",
    "plt.scatter(X_test, y_test, color='blue', alpha=0.5, label = 'test set');\n",
    "plt.plot(X_test, reg.intercept_ + reg.coef_ * X_test, label = 'model', color='red')\n",
    "plt.legend()"
   ]
  },
  {
   "cell_type": "markdown",
   "id": "0d7f7e19",
   "metadata": {},
   "source": [
    "#### - predykcja"
   ]
  },
  {
   "cell_type": "code",
   "execution_count": 25,
   "id": "1589c1a3",
   "metadata": {},
   "outputs": [],
   "source": [
    "y_pred = reg.predict(X_test)"
   ]
  },
  {
   "cell_type": "code",
   "execution_count": 26,
   "id": "a0a7f15f",
   "metadata": {},
   "outputs": [],
   "source": [
    "y_true = y_test.copy()"
   ]
  },
  {
   "cell_type": "code",
   "execution_count": 27,
   "id": "03d87099",
   "metadata": {},
   "outputs": [],
   "source": [
    "predictions = pd.DataFrame (data={'y_true': y_true, 'y_pred': y_pred, 'errors': y_true - y_pred})"
   ]
  },
  {
   "cell_type": "code",
   "execution_count": 28,
   "id": "b78f9cb9",
   "metadata": {
    "scrolled": false
   },
   "outputs": [
    {
     "data": {
      "text/html": [
       "<div>\n",
       "<style scoped>\n",
       "    .dataframe tbody tr th:only-of-type {\n",
       "        vertical-align: middle;\n",
       "    }\n",
       "\n",
       "    .dataframe tbody tr th {\n",
       "        vertical-align: top;\n",
       "    }\n",
       "\n",
       "    .dataframe thead th {\n",
       "        text-align: right;\n",
       "    }\n",
       "</style>\n",
       "<table border=\"1\" class=\"dataframe\">\n",
       "  <thead>\n",
       "    <tr style=\"text-align: right;\">\n",
       "      <th></th>\n",
       "      <th>y_true</th>\n",
       "      <th>y_pred</th>\n",
       "      <th>errors</th>\n",
       "    </tr>\n",
       "  </thead>\n",
       "  <tbody>\n",
       "    <tr>\n",
       "      <th>521</th>\n",
       "      <td>30.876983</td>\n",
       "      <td>25.601338</td>\n",
       "      <td>5.275646</td>\n",
       "    </tr>\n",
       "    <tr>\n",
       "      <th>737</th>\n",
       "      <td>1.850537</td>\n",
       "      <td>5.954600</td>\n",
       "      <td>-4.104063</td>\n",
       "    </tr>\n",
       "    <tr>\n",
       "      <th>740</th>\n",
       "      <td>30.604981</td>\n",
       "      <td>31.624589</td>\n",
       "      <td>-1.019608</td>\n",
       "    </tr>\n",
       "    <tr>\n",
       "      <th>660</th>\n",
       "      <td>-9.092543</td>\n",
       "      <td>-16.490844</td>\n",
       "      <td>7.398301</td>\n",
       "    </tr>\n",
       "    <tr>\n",
       "      <th>411</th>\n",
       "      <td>-36.311708</td>\n",
       "      <td>-10.800495</td>\n",
       "      <td>-25.511212</td>\n",
       "    </tr>\n",
       "    <tr>\n",
       "      <th>...</th>\n",
       "      <td>...</td>\n",
       "      <td>...</td>\n",
       "      <td>...</td>\n",
       "    </tr>\n",
       "    <tr>\n",
       "      <th>109</th>\n",
       "      <td>-23.004471</td>\n",
       "      <td>7.501674</td>\n",
       "      <td>-30.506145</td>\n",
       "    </tr>\n",
       "    <tr>\n",
       "      <th>430</th>\n",
       "      <td>-19.329526</td>\n",
       "      <td>5.485292</td>\n",
       "      <td>-24.814818</td>\n",
       "    </tr>\n",
       "    <tr>\n",
       "      <th>77</th>\n",
       "      <td>-8.955240</td>\n",
       "      <td>-2.098440</td>\n",
       "      <td>-6.856800</td>\n",
       "    </tr>\n",
       "    <tr>\n",
       "      <th>84</th>\n",
       "      <td>12.075009</td>\n",
       "      <td>36.174107</td>\n",
       "      <td>-24.099099</td>\n",
       "    </tr>\n",
       "    <tr>\n",
       "      <th>286</th>\n",
       "      <td>7.872992</td>\n",
       "      <td>5.645995</td>\n",
       "      <td>2.226997</td>\n",
       "    </tr>\n",
       "  </tbody>\n",
       "</table>\n",
       "<p>250 rows × 3 columns</p>\n",
       "</div>"
      ],
      "text/plain": [
       "        y_true     y_pred     errors\n",
       "521  30.876983  25.601338   5.275646\n",
       "737   1.850537   5.954600  -4.104063\n",
       "740  30.604981  31.624589  -1.019608\n",
       "660  -9.092543 -16.490844   7.398301\n",
       "411 -36.311708 -10.800495 -25.511212\n",
       "..         ...        ...        ...\n",
       "109 -23.004471   7.501674 -30.506145\n",
       "430 -19.329526   5.485292 -24.814818\n",
       "77   -8.955240  -2.098440  -6.856800\n",
       "84   12.075009  36.174107 -24.099099\n",
       "286   7.872992   5.645995   2.226997\n",
       "\n",
       "[250 rows x 3 columns]"
      ]
     },
     "execution_count": 28,
     "metadata": {},
     "output_type": "execute_result"
    }
   ],
   "source": [
    "predictions"
   ]
  },
  {
   "cell_type": "code",
   "execution_count": 29,
   "id": "8295face",
   "metadata": {
    "scrolled": true
   },
   "outputs": [
    {
     "data": {
      "text/plain": [
       "<AxesSubplot:ylabel='Frequency'>"
      ]
     },
     "execution_count": 29,
     "metadata": {},
     "output_type": "execute_result"
    },
    {
     "data": {
      "image/png": "[encoded data removed]",
      "text/plain": [
       "<Figure size 432x288 with 1 Axes>"
      ]
     },
     "metadata": {},
     "output_type": "display_data"
    }
   ],
   "source": [
    "predictions['errors'].plot(kind='hist', bins=50)"
   ]
  },
  {
   "cell_type": "code",
   "execution_count": 30,
   "id": "143d2188",
   "metadata": {},
   "outputs": [],
   "source": [
    "from scipy import stats"
   ]
  },
  {
   "cell_type": "code",
   "execution_count": 31,
   "id": "e5eb4027",
   "metadata": {
    "scrolled": true
   },
   "outputs": [
    {
     "data": {
      "text/html": [
       "<div>\n",
       "<style scoped>\n",
       "    .dataframe tbody tr th:only-of-type {\n",
       "        vertical-align: middle;\n",
       "    }\n",
       "\n",
       "    .dataframe tbody tr th {\n",
       "        vertical-align: top;\n",
       "    }\n",
       "\n",
       "    .dataframe thead th {\n",
       "        text-align: right;\n",
       "    }\n",
       "</style>\n",
       "<table border=\"1\" class=\"dataframe\">\n",
       "  <thead>\n",
       "    <tr style=\"text-align: right;\">\n",
       "      <th></th>\n",
       "      <th>y_true</th>\n",
       "      <th>y_pred</th>\n",
       "      <th>errors</th>\n",
       "    </tr>\n",
       "  </thead>\n",
       "  <tbody>\n",
       "    <tr>\n",
       "      <th>0</th>\n",
       "      <td>2.273262</td>\n",
       "      <td>2.467266</td>\n",
       "      <td>0.321534</td>\n",
       "    </tr>\n",
       "    <tr>\n",
       "      <th>1</th>\n",
       "      <td>0.320898</td>\n",
       "      <td>0.291233</td>\n",
       "      <td>0.851491</td>\n",
       "    </tr>\n",
       "  </tbody>\n",
       "</table>\n",
       "</div>"
      ],
      "text/plain": [
       "     y_true    y_pred    errors\n",
       "0  2.273262  2.467266  0.321534\n",
       "1  0.320898  0.291233  0.851491"
      ]
     },
     "execution_count": 31,
     "metadata": {},
     "output_type": "execute_result"
    }
   ],
   "source": [
    "predictions.apply(stats.normaltest)"
   ]
  },
  {
   "cell_type": "code",
   "execution_count": 32,
   "id": "56fd676a",
   "metadata": {},
   "outputs": [
    {
     "data": {
      "text/plain": [
       "NormaltestResult(statistic=array([2.27326184, 2.46726603, 0.32153376]), pvalue=array([0.32089833, 0.2912326 , 0.85149055]))"
      ]
     },
     "execution_count": 32,
     "metadata": {},
     "output_type": "execute_result"
    }
   ],
   "source": [
    "stats.normaltest(predictions)"
   ]
  },
  {
   "cell_type": "markdown",
   "id": "ee9a449d",
   "metadata": {},
   "source": [
    "### 5. Statsmodel"
   ]
  },
  {
   "cell_type": "code",
   "execution_count": 33,
   "id": "2578555e",
   "metadata": {},
   "outputs": [],
   "source": [
    "import statsmodels.api as sm"
   ]
  },
  {
   "cell_type": "code",
   "execution_count": 34,
   "id": "0a234505",
   "metadata": {},
   "outputs": [],
   "source": [
    "X_train_np = X_train.values\n",
    "X_train_np = sm.add_constant(X_train_np)"
   ]
  },
  {
   "cell_type": "code",
   "execution_count": 35,
   "id": "b7d2aaba",
   "metadata": {},
   "outputs": [
    {
     "data": {
      "text/plain": [
       "array([[ 1.        ,  0.17136828],\n",
       "       [ 1.        ,  0.35701549],\n",
       "       [ 1.        , -0.32206152],\n",
       "       ...,\n",
       "       [ 1.        , -0.68105166],\n",
       "       [ 1.        ,  0.72167206],\n",
       "       [ 1.        , -0.03498849]])"
      ]
     },
     "execution_count": 35,
     "metadata": {},
     "output_type": "execute_result"
    }
   ],
   "source": [
    "X_train_np"
   ]
  },
  {
   "cell_type": "code",
   "execution_count": 36,
   "id": "0ba3fcc5",
   "metadata": {},
   "outputs": [],
   "source": [
    "ols = sm.OLS(y_train, X_train_np).fit()"
   ]
  },
  {
   "cell_type": "code",
   "execution_count": 37,
   "id": "467954a9",
   "metadata": {},
   "outputs": [
    {
     "name": "stdout",
     "output_type": "stream",
     "text": [
      "                            OLS Regression Results                            \n",
      "==============================================================================\n",
      "Dep. Variable:                 target   R-squared:                       0.555\n",
      "Model:                            OLS   Adj. R-squared:                  0.554\n",
      "Method:                 Least Squares   F-statistic:                     933.1\n",
      "Date:                Wed, 24 Nov 2021   Prob (F-statistic):          1.16e-133\n",
      "Time:                        00:43:03   Log-Likelihood:                -3078.9\n",
      "No. Observations:                 750   AIC:                             6162.\n",
      "Df Residuals:                     748   BIC:                             6171.\n",
      "Df Model:                           1                                         \n",
      "Covariance Type:            nonrobust                                         \n",
      "==============================================================================\n",
      "                 coef    std err          t      P>|t|      [0.025      0.975]\n",
      "------------------------------------------------------------------------------\n",
      "const          0.0478      0.537      0.089      0.929      -1.006       1.101\n",
      "x1            16.7781      0.549     30.546      0.000      15.700      17.856\n",
      "==============================================================================\n",
      "Omnibus:                        0.051   Durbin-Watson:                   1.988\n",
      "Prob(Omnibus):                  0.975   Jarque-Bera (JB):                0.116\n",
      "Skew:                           0.004   Prob(JB):                        0.944\n",
      "Kurtosis:                       2.940   Cond. No.                         1.03\n",
      "==============================================================================\n",
      "\n",
      "Notes:\n",
      "[1] Standard Errors assume that the covariance matrix of the errors is correctly specified.\n"
     ]
    }
   ],
   "source": [
    "print (ols.summary())"
   ]
  },
  {
   "cell_type": "markdown",
   "id": "be1c8405",
   "metadata": {},
   "source": [
    "### 6. Równanie normalne:"
   ]
  },
  {
   "cell_type": "code",
   "execution_count": 115,
   "id": "eb43b639",
   "metadata": {},
   "outputs": [],
   "source": [
    "X1 =X_train.to_numpy()"
   ]
  },
  {
   "cell_type": "code",
   "execution_count": 116,
   "id": "a091285c",
   "metadata": {},
   "outputs": [
    {
     "data": {
      "text/plain": [
       "array([[  5.55923929],\n",
       "       [ 14.50600264],\n",
       "       [-20.82408443],\n",
       "       [ 13.70565689],\n",
       "       [-20.21460463]])"
      ]
     },
     "execution_count": 116,
     "metadata": {},
     "output_type": "execute_result"
    }
   ],
   "source": [
    "y = y_train.to_numpy()\n",
    "y = y.reshape((len(X1), 1))\n",
    "y[:5]"
   ]
  },
  {
   "cell_type": "code",
   "execution_count": 117,
   "id": "96618018",
   "metadata": {},
   "outputs": [
    {
     "data": {
      "text/plain": [
       "array([[ 0.17136828],\n",
       "       [ 0.35701549],\n",
       "       [-0.32206152],\n",
       "       [ 0.68605146],\n",
       "       [-1.33534436]])"
      ]
     },
     "execution_count": 117,
     "metadata": {},
     "output_type": "execute_result"
    }
   ],
   "source": [
    "X1[:5]"
   ]
  },
  {
   "cell_type": "code",
   "execution_count": 118,
   "id": "f608fe60",
   "metadata": {},
   "outputs": [],
   "source": [
    "bias = np.ones((len(X1),1))"
   ]
  },
  {
   "cell_type": "code",
   "execution_count": 119,
   "id": "f428e729",
   "metadata": {},
   "outputs": [],
   "source": [
    "X = np.append(bias, X1,axis=1)"
   ]
  },
  {
   "cell_type": "code",
   "execution_count": 120,
   "id": "4dcd46f2",
   "metadata": {},
   "outputs": [],
   "source": [
    "L = np.linalg.inv(np.dot(X.T, X))"
   ]
  },
  {
   "cell_type": "code",
   "execution_count": 121,
   "id": "19864dc2",
   "metadata": {},
   "outputs": [],
   "source": [
    "P = np.dot(X.T,y)"
   ]
  },
  {
   "cell_type": "code",
   "execution_count": 122,
   "id": "bfd23182",
   "metadata": {},
   "outputs": [
    {
     "data": {
      "text/plain": [
       "array([[ 0.04777543],\n",
       "       [16.77810981]])"
      ]
     },
     "execution_count": 122,
     "metadata": {},
     "output_type": "execute_result"
    }
   ],
   "source": [
    "W= np.dot(L,P)\n",
    "W"
   ]
  },
  {
   "cell_type": "markdown",
   "id": "cf1d10f8",
   "metadata": {},
   "source": [
    "### 7. Spadek wzdłuż gradientu:"
   ]
  },
  {
   "cell_type": "markdown",
   "id": "3d64387d",
   "metadata": {},
   "source": [
    "#### - przygotowanie danych"
   ]
  },
  {
   "cell_type": "code",
   "execution_count": 149,
   "id": "40a6ab6f",
   "metadata": {},
   "outputs": [],
   "source": [
    "np.random.seed(42)"
   ]
  },
  {
   "cell_type": "code",
   "execution_count": 150,
   "id": "f2224f26",
   "metadata": {},
   "outputs": [],
   "source": [
    "X1 = X_train.to_numpy()\n",
    "Y = y_train.to_numpy()\n",
    "m = len(X1)\n",
    "Y = Y.reshape((m,1))"
   ]
  },
  {
   "cell_type": "code",
   "execution_count": 151,
   "id": "82d2ec61",
   "metadata": {},
   "outputs": [
    {
     "data": {
      "text/plain": [
       "750"
      ]
     },
     "execution_count": 151,
     "metadata": {},
     "output_type": "execute_result"
    }
   ],
   "source": [
    "bias = np.ones((m,1))\n",
    "X = np.append (bias, X1, axis=1)\n",
    "len(X)"
   ]
  },
  {
   "cell_type": "code",
   "execution_count": 154,
   "id": "bfcf1b1f",
   "metadata": {},
   "outputs": [
    {
     "data": {
      "text/plain": [
       "array([[0.64768854],\n",
       "       [1.52302986]])"
      ]
     },
     "execution_count": 154,
     "metadata": {},
     "output_type": "execute_result"
    }
   ],
   "source": [
    "intercept =[]\n",
    "coef = []\n",
    "eta = 0.01\n",
    "weights = np.random.randn(2,1)\n",
    "weights"
   ]
  },
  {
   "cell_type": "code",
   "execution_count": 155,
   "id": "9ba1e4b3",
   "metadata": {},
   "outputs": [
    {
     "name": "stdout",
     "output_type": "stream",
     "text": [
      "[[ 0.04777543]\n",
      " [16.77810981]]\n"
     ]
    }
   ],
   "source": [
    "for i in range(10000):\n",
    "    gradient = (2 / m) * X.T.dot(X.dot(weights) - Y)   # wzór \n",
    "    weights = weights - eta * gradient\n",
    "    intercept.append(weights[0][0])\n",
    "    coef.append(weights[1][0])\n",
    "\n",
    "print(weights)"
   ]
  },
  {
   "cell_type": "code",
   "execution_count": null,
   "id": "c50f0039",
   "metadata": {},
   "outputs": [],
   "source": []
  }
 ],
 "metadata": {
  "kernelspec": {
   "display_name": "Python 3 (ipykernel)",
   "language": "python",
   "name": "python3"
  },
  "language_info": {
   "codemirror_mode": {
    "name": "ipython",
    "version": 3
   },
   "file_extension": ".py",
   "mimetype": "text/x-python",
   "name": "python",
   "nbconvert_exporter": "python",
   "pygments_lexer": "ipython3",
   "version": "3.8.12"
  }
 },
 "nbformat": 4,
 "nbformat_minor": 5
}
