{
 "cells": [
  {
   "cell_type": "markdown",
   "id": "e645e006",
   "metadata": {},
   "source": [
    "#### Numpy print options:"
   ]
  },
  {
   "cell_type": "code",
   "execution_count": 5,
   "id": "4103d2b5",
   "metadata": {
    "scrolled": true
   },
   "outputs": [],
   "source": [
    "import numpy as np\n",
    "\n",
    "np.set_printoptions(precision=6, suppress=True, edgeitems=10, linewidth=100000, formatter=dict(float=lambda x: f'{x:.2f}'))"
   ]
  },
  {
   "cell_type": "markdown",
   "id": "155b8b4f",
   "metadata": {},
   "source": [
    "#### Train/test split print:"
   ]
  },
  {
   "cell_type": "code",
   "execution_count": null,
   "id": "ee5a522b",
   "metadata": {},
   "outputs": [],
   "source": [
    "X_train, X_test, y_train, y_test = train_test_split(data, target, test_size=0.2, stratify=Target)\n",
    "\n",
    "print (f'Data shape: {data.shape}')\n",
    "print (f'Target shape: {target.shape}\\n')\n",
    "print(f'X_train: {X_train.shape}')\n",
    "print(f'y_train: {y_train.shape}')\n",
    "print(f'X_test: {X_test.shape}')\n",
    "print(f'y_test: {y_test.shape}\\n')\n",
    "\n",
    "print (f'Train ratio: {len(X_train)/len(data)}')\n",
    "print (f'Test ratio: {len(X_test)/len(data)}\\n')\n",
    "\n",
    "print(f'target dist:')\n",
    "print (f'{pd.Series(target).value_counts() / len(target)}\\n')\n",
    "\n",
    "print(f'train target dist:')\n",
    "print (f'{pd.Series(y_train).value_counts() / len(y_train)}\\n')\n",
    "\n",
    "print(f'test target dist:')\n",
    "print (f'{pd.Series(y_test).value_counts() / len(y_test)}\\n')"
   ]
  }
 ],
 "metadata": {
  "kernelspec": {
   "display_name": "Python 3 (ipykernel)",
   "language": "python",
   "name": "python3"
  },
  "language_info": {
   "codemirror_mode": {
    "name": "ipython",
    "version": 3
   },
   "file_extension": ".py",
   "mimetype": "text/x-python",
   "name": "python",
   "nbconvert_exporter": "python",
   "pygments_lexer": "ipython3",
   "version": "3.8.12"
  }
 },
 "nbformat": 4,
 "nbformat_minor": 5
}
