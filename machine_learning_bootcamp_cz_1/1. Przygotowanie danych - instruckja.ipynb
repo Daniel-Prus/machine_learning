{
 "cells": [
  {
   "cell_type": "markdown",
   "id": "3e784f87",
   "metadata": {},
   "source": [
    "#### 1. Przygotowanie danych do modelu:\n",
    "\n",
    "- wczytanie df lub numpy i stworzenie kopii zapasowej df = df_raw.copy()\n",
    "\n",
    "\n",
    "- początowa analzia df.info() - sprawdzanie typów danych/ czyszczenie jeśli string w float/int\n",
    "\n",
    "\n",
    "- sprawdzenie duplikatów, jeśli są usuwanie (na df) - df[df.duplicated()]\n",
    "\n",
    "\n",
    "- sprawdzanie nulli - df.isnull().sum()\n",
    "\n",
    "\n",
    "- zamiana 0 na NaN, wtedy pandas nie bierze pod uwagę tych wartości do sredniej. miedainy itd., co nie wpływa na skośność zioru danych (korelacja może się zmienić) - może nie trzeba usuwać tych wierszy\n",
    "\n",
    "\n",
    "- zmiana typów danych na 'category' itd. (jeśli jest dużo zmiennych za pomocą pętli)\n",
    "\n",
    "            cat_cols = [col for col in df.columns if df[col].dtype == 'O']\n",
    "\n"
   ]
  },
  {
   "cell_type": "markdown",
   "id": "5c7774c5",
   "metadata": {},
   "source": [
    "##### 1.a. Uzupełnianie braków średnią itd. - wtedy punkt 2 musi - analizę trzeba wykonać wcześniej"
   ]
  },
  {
   "cell_type": "markdown",
   "id": "8734e63a",
   "metadata": {},
   "source": [
    "#### 2. Wstępna analiza danych:\n",
    "\n",
    "- df.info()\n",
    "\n",
    "\n",
    "- df.describe().T\n",
    "\n",
    "\n",
    "- df.corr() (korelację należy wykonać po transformacji zmiennych)\n",
    "\n",
    "\n",
    "- df.describe(include='category').T - dla zmiennych kategorycznych"
   ]
  },
  {
   "cell_type": "markdown",
   "id": "fb0035fe",
   "metadata": {},
   "source": [
    "#### 3. Analiza zmiennych kategorycznych:\n",
    "\n",
    "- df.zmienna.value_counts() - rozkład zmiennych kategorycznych\n",
    "\n",
    "                for col in df.columns:\n",
    "                    if df[col].dtype not in ('float64', 'int64') :\n",
    "                        print(f'{df[col].value_counts()}\\n')\n",
    "\n",
    "\n",
    "\n",
    "- wizualizacja - plot() - pie(autopct = '%.2f%%') i histogram (bins=)\n",
    "\n",
    "\n",
    "- wizualizacja - histogram - z plotly express, zależności pomiędzy zmiennymi, zmiennymi - targetem:\n",
    "\n",
    "                px.histogram(df, x='charges', width=900, height=600, nbins=50, facet_col='smoker', facet_row='sex')             \n",
    "                px.histogram(df, x='smoker', width=700, height=400, facet_col='sex', color='sex' )\n",
    "\n"
   ]
  },
  {
   "cell_type": "markdown",
   "id": "38e047c9",
   "metadata": {},
   "source": [
    "#### 4. Transformacja danych:\n",
    "\n",
    "- tranformacja zmiennych kategorycznych - pd.get_dummies (drop_first=True)"
   ]
  },
  {
   "cell_type": "markdown",
   "id": "60a95718",
   "metadata": {},
   "source": [
    "#### 5. Zbadanie korelacji zmiennych (po transformacji zmiennych kategorycznych)\n",
    "\n",
    "\n",
    "- po trasformowaniu danych zbadanie korelacji corr = df.corr() \n",
    "\n",
    "            sns.set(style=\"white\")\n",
    "            mask = np.zeros_like(corr, dtype=np.bool)\n",
    "            mask[np.triu_indices_from(mask)] = True\n",
    "            f, ax = plt.subplots(figsize=(8, 6))\n",
    "            cmap = sns.diverging_palette(220, 10, as_cmap=True)\n",
    "            sns.heatmap(corr, mask=mask, cmap=cmap, vmax=.3, center=0,\n",
    "            square=True, linewidths=.5, cbar_kws={\"shrink\": .5});\n",
    "            \n",
    "            \n",
    "            # wyświetlenie korelacji\n",
    "            corr['charges'].sort_values(ascending=False)\n",
    "            \n",
    "            \n",
    "            sns.set()\n",
    "            corr['charges'].sort_values()[:-1].plot(kind='barh')"
   ]
  },
  {
   "cell_type": "markdown",
   "id": "ba47d580",
   "metadata": {},
   "source": [
    "#### 6. Podział danych - przygotowanie zbiorów do modelu:\n",
    "\n",
    "- data, target:\n",
    "\n",
    "        data = df_dummies.copy()\n",
    "        target = data.pop('charges')"
   ]
  },
  {
   "cell_type": "code",
   "execution_count": null,
   "id": "78fa9f49",
   "metadata": {},
   "outputs": [],
   "source": []
  }
 ],
 "metadata": {
  "kernelspec": {
   "display_name": "Python 3 (ipykernel)",
   "language": "python",
   "name": "python3"
  },
  "language_info": {
   "codemirror_mode": {
    "name": "ipython",
    "version": 3
   },
   "file_extension": ".py",
   "mimetype": "text/x-python",
   "name": "python",
   "nbconvert_exporter": "python",
   "pygments_lexer": "ipython3",
   "version": "3.8.12"
  }
 },
 "nbformat": 4,
 "nbformat_minor": 5
}
