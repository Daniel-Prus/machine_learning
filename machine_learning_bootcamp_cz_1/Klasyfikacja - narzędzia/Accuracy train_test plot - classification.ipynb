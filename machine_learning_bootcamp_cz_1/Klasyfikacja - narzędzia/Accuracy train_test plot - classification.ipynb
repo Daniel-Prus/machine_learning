{
 "cells": [
  {
   "cell_type": "code",
   "execution_count": 170,
   "id": "855df24e",
   "metadata": {},
   "outputs": [],
   "source": [
    "import numpy as np\n",
    "import pandas as pd\n",
    "import matplotlib.pyplot as plt\n",
    "import sklearn\n",
    "import seaborn as sns\n",
    "sns.set(font_scale=1.3)\n"
   ]
  },
  {
   "cell_type": "markdown",
   "id": "4436dd9c",
   "metadata": {},
   "source": [
    "#### 1. Data"
   ]
  },
  {
   "cell_type": "code",
   "execution_count": 3,
   "id": "9f26df64",
   "metadata": {},
   "outputs": [],
   "source": [
    "from sklearn.datasets import load_iris"
   ]
  },
  {
   "cell_type": "code",
   "execution_count": 22,
   "id": "a2eb65ce",
   "metadata": {},
   "outputs": [
    {
     "data": {
      "text/plain": [
       "dict_keys(['data', 'target', 'frame', 'target_names', 'DESCR', 'feature_names', 'filename', 'data_module'])"
      ]
     },
     "execution_count": 22,
     "metadata": {},
     "output_type": "execute_result"
    }
   ],
   "source": [
    "raw_data = load_iris()\n",
    "raw_data.keys()"
   ]
  },
  {
   "cell_type": "code",
   "execution_count": 49,
   "id": "ef45dbad",
   "metadata": {},
   "outputs": [],
   "source": [
    "feature_names = [name.replace(' ','_')[:-5] for name in raw_data['feature_names']]\n",
    "\n",
    "target_names = raw_data['target_names']"
   ]
  },
  {
   "cell_type": "code",
   "execution_count": 26,
   "id": "e551d3c7",
   "metadata": {},
   "outputs": [],
   "source": [
    "target_map = {num:raw_data['target_names'][num] for num in range(len(raw_data['target_names']))}\n",
    "df_raw['target_names'] = df_raw['target'].map(target_map)"
   ]
  },
  {
   "cell_type": "code",
   "execution_count": 30,
   "id": "ebf7b23c",
   "metadata": {},
   "outputs": [
    {
     "data": {
      "text/plain": [
       "setosa        50\n",
       "versicolor    50\n",
       "virginica     50\n",
       "Name: target_names, dtype: int64"
      ]
     },
     "execution_count": 30,
     "metadata": {},
     "output_type": "execute_result"
    }
   ],
   "source": [
    "df_raw['target_names'].value_counts()"
   ]
  },
  {
   "cell_type": "markdown",
   "id": "72a29057",
   "metadata": {},
   "source": [
    "#### 2. Train/Test"
   ]
  },
  {
   "cell_type": "code",
   "execution_count": 121,
   "id": "93cebc3b",
   "metadata": {},
   "outputs": [
    {
     "data": {
      "text/plain": [
       "Index(['sepal_length', 'sepal_width', 'petal_length', 'petal_width', 'target',\n",
       "       'target_names'],\n",
       "      dtype='object')"
      ]
     },
     "execution_count": 121,
     "metadata": {},
     "output_type": "execute_result"
    }
   ],
   "source": [
    "df_raw.columns"
   ]
  },
  {
   "cell_type": "code",
   "execution_count": 122,
   "id": "5138be10",
   "metadata": {},
   "outputs": [],
   "source": [
    "df = df_raw.copy()\n",
    "\n",
    "data = df[['sepal_length', 'sepal_width', 'target']]\n",
    "target = data.pop('target')\n",
    "data = data.values\n",
    "target = target.values.astype('int8')"
   ]
  },
  {
   "cell_type": "code",
   "execution_count": 123,
   "id": "825f121c",
   "metadata": {},
   "outputs": [],
   "source": [
    "from sklearn.model_selection import train_test_split"
   ]
  },
  {
   "cell_type": "code",
   "execution_count": 124,
   "id": "ba90c9e2",
   "metadata": {},
   "outputs": [
    {
     "name": "stdout",
     "output_type": "stream",
     "text": [
      "Data shape: (150, 2)\n",
      "Target shape: (150,)\n",
      "\n",
      "X_train: (120, 2)\n",
      "y_train: (120,)\n",
      "X_test: (30, 2)\n",
      "y_test: (30,)\n",
      "\n",
      "Train ratio: 0.8\n",
      "Test ratio: 0.2\n",
      "\n",
      "target dist:\n",
      "0    0.333333\n",
      "1    0.333333\n",
      "2    0.333333\n",
      "dtype: float64\n",
      "\n",
      "train target dist:\n",
      "0    0.333333\n",
      "2    0.333333\n",
      "1    0.333333\n",
      "dtype: float64\n",
      "\n",
      "test target dist:\n",
      "0    0.333333\n",
      "2    0.333333\n",
      "1    0.333333\n",
      "dtype: float64\n",
      "\n"
     ]
    }
   ],
   "source": [
    "X_train, X_test, y_train, y_test = train_test_split(data, target, random_state=42, test_size=0.2, stratify=target)\n",
    "\n",
    "print (f'Data shape: {data.shape}')\n",
    "print (f'Target shape: {target.shape}\\n')\n",
    "print(f'X_train: {X_train.shape}')\n",
    "print(f'y_train: {y_train.shape}')\n",
    "print(f'X_test: {X_test.shape}')\n",
    "print(f'y_test: {y_test.shape}\\n')\n",
    "\n",
    "print (f'Train ratio: {len(X_train)/len(data)}')\n",
    "print (f'Test ratio: {len(X_test)/len(data)}\\n')\n",
    "\n",
    "print(f'target dist:')\n",
    "print (f'{pd.Series(target).value_counts() / len(target)}\\n')\n",
    "\n",
    "print(f'train target dist:')\n",
    "print (f'{pd.Series(y_train).value_counts() / len(y_train)}\\n')\n",
    "\n",
    "print(f'test target dist:')\n",
    "print (f'{pd.Series(y_test).value_counts() / len(y_test)}\\n')"
   ]
  },
  {
   "cell_type": "markdown",
   "id": "720d4d58",
   "metadata": {},
   "source": [
    "### 3. Model - decision tree"
   ]
  },
  {
   "cell_type": "code",
   "execution_count": 159,
   "id": "e27d4f55",
   "metadata": {},
   "outputs": [],
   "source": [
    "from IPython.display import Image\n",
    "from mlxtend.plotting import plot_decision_regions\n",
    "from six import StringIO\n",
    "from sklearn.tree import export_graphviz\n",
    "import pydotplus\n"
   ]
  },
  {
   "cell_type": "code",
   "execution_count": 160,
   "id": "e15ddcd9",
   "metadata": {},
   "outputs": [],
   "source": [
    "from sklearn.tree import DecisionTreeClassifier"
   ]
  },
  {
   "cell_type": "code",
   "execution_count": 161,
   "id": "9764b1fa",
   "metadata": {},
   "outputs": [
    {
     "data": {
      "text/plain": [
       "DecisionTreeClassifier(max_depth=5, random_state=42)"
      ]
     },
     "execution_count": 161,
     "metadata": {},
     "output_type": "execute_result"
    }
   ],
   "source": [
    "classifier = DecisionTreeClassifier(max_depth=5, random_state=42)\n",
    "classifier.fit(X_train, y_train)"
   ]
  },
  {
   "cell_type": "code",
   "execution_count": 162,
   "id": "ce6a0e69",
   "metadata": {
    "scrolled": true
   },
   "outputs": [],
   "source": [
    "prediction = classifier.predict(X_test)"
   ]
  },
  {
   "cell_type": "code",
   "execution_count": 163,
   "id": "e261c32a",
   "metadata": {},
   "outputs": [
    {
     "data": {
      "text/plain": [
       "0.875"
      ]
     },
     "execution_count": 163,
     "metadata": {},
     "output_type": "execute_result"
    }
   ],
   "source": [
    "classifier.score(X_train, y_train)"
   ]
  },
  {
   "cell_type": "code",
   "execution_count": 142,
   "id": "6a8c0ca1",
   "metadata": {},
   "outputs": [
    {
     "data": {
      "text/plain": [
       "0.6333333333333333"
      ]
     },
     "execution_count": 142,
     "metadata": {},
     "output_type": "execute_result"
    }
   ],
   "source": [
    "classifier.score(X_test, y_test)"
   ]
  },
  {
   "cell_type": "code",
   "execution_count": 143,
   "id": "2e17d560",
   "metadata": {},
   "outputs": [],
   "source": [
    "from sklearn.metrics import accuracy_score"
   ]
  },
  {
   "cell_type": "code",
   "execution_count": 144,
   "id": "5185761f",
   "metadata": {},
   "outputs": [
    {
     "data": {
      "text/plain": [
       "0.6333333333333333"
      ]
     },
     "execution_count": 144,
     "metadata": {},
     "output_type": "execute_result"
    }
   ],
   "source": [
    "accuracy_score(y_test, prediction)"
   ]
  },
  {
   "cell_type": "markdown",
   "id": "d709eb51",
   "metadata": {},
   "source": [
    "### 4. Function, map and comparison"
   ]
  },
  {
   "cell_type": "code",
   "execution_count": 190,
   "id": "808968c3",
   "metadata": {
    "scrolled": true
   },
   "outputs": [],
   "source": [
    "def train_test_accuracy(X_train, y_train, X_test, y_test, max_depth = 5):\n",
    "    \n",
    "    train_acc = []\n",
    "    test_acc = []\n",
    "    depth = []\n",
    "    \n",
    "    for a in range(1,max_depth+1):\n",
    "        classifier = DecisionTreeClassifier(max_depth=a, random_state=42)\n",
    "        classifier.fit(X_train, y_train)\n",
    "        prediction = classifier.predict(X_test)\n",
    "        \n",
    "        depth.append(a)\n",
    "        train_acc.append (classifier.score(X_train, y_train))\n",
    "        test_acc.append (classifier.score(X_test, y_test))\n",
    "        \n",
    "    df_accuracy = pd.DataFrame(data={'depth': depth, 'train_accuracy': train_acc, 'test_accuracy': test_acc})\n",
    "    \n",
    "    # plot train/test accuracy\n",
    "    plt.figure(figsize=(12,7))\n",
    "    plt.title('Train vs Test accuracy')\n",
    "    plt.plot(df_accuracy['depth'], df_accuracy['train_accuracy'], label= 'train_acc')\n",
    "    plt.plot(df_accuracy['depth'], df_accuracy['test_accuracy'], label= 'test_acc')\n",
    "    plt.legend()\n",
    "    plt.ylabel('accuracy')\n",
    "    plt.xlabel('max_depth');\n",
    "\n",
    "    \n",
    "    return df_accuracy"
   ]
  },
  {
   "cell_type": "code",
   "execution_count": 191,
   "id": "ba90d0f9",
   "metadata": {},
   "outputs": [
    {
     "data": {
      "image/png": "[encoded data removed]",
      "text/plain": [
       "<Figure size 864x504 with 1 Axes>"
      ]
     },
     "metadata": {},
     "output_type": "display_data"
    }
   ],
   "source": [
    "df_accuracy = train_test_accuracy(X_train, y_train, X_test, y_test, max_depth = 10)"
   ]
  },
  {
   "cell_type": "code",
   "execution_count": 189,
   "id": "6a258711",
   "metadata": {},
   "outputs": [
    {
     "data": {
      "text/html": [
       "<div>\n",
       "<style scoped>\n",
       "    .dataframe tbody tr th:only-of-type {\n",
       "        vertical-align: middle;\n",
       "    }\n",
       "\n",
       "    .dataframe tbody tr th {\n",
       "        vertical-align: top;\n",
       "    }\n",
       "\n",
       "    .dataframe thead th {\n",
       "        text-align: right;\n",
       "    }\n",
       "</style>\n",
       "<table border=\"1\" class=\"dataframe\">\n",
       "  <thead>\n",
       "    <tr style=\"text-align: right;\">\n",
       "      <th></th>\n",
       "      <th>depth</th>\n",
       "      <th>train_accuracy</th>\n",
       "      <th>test_accuracy</th>\n",
       "    </tr>\n",
       "  </thead>\n",
       "  <tbody>\n",
       "    <tr>\n",
       "      <th>0</th>\n",
       "      <td>1</td>\n",
       "      <td>0.633333</td>\n",
       "      <td>0.600000</td>\n",
       "    </tr>\n",
       "    <tr>\n",
       "      <th>1</th>\n",
       "      <td>2</td>\n",
       "      <td>0.808333</td>\n",
       "      <td>0.633333</td>\n",
       "    </tr>\n",
       "    <tr>\n",
       "      <th>2</th>\n",
       "      <td>3</td>\n",
       "      <td>0.858333</td>\n",
       "      <td>0.666667</td>\n",
       "    </tr>\n",
       "    <tr>\n",
       "      <th>3</th>\n",
       "      <td>4</td>\n",
       "      <td>0.866667</td>\n",
       "      <td>0.666667</td>\n",
       "    </tr>\n",
       "    <tr>\n",
       "      <th>4</th>\n",
       "      <td>5</td>\n",
       "      <td>0.875000</td>\n",
       "      <td>0.633333</td>\n",
       "    </tr>\n",
       "    <tr>\n",
       "      <th>5</th>\n",
       "      <td>6</td>\n",
       "      <td>0.891667</td>\n",
       "      <td>0.566667</td>\n",
       "    </tr>\n",
       "    <tr>\n",
       "      <th>6</th>\n",
       "      <td>7</td>\n",
       "      <td>0.900000</td>\n",
       "      <td>0.566667</td>\n",
       "    </tr>\n",
       "    <tr>\n",
       "      <th>7</th>\n",
       "      <td>8</td>\n",
       "      <td>0.908333</td>\n",
       "      <td>0.566667</td>\n",
       "    </tr>\n",
       "    <tr>\n",
       "      <th>8</th>\n",
       "      <td>9</td>\n",
       "      <td>0.933333</td>\n",
       "      <td>0.566667</td>\n",
       "    </tr>\n",
       "  </tbody>\n",
       "</table>\n",
       "</div>"
      ],
      "text/plain": [
       "   depth  train_accuracy  test_accuracy\n",
       "0      1        0.633333       0.600000\n",
       "1      2        0.808333       0.633333\n",
       "2      3        0.858333       0.666667\n",
       "3      4        0.866667       0.666667\n",
       "4      5        0.875000       0.633333\n",
       "5      6        0.891667       0.566667\n",
       "6      7        0.900000       0.566667\n",
       "7      8        0.908333       0.566667\n",
       "8      9        0.933333       0.566667"
      ]
     },
     "execution_count": 189,
     "metadata": {},
     "output_type": "execute_result"
    }
   ],
   "source": [
    "df_accuracy"
   ]
  },
  {
   "cell_type": "code",
   "execution_count": null,
   "id": "13d11528",
   "metadata": {},
   "outputs": [],
   "source": []
  }
 ],
 "metadata": {
  "kernelspec": {
   "display_name": "Python 3 (ipykernel)",
   "language": "python",
   "name": "python3"
  },
  "language_info": {
   "codemirror_mode": {
    "name": "ipython",
    "version": 3
   },
   "file_extension": ".py",
   "mimetype": "text/x-python",
   "name": "python",
   "nbconvert_exporter": "python",
   "pygments_lexer": "ipython3",
   "version": "3.8.12"
  }
 },
 "nbformat": 4,
 "nbformat_minor": 5
}
