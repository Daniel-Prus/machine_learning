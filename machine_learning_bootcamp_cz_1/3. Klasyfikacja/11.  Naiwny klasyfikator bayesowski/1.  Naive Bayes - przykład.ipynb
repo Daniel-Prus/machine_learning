{
 "cells": [
  {
   "cell_type": "code",
   "execution_count": 1,
   "id": "8025cb83",
   "metadata": {},
   "outputs": [
    {
     "data": {
      "text/plain": [
       "'1.0.1'"
      ]
     },
     "execution_count": 1,
     "metadata": {},
     "output_type": "execute_result"
    }
   ],
   "source": [
    "import numpy as np\n",
    "import pandas as pd\n",
    "import sklearn\n",
    "\n",
    "np.random.seed(42)\n",
    "np.set_printoptions(precision=6, suppress=True)\n",
    "sklearn.__version__"
   ]
  },
  {
   "cell_type": "markdown",
   "id": "d81daf89",
   "metadata": {},
   "source": [
    "#### 1. Dane:"
   ]
  },
  {
   "cell_type": "code",
   "execution_count": 2,
   "id": "fcf1d484",
   "metadata": {},
   "outputs": [
    {
     "data": {
      "text/html": [
       "<div>\n",
       "<style scoped>\n",
       "    .dataframe tbody tr th:only-of-type {\n",
       "        vertical-align: middle;\n",
       "    }\n",
       "\n",
       "    .dataframe tbody tr th {\n",
       "        vertical-align: top;\n",
       "    }\n",
       "\n",
       "    .dataframe thead th {\n",
       "        text-align: right;\n",
       "    }\n",
       "</style>\n",
       "<table border=\"1\" class=\"dataframe\">\n",
       "  <thead>\n",
       "    <tr style=\"text-align: right;\">\n",
       "      <th></th>\n",
       "      <th>pogoda</th>\n",
       "      <th>temperatura</th>\n",
       "      <th>spacer</th>\n",
       "    </tr>\n",
       "  </thead>\n",
       "  <tbody>\n",
       "    <tr>\n",
       "      <th>0</th>\n",
       "      <td>słonecznie</td>\n",
       "      <td>ciepło</td>\n",
       "      <td>tak</td>\n",
       "    </tr>\n",
       "    <tr>\n",
       "      <th>1</th>\n",
       "      <td>deszczowo</td>\n",
       "      <td>zimno</td>\n",
       "      <td>nie</td>\n",
       "    </tr>\n",
       "    <tr>\n",
       "      <th>2</th>\n",
       "      <td>pochmurno</td>\n",
       "      <td>ciepło</td>\n",
       "      <td>tak</td>\n",
       "    </tr>\n",
       "    <tr>\n",
       "      <th>3</th>\n",
       "      <td>deszczowo</td>\n",
       "      <td>ciepło</td>\n",
       "      <td>nie</td>\n",
       "    </tr>\n",
       "    <tr>\n",
       "      <th>4</th>\n",
       "      <td>słonecznie</td>\n",
       "      <td>ciepło</td>\n",
       "      <td>tak</td>\n",
       "    </tr>\n",
       "    <tr>\n",
       "      <th>5</th>\n",
       "      <td>słonecznie</td>\n",
       "      <td>umiarkowanie</td>\n",
       "      <td>tak</td>\n",
       "    </tr>\n",
       "    <tr>\n",
       "      <th>6</th>\n",
       "      <td>pochmurno</td>\n",
       "      <td>umiarkowanie</td>\n",
       "      <td>nie</td>\n",
       "    </tr>\n",
       "    <tr>\n",
       "      <th>7</th>\n",
       "      <td>pochmurno</td>\n",
       "      <td>ciepło</td>\n",
       "      <td>tak</td>\n",
       "    </tr>\n",
       "    <tr>\n",
       "      <th>8</th>\n",
       "      <td>słonecznie</td>\n",
       "      <td>zimno</td>\n",
       "      <td>nie</td>\n",
       "    </tr>\n",
       "  </tbody>\n",
       "</table>\n",
       "</div>"
      ],
      "text/plain": [
       "       pogoda   temperatura spacer\n",
       "0  słonecznie        ciepło    tak\n",
       "1   deszczowo         zimno    nie\n",
       "2   pochmurno        ciepło    tak\n",
       "3   deszczowo        ciepło    nie\n",
       "4  słonecznie        ciepło    tak\n",
       "5  słonecznie  umiarkowanie    tak\n",
       "6   pochmurno  umiarkowanie    nie\n",
       "7   pochmurno        ciepło    tak\n",
       "8  słonecznie         zimno    nie"
      ]
     },
     "execution_count": 2,
     "metadata": {},
     "output_type": "execute_result"
    }
   ],
   "source": [
    "pogoda = ['słonecznie', 'deszczowo', 'pochmurno', 'deszczowo', 'słonecznie', 'słonecznie',\n",
    "          'pochmurno', 'pochmurno', 'słonecznie']\n",
    "temperatura = ['ciepło', 'zimno', 'ciepło', 'ciepło', 'ciepło', 'umiarkowanie',\n",
    "               'umiarkowanie', 'ciepło', 'zimno']\n",
    "\n",
    "spacer = ['tak', 'nie', 'tak', 'nie', 'tak', 'tak', 'nie', 'tak', 'nie']      \n",
    "\n",
    "raw_df = pd.DataFrame(data={'pogoda': pogoda, 'temperatura': temperatura, 'spacer': spacer})\n",
    "df = raw_df.copy()\n",
    "df"
   ]
  },
  {
   "cell_type": "markdown",
   "id": "ca6c3988",
   "metadata": {},
   "source": [
    "#### 2. Zbadanie zmiennej docelowej:"
   ]
  },
  {
   "cell_type": "code",
   "execution_count": 26,
   "id": "2cefd931",
   "metadata": {},
   "outputs": [
    {
     "data": {
      "text/plain": [
       "tak    5\n",
       "nie    4\n",
       "Name: spacer, dtype: int64"
      ]
     },
     "execution_count": 26,
     "metadata": {},
     "output_type": "execute_result"
    }
   ],
   "source": [
    "# rozkład zmiennej\n",
    "\n",
    "taregt_dist = df['spacer'].value_counts()\n",
    "taregt_dist"
   ]
  },
  {
   "cell_type": "code",
   "execution_count": 6,
   "id": "2ccacb6f",
   "metadata": {},
   "outputs": [
    {
     "data": {
      "text/plain": [
       "tak    0.555556\n",
       "nie    0.444444\n",
       "Name: spacer, dtype: float64"
      ]
     },
     "execution_count": 6,
     "metadata": {},
     "output_type": "execute_result"
    }
   ],
   "source": [
    "# prawdopodobieństwo\n",
    "\n",
    "df['spacer'].value_counts() / df['spacer'].value_counts().sum()"
   ]
  },
  {
   "cell_type": "markdown",
   "id": "1955f536",
   "metadata": {},
   "source": [
    "#### 3. Zmienne niezależne"
   ]
  },
  {
   "cell_type": "markdown",
   "id": "8123e203",
   "metadata": {},
   "source": [
    "#### - pogoda"
   ]
  },
  {
   "cell_type": "code",
   "execution_count": 8,
   "id": "864b7066",
   "metadata": {},
   "outputs": [
    {
     "data": {
      "text/plain": [
       "słonecznie    4\n",
       "pochmurno     3\n",
       "deszczowo     2\n",
       "Name: pogoda, dtype: int64"
      ]
     },
     "execution_count": 8,
     "metadata": {},
     "output_type": "execute_result"
    }
   ],
   "source": [
    "df['pogoda'].value_counts()"
   ]
  },
  {
   "cell_type": "code",
   "execution_count": 46,
   "id": "38acfb96",
   "metadata": {},
   "outputs": [],
   "source": [
    "df_pogoda = pd.DataFrame(data={'pogoda':['słonecznie', 'deszczowo', 'pochmurno']})\n",
    "df_pogoda = df_pogoda.merge(right=df.groupby(['pogoda', 'spacer']).count().unstack()['temperatura'], left_on='pogoda', right_index=True).fillna(0)\n",
    "df_pogoda['P(nie)'] = df_pogoda['nie'].apply(lambda x: f'{int(x)}/{taregt_dist[1]}')\n",
    "df_pogoda['P(tak)'] = df_pogoda['tak'].apply(lambda x: f'{int(x)}/{taregt_dist[0]}')\n",
    "df_pogoda[['nie', 'tak']] = df_pogoda[['nie', 'tak']].astype('int')"
   ]
  },
  {
   "cell_type": "code",
   "execution_count": 39,
   "id": "6878c261",
   "metadata": {},
   "outputs": [
    {
     "data": {
      "text/html": [
       "<div>\n",
       "<style scoped>\n",
       "    .dataframe tbody tr th:only-of-type {\n",
       "        vertical-align: middle;\n",
       "    }\n",
       "\n",
       "    .dataframe tbody tr th {\n",
       "        vertical-align: top;\n",
       "    }\n",
       "\n",
       "    .dataframe thead th {\n",
       "        text-align: right;\n",
       "    }\n",
       "</style>\n",
       "<table border=\"1\" class=\"dataframe\">\n",
       "  <thead>\n",
       "    <tr style=\"text-align: right;\">\n",
       "      <th></th>\n",
       "      <th>pogoda</th>\n",
       "      <th>nie</th>\n",
       "      <th>tak</th>\n",
       "      <th>P(nie)</th>\n",
       "      <th>P(tak)</th>\n",
       "    </tr>\n",
       "  </thead>\n",
       "  <tbody>\n",
       "    <tr>\n",
       "      <th>0</th>\n",
       "      <td>słonecznie</td>\n",
       "      <td>1</td>\n",
       "      <td>3</td>\n",
       "      <td>1/4</td>\n",
       "      <td>3/5</td>\n",
       "    </tr>\n",
       "    <tr>\n",
       "      <th>1</th>\n",
       "      <td>deszczowo</td>\n",
       "      <td>2</td>\n",
       "      <td>0</td>\n",
       "      <td>2/4</td>\n",
       "      <td>0/5</td>\n",
       "    </tr>\n",
       "    <tr>\n",
       "      <th>2</th>\n",
       "      <td>pochmurno</td>\n",
       "      <td>1</td>\n",
       "      <td>2</td>\n",
       "      <td>1/4</td>\n",
       "      <td>2/5</td>\n",
       "    </tr>\n",
       "  </tbody>\n",
       "</table>\n",
       "</div>"
      ],
      "text/plain": [
       "       pogoda  nie  tak P(nie) P(tak)\n",
       "0  słonecznie    1    3    1/4    3/5\n",
       "1   deszczowo    2    0    2/4    0/5\n",
       "2   pochmurno    1    2    1/4    2/5"
      ]
     },
     "execution_count": 39,
     "metadata": {},
     "output_type": "execute_result"
    }
   ],
   "source": [
    "# prawdopodobieństwo nie i tak w mianowniku ma rozkład zmiennej docelowej\n",
    "df_pogoda"
   ]
  },
  {
   "cell_type": "markdown",
   "id": "4389d9fa",
   "metadata": {},
   "source": [
    "#### - temperatura"
   ]
  },
  {
   "cell_type": "code",
   "execution_count": 48,
   "id": "74e743e1",
   "metadata": {},
   "outputs": [
    {
     "data": {
      "text/html": [
       "<div>\n",
       "<style scoped>\n",
       "    .dataframe tbody tr th:only-of-type {\n",
       "        vertical-align: middle;\n",
       "    }\n",
       "\n",
       "    .dataframe tbody tr th {\n",
       "        vertical-align: top;\n",
       "    }\n",
       "\n",
       "    .dataframe thead th {\n",
       "        text-align: right;\n",
       "    }\n",
       "</style>\n",
       "<table border=\"1\" class=\"dataframe\">\n",
       "  <thead>\n",
       "    <tr style=\"text-align: right;\">\n",
       "      <th></th>\n",
       "      <th>temperatura</th>\n",
       "      <th>nie</th>\n",
       "      <th>tak</th>\n",
       "      <th>P(nie)</th>\n",
       "      <th>P(tak)</th>\n",
       "    </tr>\n",
       "  </thead>\n",
       "  <tbody>\n",
       "    <tr>\n",
       "      <th>0</th>\n",
       "      <td>ciepło</td>\n",
       "      <td>1</td>\n",
       "      <td>4</td>\n",
       "      <td>1/4</td>\n",
       "      <td>4/5</td>\n",
       "    </tr>\n",
       "    <tr>\n",
       "      <th>1</th>\n",
       "      <td>umiarkowanie</td>\n",
       "      <td>1</td>\n",
       "      <td>1</td>\n",
       "      <td>1/4</td>\n",
       "      <td>1/5</td>\n",
       "    </tr>\n",
       "    <tr>\n",
       "      <th>2</th>\n",
       "      <td>zimno</td>\n",
       "      <td>2</td>\n",
       "      <td>0</td>\n",
       "      <td>2/4</td>\n",
       "      <td>0/5</td>\n",
       "    </tr>\n",
       "  </tbody>\n",
       "</table>\n",
       "</div>"
      ],
      "text/plain": [
       "    temperatura  nie  tak P(nie) P(tak)\n",
       "0        ciepło    1    4    1/4    4/5\n",
       "1  umiarkowanie    1    1    1/4    1/5\n",
       "2         zimno    2    0    2/4    0/5"
      ]
     },
     "execution_count": 48,
     "metadata": {},
     "output_type": "execute_result"
    }
   ],
   "source": [
    "df_temp = pd.DataFrame(data={'temperatura':['ciepło', 'umiarkowanie', 'zimno']})\n",
    "df_temp = df_temp.merge(right=df.groupby(['temperatura', 'spacer']).count().unstack()['pogoda'], left_on='temperatura', right_index=True).fillna(0)\n",
    "df_temp['P(nie)'] = df_temp['nie'].apply(lambda x: f'{int(x)}/{taregt_dist[1]}')\n",
    "df_temp['P(tak)'] = df_temp['tak'].apply(lambda x: f'{int(x)}/{taregt_dist[0]}')\n",
    "df_temp[['nie', 'tak']] = df_temp[['nie', 'tak']].astype('int')\n",
    "df_temp"
   ]
  },
  {
   "cell_type": "markdown",
   "id": "36e5cff2",
   "metadata": {},
   "source": [
    "#### 4. Musimy odpowiedzieć na pytanie:"
   ]
  },
  {
   "cell_type": "code",
   "execution_count": 60,
   "id": "c0a70dad",
   "metadata": {
    "scrolled": true
   },
   "outputs": [
    {
     "data": {
      "text/html": [
       "<div>\n",
       "<style scoped>\n",
       "    .dataframe tbody tr th:only-of-type {\n",
       "        vertical-align: middle;\n",
       "    }\n",
       "\n",
       "    .dataframe tbody tr th {\n",
       "        vertical-align: top;\n",
       "    }\n",
       "\n",
       "    .dataframe thead th {\n",
       "        text-align: right;\n",
       "    }\n",
       "</style>\n",
       "<table border=\"1\" class=\"dataframe\">\n",
       "  <thead>\n",
       "    <tr style=\"text-align: right;\">\n",
       "      <th></th>\n",
       "      <th>pogoda</th>\n",
       "      <th>temperatura</th>\n",
       "      <th>spacer</th>\n",
       "    </tr>\n",
       "  </thead>\n",
       "  <tbody>\n",
       "    <tr>\n",
       "      <th>0</th>\n",
       "      <td>słonecznie</td>\n",
       "      <td>ciepło</td>\n",
       "      <td>?</td>\n",
       "    </tr>\n",
       "  </tbody>\n",
       "</table>\n",
       "</div>"
      ],
      "text/plain": [
       "       pogoda temperatura spacer\n",
       "0  słonecznie      ciepło      ?"
      ]
     },
     "execution_count": 60,
     "metadata": {},
     "output_type": "execute_result"
    }
   ],
   "source": [
    "pytanie = pd.DataFrame(data=[['słonecznie', 'ciepło', '?']], columns=['pogoda', 'temperatura', 'spacer'])\n",
    "pytanie"
   ]
  },
  {
   "cell_type": "markdown",
   "id": "d4dfb7ef",
   "metadata": {},
   "source": [
    "![alt text](bayes.png \"Naive Bayes\")"
   ]
  },
  {
   "cell_type": "code",
   "execution_count": 74,
   "id": "f7559677",
   "metadata": {},
   "outputs": [
    {
     "data": {
      "text/plain": [
       "(0.26666666666666666, 0.027777777777777776)"
      ]
     },
     "execution_count": 74,
     "metadata": {},
     "output_type": "execute_result"
    }
   ],
   "source": [
    "p_tak = (3/5 * 4/5 * 5/9) \n",
    "p_nie = (1/4 * 1/4 * 4/9) \n",
    "\n",
    "p_tak, p_nie"
   ]
  },
  {
   "cell_type": "code",
   "execution_count": 75,
   "id": "2f4a01aa",
   "metadata": {},
   "outputs": [],
   "source": [
    "# Prawdopodobieństwo powinno być równe 1"
   ]
  },
  {
   "cell_type": "code",
   "execution_count": 90,
   "id": "449b4ae4",
   "metadata": {},
   "outputs": [
    {
     "data": {
      "text/plain": [
       "(0.8727272727272728, 0.12727272727272726)"
      ]
     },
     "execution_count": 90,
     "metadata": {},
     "output_type": "execute_result"
    }
   ],
   "source": [
    "# Prawdopodobieństwo, ze wyjdziemy w słoneczną pogodę i ciepłą temp. wyosi 0,9057\n",
    "# Prawdopodobieństwo, ze  nie wyjdziemy w słoneczną pogodę i ciepłą temp. wyosi 0,0943\n",
    "\n",
    "# normalizacja wcześniej uzyskanych wyników \n",
    "P_tak = p_tak / (p_tak + p_nie)\n",
    "P_nie = p_nie / (p_tak + p_nie)\n",
    "\n",
    "P_tak, P_nie"
   ]
  },
  {
   "cell_type": "markdown",
   "id": "12e980bc",
   "metadata": {},
   "source": []
  },
  {
   "cell_type": "markdown",
   "id": "25c2329e",
   "metadata": {},
   "source": [
    "### 5. Zakładamy, że rozkład jest normalny\n",
    "\n",
    "![alt text](normal_dist_bayes.png \"Gaussian Naive Bayes classifier\")"
   ]
  },
  {
   "cell_type": "code",
   "execution_count": null,
   "id": "54227b3f",
   "metadata": {},
   "outputs": [],
   "source": []
  }
 ],
 "metadata": {
  "kernelspec": {
   "display_name": "Python 3 (ipykernel)",
   "language": "python",
   "name": "python3"
  },
  "language_info": {
   "codemirror_mode": {
    "name": "ipython",
    "version": 3
   },
   "file_extension": ".py",
   "mimetype": "text/x-python",
   "name": "python",
   "nbconvert_exporter": "python",
   "pygments_lexer": "ipython3",
   "version": "3.8.12"
  }
 },
 "nbformat": 4,
 "nbformat_minor": 5
}
