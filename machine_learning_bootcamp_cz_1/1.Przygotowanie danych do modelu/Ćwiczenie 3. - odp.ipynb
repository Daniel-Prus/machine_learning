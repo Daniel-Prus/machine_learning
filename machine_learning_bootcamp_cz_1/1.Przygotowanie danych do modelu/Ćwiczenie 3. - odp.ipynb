{
 "cells": [
  {
   "cell_type": "markdown",
   "id": "ddb4277c",
   "metadata": {},
   "source": [
    "### Ćwiczenie - ekstrakcja cech.\n",
    "\n",
    "1. Pobierz wolumeny giełdowe Amazona za pomocą podanej poniżej funkcji, zapisz do zmiennej, stwórz kopie, weź 5 pierwszych wartości:\n",
    "- wydobądź z indeksu, dni, miesiące, lata i stwórz nowe zmienne\n",
    "- zresetuj indeks i wyciagnij powyższe\n",
    "\n",
    "\n",
    "2. Dyskretyzacja zmiennej ciągłej - df = pd.DataFrame(data={'height': [175., 178.5, 185., 191., 184.5, 183., 168.]}) :\n",
    "\n",
    "- za pomocą odpowiedniej funkcji w pandas stwórz trzy przedzialy (automatycznie)\n",
    "- za pomocą odpowiedniej funkcji w pandas stwórz trzy przedzialy (ręcznie)\n",
    "- zmapuj te przedziały do odpowiednich wartośći (low, medium, high)\n",
    "- sprowadź do postaci zero jedynkowej za pomocą get dummies\n",
    "\n",
    "\n",
    "3. Ekstrakcja cech - df = pd.DataFrame(data= {'lang': [['PL', 'ENG'], ['PL', 'ENG', 'RUS', 'GER'], ['RUS']]})\n",
    "\n",
    "- stwóz nową zmienną liczącą ile jest języków w danej aplikacji (wiersz), za pomocą lambdy\n",
    "- kolejna zmienna - flaga pl, tablica 0,1 dla języka polskiego, lambda\n",
    "\n",
    "\n",
    "4. Ekstrakcja cech - df = pd.DataFrame({'website': ['www.google.com', 'www.zambrow.org', 'www.facebook.com', 'www.onet.pl']})\n",
    "\n",
    "- rozdziel na domene i rozszerzenie"
   ]
  },
  {
   "cell_type": "code",
   "execution_count": 2,
   "id": "5bff5078",
   "metadata": {},
   "outputs": [],
   "source": [
    "# pobieranie danych poprzez pandas_datareader.data\n",
    "\n",
    "def fetch_financial_data(company='AMZN'):\n",
    "    \"\"\"\n",
    "    This function fetches stock market quotations.\n",
    "    \"\"\"\n",
    "    \n",
    "    import pandas_datareader.data as web\n",
    "    \n",
    "    return web.DataReader (name=company, data_source='stooq')"
   ]
  },
  {
   "cell_type": "code",
   "execution_count": 3,
   "id": "71abbc89",
   "metadata": {},
   "outputs": [],
   "source": [
    "import numpy as np\n",
    "import pandas as pd\n",
    "import sklearn"
   ]
  },
  {
   "cell_type": "code",
   "execution_count": 4,
   "id": "f3eff3c7",
   "metadata": {},
   "outputs": [],
   "source": [
    "df_raw = fetch_financial_data()"
   ]
  },
  {
   "cell_type": "code",
   "execution_count": 5,
   "id": "7c019f0a",
   "metadata": {},
   "outputs": [],
   "source": [
    "df = df_raw.copy()"
   ]
  },
  {
   "cell_type": "code",
   "execution_count": 6,
   "id": "d206b5e1",
   "metadata": {},
   "outputs": [
    {
     "data": {
      "text/html": [
       "<div>\n",
       "<style scoped>\n",
       "    .dataframe tbody tr th:only-of-type {\n",
       "        vertical-align: middle;\n",
       "    }\n",
       "\n",
       "    .dataframe tbody tr th {\n",
       "        vertical-align: top;\n",
       "    }\n",
       "\n",
       "    .dataframe thead th {\n",
       "        text-align: right;\n",
       "    }\n",
       "</style>\n",
       "<table border=\"1\" class=\"dataframe\">\n",
       "  <thead>\n",
       "    <tr style=\"text-align: right;\">\n",
       "      <th></th>\n",
       "      <th>Open</th>\n",
       "      <th>High</th>\n",
       "      <th>Low</th>\n",
       "      <th>Close</th>\n",
       "      <th>Volume</th>\n",
       "    </tr>\n",
       "    <tr>\n",
       "      <th>Date</th>\n",
       "      <th></th>\n",
       "      <th></th>\n",
       "      <th></th>\n",
       "      <th></th>\n",
       "      <th></th>\n",
       "    </tr>\n",
       "  </thead>\n",
       "  <tbody>\n",
       "    <tr>\n",
       "      <th>2021-11-12</th>\n",
       "      <td>3485.00</td>\n",
       "      <td>3540.7262</td>\n",
       "      <td>3447.050</td>\n",
       "      <td>3525.15</td>\n",
       "      <td>2689434</td>\n",
       "    </tr>\n",
       "    <tr>\n",
       "      <th>2021-11-11</th>\n",
       "      <td>3513.00</td>\n",
       "      <td>3543.2400</td>\n",
       "      <td>3467.470</td>\n",
       "      <td>3472.50</td>\n",
       "      <td>2264406</td>\n",
       "    </tr>\n",
       "    <tr>\n",
       "      <th>2021-11-10</th>\n",
       "      <td>3563.87</td>\n",
       "      <td>3605.4500</td>\n",
       "      <td>3463.090</td>\n",
       "      <td>3482.05</td>\n",
       "      <td>4027422</td>\n",
       "    </tr>\n",
       "    <tr>\n",
       "      <th>2021-11-09</th>\n",
       "      <td>3515.25</td>\n",
       "      <td>3593.7700</td>\n",
       "      <td>3501.425</td>\n",
       "      <td>3576.23</td>\n",
       "      <td>4294922</td>\n",
       "    </tr>\n",
       "    <tr>\n",
       "      <th>2021-11-08</th>\n",
       "      <td>3523.24</td>\n",
       "      <td>3579.0000</td>\n",
       "      <td>3487.860</td>\n",
       "      <td>3488.98</td>\n",
       "      <td>3073992</td>\n",
       "    </tr>\n",
       "    <tr>\n",
       "      <th>...</th>\n",
       "      <td>...</td>\n",
       "      <td>...</td>\n",
       "      <td>...</td>\n",
       "      <td>...</td>\n",
       "      <td>...</td>\n",
       "    </tr>\n",
       "    <tr>\n",
       "      <th>2016-11-22</th>\n",
       "      <td>788.17</td>\n",
       "      <td>792.4000</td>\n",
       "      <td>781.000</td>\n",
       "      <td>785.33</td>\n",
       "      <td>5106920</td>\n",
       "    </tr>\n",
       "    <tr>\n",
       "      <th>2016-11-21</th>\n",
       "      <td>766.00</td>\n",
       "      <td>780.3500</td>\n",
       "      <td>765.110</td>\n",
       "      <td>780.00</td>\n",
       "      <td>4560974</td>\n",
       "    </tr>\n",
       "    <tr>\n",
       "      <th>2016-11-18</th>\n",
       "      <td>761.00</td>\n",
       "      <td>767.7400</td>\n",
       "      <td>757.644</td>\n",
       "      <td>760.16</td>\n",
       "      <td>4227993</td>\n",
       "    </tr>\n",
       "    <tr>\n",
       "      <th>2016-11-17</th>\n",
       "      <td>749.32</td>\n",
       "      <td>757.5000</td>\n",
       "      <td>748.000</td>\n",
       "      <td>756.39</td>\n",
       "      <td>3503295</td>\n",
       "    </tr>\n",
       "    <tr>\n",
       "      <th>2016-11-16</th>\n",
       "      <td>739.88</td>\n",
       "      <td>749.8700</td>\n",
       "      <td>735.610</td>\n",
       "      <td>746.49</td>\n",
       "      <td>3545800</td>\n",
       "    </tr>\n",
       "  </tbody>\n",
       "</table>\n",
       "<p>1257 rows × 5 columns</p>\n",
       "</div>"
      ],
      "text/plain": [
       "               Open       High       Low    Close   Volume\n",
       "Date                                                      \n",
       "2021-11-12  3485.00  3540.7262  3447.050  3525.15  2689434\n",
       "2021-11-11  3513.00  3543.2400  3467.470  3472.50  2264406\n",
       "2021-11-10  3563.87  3605.4500  3463.090  3482.05  4027422\n",
       "2021-11-09  3515.25  3593.7700  3501.425  3576.23  4294922\n",
       "2021-11-08  3523.24  3579.0000  3487.860  3488.98  3073992\n",
       "...             ...        ...       ...      ...      ...\n",
       "2016-11-22   788.17   792.4000   781.000   785.33  5106920\n",
       "2016-11-21   766.00   780.3500   765.110   780.00  4560974\n",
       "2016-11-18   761.00   767.7400   757.644   760.16  4227993\n",
       "2016-11-17   749.32   757.5000   748.000   756.39  3503295\n",
       "2016-11-16   739.88   749.8700   735.610   746.49  3545800\n",
       "\n",
       "[1257 rows x 5 columns]"
      ]
     },
     "execution_count": 6,
     "metadata": {},
     "output_type": "execute_result"
    }
   ],
   "source": [
    "df"
   ]
  },
  {
   "cell_type": "code",
   "execution_count": 11,
   "id": "806858db",
   "metadata": {},
   "outputs": [],
   "source": [
    "df['day'] = df.index.day\n",
    "df['month'] = df.index.month\n",
    "df['year'] = df.index.year"
   ]
  },
  {
   "cell_type": "code",
   "execution_count": 13,
   "id": "75398c63",
   "metadata": {},
   "outputs": [],
   "source": [
    "df.reset_index(inplace=True)"
   ]
  },
  {
   "cell_type": "code",
   "execution_count": 18,
   "id": "283f184f",
   "metadata": {},
   "outputs": [],
   "source": [
    "df.drop(axis=1, columns=['day', 'month', 'year'], inplace=True)"
   ]
  },
  {
   "cell_type": "code",
   "execution_count": 22,
   "id": "02904b91",
   "metadata": {},
   "outputs": [],
   "source": [
    "df['day'] = df['Date'].dt.day\n",
    "df['month'] = df['Date'].dt.month\n",
    "df['year'] = df['Date'].dt.year"
   ]
  },
  {
   "cell_type": "code",
   "execution_count": 24,
   "id": "5e9d044c",
   "metadata": {},
   "outputs": [],
   "source": [
    "df = df.head()"
   ]
  },
  {
   "cell_type": "code",
   "execution_count": 25,
   "id": "c5e63052",
   "metadata": {},
   "outputs": [
    {
     "data": {
      "text/html": [
       "<div>\n",
       "<style scoped>\n",
       "    .dataframe tbody tr th:only-of-type {\n",
       "        vertical-align: middle;\n",
       "    }\n",
       "\n",
       "    .dataframe tbody tr th {\n",
       "        vertical-align: top;\n",
       "    }\n",
       "\n",
       "    .dataframe thead th {\n",
       "        text-align: right;\n",
       "    }\n",
       "</style>\n",
       "<table border=\"1\" class=\"dataframe\">\n",
       "  <thead>\n",
       "    <tr style=\"text-align: right;\">\n",
       "      <th></th>\n",
       "      <th>Date</th>\n",
       "      <th>Open</th>\n",
       "      <th>High</th>\n",
       "      <th>Low</th>\n",
       "      <th>Close</th>\n",
       "      <th>Volume</th>\n",
       "      <th>day</th>\n",
       "      <th>month</th>\n",
       "      <th>year</th>\n",
       "    </tr>\n",
       "  </thead>\n",
       "  <tbody>\n",
       "    <tr>\n",
       "      <th>0</th>\n",
       "      <td>2021-11-12</td>\n",
       "      <td>3485.00</td>\n",
       "      <td>3540.7262</td>\n",
       "      <td>3447.050</td>\n",
       "      <td>3525.15</td>\n",
       "      <td>2689434</td>\n",
       "      <td>12</td>\n",
       "      <td>11</td>\n",
       "      <td>2021</td>\n",
       "    </tr>\n",
       "    <tr>\n",
       "      <th>1</th>\n",
       "      <td>2021-11-11</td>\n",
       "      <td>3513.00</td>\n",
       "      <td>3543.2400</td>\n",
       "      <td>3467.470</td>\n",
       "      <td>3472.50</td>\n",
       "      <td>2264406</td>\n",
       "      <td>11</td>\n",
       "      <td>11</td>\n",
       "      <td>2021</td>\n",
       "    </tr>\n",
       "    <tr>\n",
       "      <th>2</th>\n",
       "      <td>2021-11-10</td>\n",
       "      <td>3563.87</td>\n",
       "      <td>3605.4500</td>\n",
       "      <td>3463.090</td>\n",
       "      <td>3482.05</td>\n",
       "      <td>4027422</td>\n",
       "      <td>10</td>\n",
       "      <td>11</td>\n",
       "      <td>2021</td>\n",
       "    </tr>\n",
       "    <tr>\n",
       "      <th>3</th>\n",
       "      <td>2021-11-09</td>\n",
       "      <td>3515.25</td>\n",
       "      <td>3593.7700</td>\n",
       "      <td>3501.425</td>\n",
       "      <td>3576.23</td>\n",
       "      <td>4294922</td>\n",
       "      <td>9</td>\n",
       "      <td>11</td>\n",
       "      <td>2021</td>\n",
       "    </tr>\n",
       "    <tr>\n",
       "      <th>4</th>\n",
       "      <td>2021-11-08</td>\n",
       "      <td>3523.24</td>\n",
       "      <td>3579.0000</td>\n",
       "      <td>3487.860</td>\n",
       "      <td>3488.98</td>\n",
       "      <td>3073992</td>\n",
       "      <td>8</td>\n",
       "      <td>11</td>\n",
       "      <td>2021</td>\n",
       "    </tr>\n",
       "  </tbody>\n",
       "</table>\n",
       "</div>"
      ],
      "text/plain": [
       "        Date     Open       High       Low    Close   Volume  day  month  year\n",
       "0 2021-11-12  3485.00  3540.7262  3447.050  3525.15  2689434   12     11  2021\n",
       "1 2021-11-11  3513.00  3543.2400  3467.470  3472.50  2264406   11     11  2021\n",
       "2 2021-11-10  3563.87  3605.4500  3463.090  3482.05  4027422   10     11  2021\n",
       "3 2021-11-09  3515.25  3593.7700  3501.425  3576.23  4294922    9     11  2021\n",
       "4 2021-11-08  3523.24  3579.0000  3487.860  3488.98  3073992    8     11  2021"
      ]
     },
     "execution_count": 25,
     "metadata": {},
     "output_type": "execute_result"
    }
   ],
   "source": [
    "df"
   ]
  },
  {
   "cell_type": "markdown",
   "id": "38adb83d",
   "metadata": {},
   "source": [
    "## 2."
   ]
  },
  {
   "cell_type": "code",
   "execution_count": 26,
   "id": "f22c0139",
   "metadata": {},
   "outputs": [],
   "source": [
    "df = pd.DataFrame(data={'height': [175., 178.5, 185., 191., 184.5, 183., 168.]})"
   ]
  },
  {
   "cell_type": "code",
   "execution_count": 29,
   "id": "2f111d32",
   "metadata": {},
   "outputs": [],
   "source": [
    "df['height_cat'] = pd.cut(df['height'], bins=3)"
   ]
  },
  {
   "cell_type": "code",
   "execution_count": 30,
   "id": "5b734d07",
   "metadata": {},
   "outputs": [
    {
     "data": {
      "text/html": [
       "<div>\n",
       "<style scoped>\n",
       "    .dataframe tbody tr th:only-of-type {\n",
       "        vertical-align: middle;\n",
       "    }\n",
       "\n",
       "    .dataframe tbody tr th {\n",
       "        vertical-align: top;\n",
       "    }\n",
       "\n",
       "    .dataframe thead th {\n",
       "        text-align: right;\n",
       "    }\n",
       "</style>\n",
       "<table border=\"1\" class=\"dataframe\">\n",
       "  <thead>\n",
       "    <tr style=\"text-align: right;\">\n",
       "      <th></th>\n",
       "      <th>height</th>\n",
       "      <th>height_cat</th>\n",
       "    </tr>\n",
       "  </thead>\n",
       "  <tbody>\n",
       "    <tr>\n",
       "      <th>0</th>\n",
       "      <td>175.0</td>\n",
       "      <td>(167.977, 175.667]</td>\n",
       "    </tr>\n",
       "    <tr>\n",
       "      <th>1</th>\n",
       "      <td>178.5</td>\n",
       "      <td>(175.667, 183.333]</td>\n",
       "    </tr>\n",
       "    <tr>\n",
       "      <th>2</th>\n",
       "      <td>185.0</td>\n",
       "      <td>(183.333, 191.0]</td>\n",
       "    </tr>\n",
       "    <tr>\n",
       "      <th>3</th>\n",
       "      <td>191.0</td>\n",
       "      <td>(183.333, 191.0]</td>\n",
       "    </tr>\n",
       "    <tr>\n",
       "      <th>4</th>\n",
       "      <td>184.5</td>\n",
       "      <td>(183.333, 191.0]</td>\n",
       "    </tr>\n",
       "    <tr>\n",
       "      <th>5</th>\n",
       "      <td>183.0</td>\n",
       "      <td>(175.667, 183.333]</td>\n",
       "    </tr>\n",
       "    <tr>\n",
       "      <th>6</th>\n",
       "      <td>168.0</td>\n",
       "      <td>(167.977, 175.667]</td>\n",
       "    </tr>\n",
       "  </tbody>\n",
       "</table>\n",
       "</div>"
      ],
      "text/plain": [
       "   height          height_cat\n",
       "0   175.0  (167.977, 175.667]\n",
       "1   178.5  (175.667, 183.333]\n",
       "2   185.0    (183.333, 191.0]\n",
       "3   191.0    (183.333, 191.0]\n",
       "4   184.5    (183.333, 191.0]\n",
       "5   183.0  (175.667, 183.333]\n",
       "6   168.0  (167.977, 175.667]"
      ]
     },
     "execution_count": 30,
     "metadata": {},
     "output_type": "execute_result"
    }
   ],
   "source": [
    "df"
   ]
  },
  {
   "cell_type": "code",
   "execution_count": 37,
   "id": "b2dc9561",
   "metadata": {},
   "outputs": [],
   "source": [
    "df['height_cat'] = pd.cut(df['height'], bins=(160,175,185,198), labels = ['small','medium','high'])"
   ]
  },
  {
   "cell_type": "code",
   "execution_count": 39,
   "id": "58dc47d0",
   "metadata": {},
   "outputs": [
    {
     "data": {
      "text/html": [
       "<div>\n",
       "<style scoped>\n",
       "    .dataframe tbody tr th:only-of-type {\n",
       "        vertical-align: middle;\n",
       "    }\n",
       "\n",
       "    .dataframe tbody tr th {\n",
       "        vertical-align: top;\n",
       "    }\n",
       "\n",
       "    .dataframe thead th {\n",
       "        text-align: right;\n",
       "    }\n",
       "</style>\n",
       "<table border=\"1\" class=\"dataframe\">\n",
       "  <thead>\n",
       "    <tr style=\"text-align: right;\">\n",
       "      <th></th>\n",
       "      <th>height</th>\n",
       "      <th>height_cat</th>\n",
       "    </tr>\n",
       "  </thead>\n",
       "  <tbody>\n",
       "    <tr>\n",
       "      <th>0</th>\n",
       "      <td>175.0</td>\n",
       "      <td>small</td>\n",
       "    </tr>\n",
       "    <tr>\n",
       "      <th>1</th>\n",
       "      <td>178.5</td>\n",
       "      <td>medium</td>\n",
       "    </tr>\n",
       "    <tr>\n",
       "      <th>2</th>\n",
       "      <td>185.0</td>\n",
       "      <td>medium</td>\n",
       "    </tr>\n",
       "    <tr>\n",
       "      <th>3</th>\n",
       "      <td>191.0</td>\n",
       "      <td>high</td>\n",
       "    </tr>\n",
       "    <tr>\n",
       "      <th>4</th>\n",
       "      <td>184.5</td>\n",
       "      <td>medium</td>\n",
       "    </tr>\n",
       "    <tr>\n",
       "      <th>5</th>\n",
       "      <td>183.0</td>\n",
       "      <td>medium</td>\n",
       "    </tr>\n",
       "    <tr>\n",
       "      <th>6</th>\n",
       "      <td>168.0</td>\n",
       "      <td>small</td>\n",
       "    </tr>\n",
       "  </tbody>\n",
       "</table>\n",
       "</div>"
      ],
      "text/plain": [
       "   height height_cat\n",
       "0   175.0      small\n",
       "1   178.5     medium\n",
       "2   185.0     medium\n",
       "3   191.0       high\n",
       "4   184.5     medium\n",
       "5   183.0     medium\n",
       "6   168.0      small"
      ]
     },
     "execution_count": 39,
     "metadata": {},
     "output_type": "execute_result"
    }
   ],
   "source": [
    "df"
   ]
  },
  {
   "cell_type": "code",
   "execution_count": 43,
   "id": "3fcec65a",
   "metadata": {},
   "outputs": [],
   "source": [
    "df = pd.get_dummies(df, columns=['height_cat'], drop_first=True)"
   ]
  },
  {
   "cell_type": "code",
   "execution_count": 44,
   "id": "553cb9be",
   "metadata": {},
   "outputs": [
    {
     "data": {
      "text/html": [
       "<div>\n",
       "<style scoped>\n",
       "    .dataframe tbody tr th:only-of-type {\n",
       "        vertical-align: middle;\n",
       "    }\n",
       "\n",
       "    .dataframe tbody tr th {\n",
       "        vertical-align: top;\n",
       "    }\n",
       "\n",
       "    .dataframe thead th {\n",
       "        text-align: right;\n",
       "    }\n",
       "</style>\n",
       "<table border=\"1\" class=\"dataframe\">\n",
       "  <thead>\n",
       "    <tr style=\"text-align: right;\">\n",
       "      <th></th>\n",
       "      <th>height</th>\n",
       "      <th>height_cat_medium</th>\n",
       "      <th>height_cat_high</th>\n",
       "    </tr>\n",
       "  </thead>\n",
       "  <tbody>\n",
       "    <tr>\n",
       "      <th>0</th>\n",
       "      <td>175.0</td>\n",
       "      <td>0</td>\n",
       "      <td>0</td>\n",
       "    </tr>\n",
       "    <tr>\n",
       "      <th>1</th>\n",
       "      <td>178.5</td>\n",
       "      <td>1</td>\n",
       "      <td>0</td>\n",
       "    </tr>\n",
       "    <tr>\n",
       "      <th>2</th>\n",
       "      <td>185.0</td>\n",
       "      <td>1</td>\n",
       "      <td>0</td>\n",
       "    </tr>\n",
       "    <tr>\n",
       "      <th>3</th>\n",
       "      <td>191.0</td>\n",
       "      <td>0</td>\n",
       "      <td>1</td>\n",
       "    </tr>\n",
       "    <tr>\n",
       "      <th>4</th>\n",
       "      <td>184.5</td>\n",
       "      <td>1</td>\n",
       "      <td>0</td>\n",
       "    </tr>\n",
       "    <tr>\n",
       "      <th>5</th>\n",
       "      <td>183.0</td>\n",
       "      <td>1</td>\n",
       "      <td>0</td>\n",
       "    </tr>\n",
       "    <tr>\n",
       "      <th>6</th>\n",
       "      <td>168.0</td>\n",
       "      <td>0</td>\n",
       "      <td>0</td>\n",
       "    </tr>\n",
       "  </tbody>\n",
       "</table>\n",
       "</div>"
      ],
      "text/plain": [
       "   height  height_cat_medium  height_cat_high\n",
       "0   175.0                  0                0\n",
       "1   178.5                  1                0\n",
       "2   185.0                  1                0\n",
       "3   191.0                  0                1\n",
       "4   184.5                  1                0\n",
       "5   183.0                  1                0\n",
       "6   168.0                  0                0"
      ]
     },
     "execution_count": 44,
     "metadata": {},
     "output_type": "execute_result"
    }
   ],
   "source": [
    "df"
   ]
  },
  {
   "cell_type": "markdown",
   "id": "dc6373a3",
   "metadata": {},
   "source": [
    "## 3."
   ]
  },
  {
   "cell_type": "code",
   "execution_count": 45,
   "id": "02d9f21d",
   "metadata": {},
   "outputs": [],
   "source": [
    "df = pd.DataFrame(data= {'lang': [['PL', 'ENG'], ['PL', 'ENG', 'RUS', 'GER'], ['RUS']]})"
   ]
  },
  {
   "cell_type": "code",
   "execution_count": 46,
   "id": "2be941a2",
   "metadata": {},
   "outputs": [
    {
     "data": {
      "text/html": [
       "<div>\n",
       "<style scoped>\n",
       "    .dataframe tbody tr th:only-of-type {\n",
       "        vertical-align: middle;\n",
       "    }\n",
       "\n",
       "    .dataframe tbody tr th {\n",
       "        vertical-align: top;\n",
       "    }\n",
       "\n",
       "    .dataframe thead th {\n",
       "        text-align: right;\n",
       "    }\n",
       "</style>\n",
       "<table border=\"1\" class=\"dataframe\">\n",
       "  <thead>\n",
       "    <tr style=\"text-align: right;\">\n",
       "      <th></th>\n",
       "      <th>lang</th>\n",
       "    </tr>\n",
       "  </thead>\n",
       "  <tbody>\n",
       "    <tr>\n",
       "      <th>0</th>\n",
       "      <td>[PL, ENG]</td>\n",
       "    </tr>\n",
       "    <tr>\n",
       "      <th>1</th>\n",
       "      <td>[PL, ENG, RUS, GER]</td>\n",
       "    </tr>\n",
       "    <tr>\n",
       "      <th>2</th>\n",
       "      <td>[RUS]</td>\n",
       "    </tr>\n",
       "  </tbody>\n",
       "</table>\n",
       "</div>"
      ],
      "text/plain": [
       "                  lang\n",
       "0            [PL, ENG]\n",
       "1  [PL, ENG, RUS, GER]\n",
       "2                [RUS]"
      ]
     },
     "execution_count": 46,
     "metadata": {},
     "output_type": "execute_result"
    }
   ],
   "source": [
    "df"
   ]
  },
  {
   "cell_type": "code",
   "execution_count": 47,
   "id": "b6dc9655",
   "metadata": {},
   "outputs": [],
   "source": [
    "df['len'] = df['lang'].apply(lambda x: len(x))"
   ]
  },
  {
   "cell_type": "code",
   "execution_count": 48,
   "id": "79cdcced",
   "metadata": {},
   "outputs": [
    {
     "data": {
      "text/html": [
       "<div>\n",
       "<style scoped>\n",
       "    .dataframe tbody tr th:only-of-type {\n",
       "        vertical-align: middle;\n",
       "    }\n",
       "\n",
       "    .dataframe tbody tr th {\n",
       "        vertical-align: top;\n",
       "    }\n",
       "\n",
       "    .dataframe thead th {\n",
       "        text-align: right;\n",
       "    }\n",
       "</style>\n",
       "<table border=\"1\" class=\"dataframe\">\n",
       "  <thead>\n",
       "    <tr style=\"text-align: right;\">\n",
       "      <th></th>\n",
       "      <th>lang</th>\n",
       "      <th>len</th>\n",
       "    </tr>\n",
       "  </thead>\n",
       "  <tbody>\n",
       "    <tr>\n",
       "      <th>0</th>\n",
       "      <td>[PL, ENG]</td>\n",
       "      <td>2</td>\n",
       "    </tr>\n",
       "    <tr>\n",
       "      <th>1</th>\n",
       "      <td>[PL, ENG, RUS, GER]</td>\n",
       "      <td>4</td>\n",
       "    </tr>\n",
       "    <tr>\n",
       "      <th>2</th>\n",
       "      <td>[RUS]</td>\n",
       "      <td>1</td>\n",
       "    </tr>\n",
       "  </tbody>\n",
       "</table>\n",
       "</div>"
      ],
      "text/plain": [
       "                  lang  len\n",
       "0            [PL, ENG]    2\n",
       "1  [PL, ENG, RUS, GER]    4\n",
       "2                [RUS]    1"
      ]
     },
     "execution_count": 48,
     "metadata": {},
     "output_type": "execute_result"
    }
   ],
   "source": [
    "df"
   ]
  },
  {
   "cell_type": "code",
   "execution_count": 51,
   "id": "15840dbd",
   "metadata": {},
   "outputs": [],
   "source": [
    "df['pl_true'] = df['lang'].apply (lambda x: 1 if 'PL' in x else 0)"
   ]
  },
  {
   "cell_type": "markdown",
   "id": "7cc81d94",
   "metadata": {},
   "source": [
    "## 4."
   ]
  },
  {
   "cell_type": "code",
   "execution_count": 55,
   "id": "d9cdd462",
   "metadata": {},
   "outputs": [],
   "source": [
    "df = pd.DataFrame({'website': ['www.google.com', 'www.zambrow.org', 'www.facebook.com', 'www.onet.pl']})"
   ]
  },
  {
   "cell_type": "code",
   "execution_count": 60,
   "id": "5626b0fb",
   "metadata": {},
   "outputs": [],
   "source": [
    "columns = df['website'].str.split('.', expand=True)"
   ]
  },
  {
   "cell_type": "code",
   "execution_count": 64,
   "id": "7287dd25",
   "metadata": {},
   "outputs": [],
   "source": [
    "df['site'] = columns[1]\n",
    "df['domain'] = columns[2]"
   ]
  },
  {
   "cell_type": "code",
   "execution_count": 65,
   "id": "05211919",
   "metadata": {},
   "outputs": [
    {
     "data": {
      "text/html": [
       "<div>\n",
       "<style scoped>\n",
       "    .dataframe tbody tr th:only-of-type {\n",
       "        vertical-align: middle;\n",
       "    }\n",
       "\n",
       "    .dataframe tbody tr th {\n",
       "        vertical-align: top;\n",
       "    }\n",
       "\n",
       "    .dataframe thead th {\n",
       "        text-align: right;\n",
       "    }\n",
       "</style>\n",
       "<table border=\"1\" class=\"dataframe\">\n",
       "  <thead>\n",
       "    <tr style=\"text-align: right;\">\n",
       "      <th></th>\n",
       "      <th>website</th>\n",
       "      <th>site</th>\n",
       "      <th>domain</th>\n",
       "    </tr>\n",
       "  </thead>\n",
       "  <tbody>\n",
       "    <tr>\n",
       "      <th>0</th>\n",
       "      <td>www.google.com</td>\n",
       "      <td>google</td>\n",
       "      <td>com</td>\n",
       "    </tr>\n",
       "    <tr>\n",
       "      <th>1</th>\n",
       "      <td>www.zambrow.org</td>\n",
       "      <td>zambrow</td>\n",
       "      <td>org</td>\n",
       "    </tr>\n",
       "    <tr>\n",
       "      <th>2</th>\n",
       "      <td>www.facebook.com</td>\n",
       "      <td>facebook</td>\n",
       "      <td>com</td>\n",
       "    </tr>\n",
       "    <tr>\n",
       "      <th>3</th>\n",
       "      <td>www.onet.pl</td>\n",
       "      <td>onet</td>\n",
       "      <td>pl</td>\n",
       "    </tr>\n",
       "  </tbody>\n",
       "</table>\n",
       "</div>"
      ],
      "text/plain": [
       "            website      site domain\n",
       "0    www.google.com    google    com\n",
       "1   www.zambrow.org   zambrow    org\n",
       "2  www.facebook.com  facebook    com\n",
       "3       www.onet.pl      onet     pl"
      ]
     },
     "execution_count": 65,
     "metadata": {},
     "output_type": "execute_result"
    }
   ],
   "source": [
    "df"
   ]
  },
  {
   "cell_type": "code",
   "execution_count": null,
   "id": "7d52bbea",
   "metadata": {},
   "outputs": [],
   "source": []
  }
 ],
 "metadata": {
  "kernelspec": {
   "display_name": "Python 3 (ipykernel)",
   "language": "python",
   "name": "python3"
  },
  "language_info": {
   "codemirror_mode": {
    "name": "ipython",
    "version": 3
   },
   "file_extension": ".py",
   "mimetype": "text/x-python",
   "name": "python",
   "nbconvert_exporter": "python",
   "pygments_lexer": "ipython3",
   "version": "3.8.12"
  }
 },
 "nbformat": 4,
 "nbformat_minor": 5
}
