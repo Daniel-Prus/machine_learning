{
 "cells": [
  {
   "cell_type": "code",
   "execution_count": 1,
   "id": "0d24f75e",
   "metadata": {},
   "outputs": [],
   "source": [
    "import pandas as pd\n",
    "import numpy as np\n",
    "import sklearn"
   ]
  },
  {
   "cell_type": "code",
   "execution_count": 2,
   "id": "9379ddb9",
   "metadata": {},
   "outputs": [
    {
     "data": {
      "text/html": [
       "<div>\n",
       "<style scoped>\n",
       "    .dataframe tbody tr th:only-of-type {\n",
       "        vertical-align: middle;\n",
       "    }\n",
       "\n",
       "    .dataframe tbody tr th {\n",
       "        vertical-align: top;\n",
       "    }\n",
       "\n",
       "    .dataframe thead th {\n",
       "        text-align: right;\n",
       "    }\n",
       "</style>\n",
       "<table border=\"1\" class=\"dataframe\">\n",
       "  <thead>\n",
       "    <tr style=\"text-align: right;\">\n",
       "      <th></th>\n",
       "      <th>size</th>\n",
       "      <th>color</th>\n",
       "      <th>gender</th>\n",
       "      <th>price</th>\n",
       "      <th>weight</th>\n",
       "      <th>bought</th>\n",
       "    </tr>\n",
       "  </thead>\n",
       "  <tbody>\n",
       "    <tr>\n",
       "      <th>0</th>\n",
       "      <td>XL</td>\n",
       "      <td>red</td>\n",
       "      <td>female</td>\n",
       "      <td>199.0</td>\n",
       "      <td>500</td>\n",
       "      <td>yes</td>\n",
       "    </tr>\n",
       "    <tr>\n",
       "      <th>1</th>\n",
       "      <td>L</td>\n",
       "      <td>green</td>\n",
       "      <td>male</td>\n",
       "      <td>89.0</td>\n",
       "      <td>450</td>\n",
       "      <td>no</td>\n",
       "    </tr>\n",
       "    <tr>\n",
       "      <th>2</th>\n",
       "      <td>M</td>\n",
       "      <td>blue</td>\n",
       "      <td>male</td>\n",
       "      <td>99.0</td>\n",
       "      <td>300</td>\n",
       "      <td>yes</td>\n",
       "    </tr>\n",
       "    <tr>\n",
       "      <th>3</th>\n",
       "      <td>L</td>\n",
       "      <td>green</td>\n",
       "      <td>female</td>\n",
       "      <td>129.0</td>\n",
       "      <td>380</td>\n",
       "      <td>no</td>\n",
       "    </tr>\n",
       "    <tr>\n",
       "      <th>4</th>\n",
       "      <td>M</td>\n",
       "      <td>red</td>\n",
       "      <td>female</td>\n",
       "      <td>79.0</td>\n",
       "      <td>410</td>\n",
       "      <td>yes</td>\n",
       "    </tr>\n",
       "  </tbody>\n",
       "</table>\n",
       "</div>"
      ],
      "text/plain": [
       "  size  color  gender  price  weight bought\n",
       "0   XL    red  female  199.0     500    yes\n",
       "1    L  green    male   89.0     450     no\n",
       "2    M   blue    male   99.0     300    yes\n",
       "3    L  green  female  129.0     380     no\n",
       "4    M    red  female   79.0     410    yes"
      ]
     },
     "execution_count": 2,
     "metadata": {},
     "output_type": "execute_result"
    }
   ],
   "source": [
    "#Dane:\n",
    "\n",
    "data = {\n",
    "    'size': ['XL', 'L', 'M', 'L', 'M'],\n",
    "    'color': ['red', 'green', 'blue', 'green', 'red'],\n",
    "    'gender': ['female', 'male', 'male', 'female', 'female'],\n",
    "    'price': [199.0, 89.0, 99.0, 129.0, 79.0],\n",
    "    'weight': [500, 450, 300, 380, 410],\n",
    "    'bought': ['yes', 'no', 'yes', 'no', 'yes']}\n",
    "\n",
    "df_raw = pd.DataFrame(data)\n",
    "\n",
    "# kopia zapasowa\n",
    "df = df_raw.copy()\n",
    "df"
   ]
  },
  {
   "cell_type": "markdown",
   "id": "1d7d20e0",
   "metadata": {},
   "source": [
    "### 1. Standaryzacja ręczna:\n",
    "\n",
    "(x - Xmu) / Xstd"
   ]
  },
  {
   "cell_type": "markdown",
   "id": "b098bce9",
   "metadata": {},
   "source": [
    "#### - pandas - estymator nieobciążony"
   ]
  },
  {
   "cell_type": "code",
   "execution_count": 3,
   "id": "a38cac85",
   "metadata": {
    "scrolled": true
   },
   "outputs": [
    {
     "data": {
      "text/plain": [
       "0    1.650274\n",
       "1   -0.618853\n",
       "2   -0.412568\n",
       "3    0.206284\n",
       "4   -0.825137\n",
       "Name: price, dtype: float64"
      ]
     },
     "execution_count": 3,
     "metadata": {},
     "output_type": "execute_result"
    }
   ],
   "source": [
    "(df['price'] - df['price'].mean()) / df['price'].std()"
   ]
  },
  {
   "cell_type": "code",
   "execution_count": 34,
   "id": "ac9bafdb",
   "metadata": {},
   "outputs": [
    {
     "data": {
      "text/plain": [
       "2350.0"
      ]
     },
     "execution_count": 34,
     "metadata": {},
     "output_type": "execute_result"
    }
   ],
   "source": [
    "df['price'].var()"
   ]
  },
  {
   "cell_type": "code",
   "execution_count": 35,
   "id": "970b2705",
   "metadata": {},
   "outputs": [
    {
     "data": {
      "text/plain": [
       "48.47679857416329"
      ]
     },
     "execution_count": 35,
     "metadata": {},
     "output_type": "execute_result"
    }
   ],
   "source": [
    "df['price'].std()"
   ]
  },
  {
   "cell_type": "markdown",
   "id": "053694e0",
   "metadata": {},
   "source": [
    "#### - numpy - estymator obciążony"
   ]
  },
  {
   "cell_type": "code",
   "execution_count": 36,
   "id": "ea914fa4",
   "metadata": {},
   "outputs": [
    {
     "data": {
      "text/plain": [
       "array([199.,  89.,  99., 129.,  79.])"
      ]
     },
     "execution_count": 36,
     "metadata": {},
     "output_type": "execute_result"
    }
   ],
   "source": [
    "price = df['price'].to_numpy()\n",
    "price"
   ]
  },
  {
   "cell_type": "code",
   "execution_count": 37,
   "id": "55be5e04",
   "metadata": {},
   "outputs": [
    {
     "data": {
      "text/plain": [
       "1880.0"
      ]
     },
     "execution_count": 37,
     "metadata": {},
     "output_type": "execute_result"
    }
   ],
   "source": [
    "price.var()"
   ]
  },
  {
   "cell_type": "code",
   "execution_count": 38,
   "id": "d52730ac",
   "metadata": {},
   "outputs": [
    {
     "data": {
      "text/plain": [
       "43.3589667773576"
      ]
     },
     "execution_count": 38,
     "metadata": {},
     "output_type": "execute_result"
    }
   ],
   "source": [
    "price.std()"
   ]
  },
  {
   "cell_type": "code",
   "execution_count": 9,
   "id": "fcb338ed",
   "metadata": {},
   "outputs": [
    {
     "data": {
      "text/plain": [
       "array([ 1.84506242, -0.69189841, -0.4612656 ,  0.2306328 , -0.92253121])"
      ]
     },
     "execution_count": 9,
     "metadata": {},
     "output_type": "execute_result"
    }
   ],
   "source": [
    "(price - price.mean())/ price.std()"
   ]
  },
  {
   "cell_type": "markdown",
   "id": "13f0309c",
   "metadata": {},
   "source": [
    "#### - funkcja:"
   ]
  },
  {
   "cell_type": "code",
   "execution_count": 10,
   "id": "c636639a",
   "metadata": {},
   "outputs": [],
   "source": [
    "def standarize(x):\n",
    "    return (x- x.mean()) / x.std()"
   ]
  },
  {
   "cell_type": "code",
   "execution_count": 11,
   "id": "4424afab",
   "metadata": {},
   "outputs": [
    {
     "data": {
      "text/plain": [
       "0    1.650274\n",
       "1   -0.618853\n",
       "2   -0.412568\n",
       "3    0.206284\n",
       "4   -0.825137\n",
       "Name: price, dtype: float64"
      ]
     },
     "execution_count": 11,
     "metadata": {},
     "output_type": "execute_result"
    }
   ],
   "source": [
    "# pandas\n",
    "\n",
    "standarize(df['price'])"
   ]
  },
  {
   "cell_type": "markdown",
   "id": "79b5afd6",
   "metadata": {},
   "source": [
    "#### - odwrócenie wzoru"
   ]
  },
  {
   "cell_type": "code",
   "execution_count": 12,
   "id": "a2a5a7b0",
   "metadata": {
    "scrolled": true
   },
   "outputs": [
    {
     "data": {
      "text/plain": [
       "0    199.0\n",
       "1     89.0\n",
       "2     99.0\n",
       "3    129.0\n",
       "4     79.0\n",
       "Name: price, dtype: float64"
      ]
     },
     "execution_count": 12,
     "metadata": {},
     "output_type": "execute_result"
    }
   ],
   "source": [
    "df['price']"
   ]
  },
  {
   "cell_type": "code",
   "execution_count": 13,
   "id": "9a89296f",
   "metadata": {},
   "outputs": [],
   "source": [
    "# odwrócenie wzoru:\n",
    "\n",
    "s = standarize(df['price'])\n",
    "\n",
    "# s= (x -x.mean) / x.std\n",
    "price_mean = 119\n",
    "price_std = 43.358966777357\n",
    "s = standarize(price)\n"
   ]
  },
  {
   "cell_type": "code",
   "execution_count": 14,
   "id": "4a362062",
   "metadata": {},
   "outputs": [
    {
     "data": {
      "text/plain": [
       "array([199.,  89.,  99., 129.,  79.])"
      ]
     },
     "execution_count": 14,
     "metadata": {},
     "output_type": "execute_result"
    }
   ],
   "source": [
    "# wyprowadzenie wzoru\n",
    "\"\"\"\n",
    "s= (x -x.mean) / x.std                      wzór\n",
    "\n",
    "s= (x -x.mean) / x.std  // * std            mnożymy przez prawy mianownik\n",
    "\n",
    "s * std = x - x.mean                        \n",
    "\n",
    "x - x.mean = s * std                        zamiana strom\n",
    "\n",
    "x = s * std + x.mean                        wzór na x\n",
    "\"\"\"\n",
    "\n",
    "price = s * price_std + price_mean\n",
    "price"
   ]
  },
  {
   "cell_type": "code",
   "execution_count": null,
   "id": "1b99c481",
   "metadata": {},
   "outputs": [],
   "source": []
  },
  {
   "cell_type": "markdown",
   "id": "54816f18",
   "metadata": {},
   "source": [
    "### 2. Zadanie z Data Science Bootcamp\n",
    "\n",
    "Ustaw ziarno losowe na wartość 30. Następnie zbuduj dwuwymiarową tablicę o kształcie (10, 4) wartości pseudolosowo wygenerowanych z rozkładu normalego  N(100,5).\n",
    "\n",
    "μ=100 \n",
    "\n",
    "σ2=5"
   ]
  },
  {
   "cell_type": "code",
   "execution_count": 15,
   "id": "d3546344",
   "metadata": {},
   "outputs": [],
   "source": [
    "np.random.seed(30)\n",
    "mu = 100\n",
    "sigma = np.sqrt(5)"
   ]
  },
  {
   "cell_type": "code",
   "execution_count": 16,
   "id": "d2a75b3a",
   "metadata": {},
   "outputs": [
    {
     "data": {
      "text/plain": [
       "array([[-1.26405266,  1.52790535, -0.97071094,  0.47055962],\n",
       "       [-0.10069672,  0.30379318, -1.72596243,  1.58509537],\n",
       "       [ 0.13429659, -1.10685547,  1.57822555,  0.10749794],\n",
       "       [-0.76404783, -0.77518851,  1.38384717,  0.76038508],\n",
       "       [-0.28564551,  0.53836748, -2.08389663,  0.93778171],\n",
       "       [-0.005778  , -0.46747897, -0.4230153 ,  1.06448209],\n",
       "       [-2.9033676 ,  1.61689037,  1.42550989, -0.66475512],\n",
       "       [ 0.98501786, -1.70046527, -1.10014381, -1.31564409],\n",
       "       [ 0.81050091, -1.04477837, -0.68922937, -0.85275686],\n",
       "       [ 1.11347211, -1.92116972, -0.70140242,  0.84908785]])"
      ]
     },
     "execution_count": 16,
     "metadata": {},
     "output_type": "execute_result"
    }
   ],
   "source": [
    "np.random.randn(10,4) "
   ]
  },
  {
   "cell_type": "code",
   "execution_count": 17,
   "id": "4ddbc9e4",
   "metadata": {},
   "outputs": [
    {
     "data": {
      "text/plain": [
       "array([[102.34943615,  98.79951222,  99.9347231 , 103.11720395],\n",
       "       [ 99.11034135, 102.27883811, 104.24602767,  99.20653207],\n",
       "       [ 99.13460486,  95.69041414, 101.23152918, 102.13400447],\n",
       "       [101.75034147,  95.99019815, 102.77687331, 103.8186381 ],\n",
       "       [100.72259296,  97.78219087,  97.39882154,  99.95229327],\n",
       "       [ 96.46255099,  97.22031218,  99.08283418,  97.64077982],\n",
       "       [ 97.63577818,  97.12862661, 102.0418119 ,  96.89690708],\n",
       "       [100.06714412,  98.99375205, 100.45980967,  98.97135019],\n",
       "       [ 99.61223676,  99.51554504,  99.41876804, 101.26627061],\n",
       "       [102.21487558,  98.67006883, 100.76800657,  94.21009881]])"
      ]
     },
     "execution_count": 17,
     "metadata": {},
     "output_type": "execute_result"
    }
   ],
   "source": [
    "np.random.randn(10,4) * sigma + mu"
   ]
  },
  {
   "cell_type": "markdown",
   "id": "44424ebe",
   "metadata": {},
   "source": [
    "### 3. Wnioskowanie statystyczne\n",
    "\n",
    "https://www.fuw.edu.pl/~prozanski/WS/?var"
   ]
  },
  {
   "cell_type": "markdown",
   "id": "d7e6db9c",
   "metadata": {},
   "source": [
    "\n",
    "\n",
    "\n",
    "### Estymator dla znanej wartości oczekiwanej\n",
    "\n",
    "Ten estymator jest nieobciążony i zgodny, ale użyteczny tylko wówczas, gdy znamy prawdziwą wartość oczekiwaną μ populacji. W przeciwnym wypadku, mamy do dyspozycji dwa estymatory i warto uważać aby ich nie pomylić.\n"
   ]
  },
  {
   "cell_type": "code",
   "execution_count": 18,
   "id": "4245d891",
   "metadata": {
    "scrolled": true
   },
   "outputs": [],
   "source": [
    "X = np.array([199.0, 89.0, 99.0, 129.0, 79.0])\n",
    "mu = np.mean(X)  # znana wartość oczekiwana\n",
    "\n",
    "\n",
    "# wariancja\n",
    "s2 = np.sum( (X - mu)**2 ) / len(X)\n",
    "\n",
    "# odchylenie standardowe jako pierwiastek z wariancji\n",
    "s = np.sqrt(s2)"
   ]
  },
  {
   "cell_type": "code",
   "execution_count": 19,
   "id": "fc8f55f9",
   "metadata": {},
   "outputs": [
    {
     "data": {
      "text/plain": [
       "1880.0"
      ]
     },
     "execution_count": 19,
     "metadata": {},
     "output_type": "execute_result"
    }
   ],
   "source": [
    "s2 "
   ]
  },
  {
   "cell_type": "code",
   "execution_count": 20,
   "id": "0cc39324",
   "metadata": {},
   "outputs": [
    {
     "data": {
      "text/plain": [
       "43.3589667773576"
      ]
     },
     "execution_count": 20,
     "metadata": {},
     "output_type": "execute_result"
    }
   ],
   "source": [
    "s"
   ]
  },
  {
   "cell_type": "code",
   "execution_count": 21,
   "id": "a066301e",
   "metadata": {},
   "outputs": [
    {
     "data": {
      "text/plain": [
       "1880.0"
      ]
     },
     "execution_count": 21,
     "metadata": {},
     "output_type": "execute_result"
    }
   ],
   "source": [
    "np.var(X)"
   ]
  },
  {
   "cell_type": "code",
   "execution_count": 22,
   "id": "5b6eaf66",
   "metadata": {},
   "outputs": [
    {
     "data": {
      "text/plain": [
       "43.3589667773576"
      ]
     },
     "execution_count": 22,
     "metadata": {},
     "output_type": "execute_result"
    }
   ],
   "source": [
    "np.std(X)"
   ]
  },
  {
   "cell_type": "markdown",
   "id": "3649e66b",
   "metadata": {},
   "source": [
    "### Estymator nieobciążony wariancji\n",
    "\n",
    "Z tego estymatora korzystamy wtedy, gdy nie znamy wariancji. Warto pamiętać, że o ile s21 jest estymatorem nieobciążonym wariancji, to s1 jako estymator odchylenia standardowego jest już obciążony.\n"
   ]
  },
  {
   "cell_type": "code",
   "execution_count": 23,
   "id": "2de95b13",
   "metadata": {},
   "outputs": [],
   "source": [
    "X = np.array([199.0, 89.0, 99.0, 129.0, 79.0])\n",
    "\n",
    "# wariancja\n",
    "s2 = np.var(X, ddof=1)\n",
    "# odchylenie standardowe czyli pierwiastek z wariancji\n",
    "s = np.std(X, ddof=1)"
   ]
  },
  {
   "cell_type": "markdown",
   "id": "a3efa011",
   "metadata": {},
   "source": [
    "#### - numpy - nieobciążony"
   ]
  },
  {
   "cell_type": "code",
   "execution_count": 24,
   "id": "5298cac1",
   "metadata": {},
   "outputs": [
    {
     "data": {
      "text/plain": [
       "2350.0"
      ]
     },
     "execution_count": 24,
     "metadata": {},
     "output_type": "execute_result"
    }
   ],
   "source": [
    "s2"
   ]
  },
  {
   "cell_type": "code",
   "execution_count": 25,
   "id": "d9ede12a",
   "metadata": {},
   "outputs": [
    {
     "data": {
      "text/plain": [
       "48.47679857416329"
      ]
     },
     "execution_count": 25,
     "metadata": {},
     "output_type": "execute_result"
    }
   ],
   "source": [
    "s"
   ]
  },
  {
   "cell_type": "markdown",
   "id": "b03590de",
   "metadata": {},
   "source": [
    "#### - pandas - nieobciążony"
   ]
  },
  {
   "cell_type": "code",
   "execution_count": 26,
   "id": "6e8d8f23",
   "metadata": {},
   "outputs": [],
   "source": [
    "price = df['price']"
   ]
  },
  {
   "cell_type": "code",
   "execution_count": 27,
   "id": "527b5e97",
   "metadata": {},
   "outputs": [
    {
     "data": {
      "text/plain": [
       "48.47679857416329"
      ]
     },
     "execution_count": 27,
     "metadata": {},
     "output_type": "execute_result"
    }
   ],
   "source": [
    "price.std()"
   ]
  },
  {
   "cell_type": "code",
   "execution_count": 28,
   "id": "0d86ec14",
   "metadata": {},
   "outputs": [
    {
     "data": {
      "text/plain": [
       "2350.0"
      ]
     },
     "execution_count": 28,
     "metadata": {},
     "output_type": "execute_result"
    }
   ],
   "source": [
    "price.var()"
   ]
  },
  {
   "cell_type": "markdown",
   "id": "6a8c0835",
   "metadata": {},
   "source": [
    "#### - numpy obciążony"
   ]
  },
  {
   "cell_type": "code",
   "execution_count": 29,
   "id": "eeb38b9c",
   "metadata": {},
   "outputs": [
    {
     "data": {
      "text/plain": [
       "1880.0"
      ]
     },
     "execution_count": 29,
     "metadata": {},
     "output_type": "execute_result"
    }
   ],
   "source": [
    "np.var(X)"
   ]
  },
  {
   "cell_type": "code",
   "execution_count": 30,
   "id": "412a7bdc",
   "metadata": {},
   "outputs": [
    {
     "data": {
      "text/plain": [
       "43.3589667773576"
      ]
     },
     "execution_count": 30,
     "metadata": {},
     "output_type": "execute_result"
    }
   ],
   "source": [
    "np.std(X)"
   ]
  },
  {
   "cell_type": "markdown",
   "id": "7505ef25",
   "metadata": {},
   "source": [
    "### Estymator obciążony wariancji\n",
    "\n",
    "\n",
    "Z tego estymatora raczej nie korzystamy, ale warto go odróżniać, ponieważ niekiedy wzory zapisane są z jego pomocą. Jest to też estymator największej wiarygodności."
   ]
  },
  {
   "cell_type": "code",
   "execution_count": 31,
   "id": "ff649a49",
   "metadata": {},
   "outputs": [],
   "source": [
    "import numpy\n",
    "X = np.array([199.0, 89.0, 99.0, 129.0, 79.0])\n",
    "\n",
    "# wariancja\n",
    "s2 = numpy.var(X)\n",
    "\n",
    "# odchylenie standardowe czyli pierwiastek z wariancji\n",
    "s = numpy.std(X)"
   ]
  },
  {
   "cell_type": "code",
   "execution_count": 32,
   "id": "b5ce2892",
   "metadata": {},
   "outputs": [
    {
     "data": {
      "text/plain": [
       "1880.0"
      ]
     },
     "execution_count": 32,
     "metadata": {},
     "output_type": "execute_result"
    }
   ],
   "source": [
    "s2"
   ]
  },
  {
   "cell_type": "code",
   "execution_count": 33,
   "id": "7a817e4c",
   "metadata": {},
   "outputs": [
    {
     "data": {
      "text/plain": [
       "43.3589667773576"
      ]
     },
     "execution_count": 33,
     "metadata": {},
     "output_type": "execute_result"
    }
   ],
   "source": [
    "s"
   ]
  },
  {
   "cell_type": "code",
   "execution_count": null,
   "id": "675d4766",
   "metadata": {},
   "outputs": [],
   "source": []
  }
 ],
 "metadata": {
  "kernelspec": {
   "display_name": "Python 3 (ipykernel)",
   "language": "python",
   "name": "python3"
  },
  "language_info": {
   "codemirror_mode": {
    "name": "ipython",
    "version": 3
   },
   "file_extension": ".py",
   "mimetype": "text/x-python",
   "name": "python",
   "nbconvert_exporter": "python",
   "pygments_lexer": "ipython3",
   "version": "3.8.12"
  }
 },
 "nbformat": 4,
 "nbformat_minor": 5
}
