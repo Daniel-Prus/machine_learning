{
 "cells": [
  {
   "cell_type": "markdown",
   "id": "e650cc27",
   "metadata": {},
   "source": [
    "### 1. Przygotowywanie zbiorów train and test\n",
    "\n",
    "\n",
    "\n",
    "\n",
    "\n",
    "\n",
    "- zaimportuj biblioteki i pobierz dane load_breast_cancer ze scikit learn\n",
    "\n",
    "\n",
    "- wczytaj, wstępnie przeanalizuj dane (użyj funkcji numpy do drukowania, jeśli będzie zbyt nieczytelne, najpierw spróbuj bez)\n",
    "\n",
    "\n",
    "- przygotuj dane - połącz zmienne objaśniające i target w jedną tablicę numpy (wyprintuj i sprawdź dane)\n",
    "\n",
    "\n",
    "\n",
    "- połącza tablicę numpy z nazwami kolumn numpy - utwórz dataframe\n",
    "\n",
    "\n",
    "- zrób analize danych - describe zmienne numeryczne kategoryczne, info, sprawdź null itd, narysuj wykres kołowy dla zmiennej objaśnianej\n",
    "\n",
    "\n",
    "- według danych, są zmienne, które się korelują - sprawdź to !!!!\n",
    "\n",
    "\n",
    "- rodziel zbiór na dwie części data i target (wytnij z data na zawsze kolumnę z target)\n",
    "\n",
    "\n",
    "\n",
    "\n",
    "- utwórz zbiory testowe i treningowe z rodzieleniem zmiennych  - objaśniane(predictors) i zmienna target\n",
    "\n",
    "\n",
    "\n",
    "- zadabaj o równomierne rozłożenie zmiennej objaśnianej w zbiorze treningowym i testowym (zmień ziarno losowe)\n",
    "\n",
    "\n",
    "\n",
    "\n",
    "- wyprintuj wszystkie wskaźniki zbiorów train i test\n",
    "\n",
    "\n",
    "\n",
    "- jaka jest domyślna wielkośc zbiorów train and test, jaka powinna być ? Spróbuj zmienić wielkość zbiorów test and train\n"
   ]
  },
  {
   "cell_type": "code",
   "execution_count": null,
   "id": "761c2c2f",
   "metadata": {},
   "outputs": [],
   "source": []
  }
 ],
 "metadata": {
  "kernelspec": {
   "display_name": "Python 3 (ipykernel)",
   "language": "python",
   "name": "python3"
  },
  "language_info": {
   "codemirror_mode": {
    "name": "ipython",
    "version": 3
   },
   "file_extension": ".py",
   "mimetype": "text/x-python",
   "name": "python",
   "nbconvert_exporter": "python",
   "pygments_lexer": "ipython3",
   "version": "3.8.12"
  }
 },
 "nbformat": 4,
 "nbformat_minor": 5
}
