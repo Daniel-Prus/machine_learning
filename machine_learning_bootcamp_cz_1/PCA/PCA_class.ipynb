{
 "cells": [
  {
   "cell_type": "code",
   "execution_count": 1,
   "id": "e59ffdca",
   "metadata": {},
   "outputs": [],
   "source": [
    "#https://towardsdatascience.com/implementing-pca-from-scratch-ea3970714d2b\n",
    "class PCA_impl:\n",
    "    def __init__(self,n_components,random_state=None,standardize=True):\n",
    "        self.n_components = n_components\n",
    "        self.random_state = random_state\n",
    "        self.standardize = standardize\n",
    "\n",
    "    def fit(self,X):\n",
    "\n",
    "        self.X_copy = X.copy().astype('float32')\n",
    "\n",
    "        if self.standardize==True:\n",
    "            self.mean_ = np.mean(self.X_copy, axis=0)\n",
    "            self.std_ = np.std(self.X_copy, axis=0)\n",
    "            self.X_copy -= self.mean_\n",
    "            self.X_copy /= self.std_\n",
    "\n",
    "        if self.random_state ==True:\n",
    "            random.seed(0)\n",
    "\n",
    "        cov_mat = np.cov(self.X_copy.T)    \n",
    "        eigen_values, eigen_vectors = np.linalg.eig(cov_mat)\n",
    "        sorted_index = np.argsort(eigen_values)[::-1]\n",
    "        self.sorted_eigenvalue_ = eigen_values[sorted_index]\n",
    "        self.sorted_eigenvectors_ = eigen_vectors[:,sorted_index]\n",
    "        self.explained_variance_ = self.sorted_eigenvalue_[0:self.n_components]\n",
    "        total_var = self.sorted_eigenvalue_.sum()\n",
    "        self.explained_variance_ratio_ = self.explained_variance_ / total_var\n",
    "        self.cum_var_explained = np.cumsum(self.explained_variance_ratio_)\n",
    "\n",
    "        self.projection_matrix_ = self.sorted_eigenvectors_[:,0:self.n_components]\n",
    "        \n",
    "        return\n",
    "\n",
    "    def fit_transform(self,X,y):\n",
    "        self.fit(X)\n",
    "        self.components_ = np.dot(self.X_copy,self.projection_matrix_)\n",
    "        self.df = pd.DataFrame(data=self.components_, columns=['PC{}'.format(i+1) for i in range(self.n_components)])\n",
    "        self.df['label'] = y\n",
    "        return self.components_\n",
    "\n",
    "    def pca_plot2d(self):\n",
    "        fig = px.scatter(self.components_, x=0, y=1, color=self.df.label,labels={'0': 'PC 1', '1': 'PC 2'})\n",
    "        fig.show()\n",
    "\n",
    "    def pca_plot3d(self):\n",
    "        fig = px.scatter_3d(self.components_, x=0, y=1,z=2, color=self.df.label,labels={'0': 'PC 1', '1': 'PC 2'})\n",
    "        fig.show() "
   ]
  },
  {
   "cell_type": "code",
   "execution_count": null,
   "id": "b5ae9cc2",
   "metadata": {},
   "outputs": [],
   "source": []
  }
 ],
 "metadata": {
  "kernelspec": {
   "display_name": "Python 3 (ipykernel)",
   "language": "python",
   "name": "python3"
  },
  "language_info": {
   "codemirror_mode": {
    "name": "ipython",
    "version": 3
   },
   "file_extension": ".py",
   "mimetype": "text/x-python",
   "name": "python",
   "nbconvert_exporter": "python",
   "pygments_lexer": "ipython3",
   "version": "3.8.12"
  }
 },
 "nbformat": 4,
 "nbformat_minor": 5
}
