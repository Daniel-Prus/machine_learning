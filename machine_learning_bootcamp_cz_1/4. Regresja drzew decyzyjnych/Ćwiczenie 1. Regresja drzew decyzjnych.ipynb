{
 "cells": [
  {
   "cell_type": "markdown",
   "id": "1d8ce19c",
   "metadata": {},
   "source": [
    "#### 1. Regresja wielomianowa:\n",
    "\n",
    "\n",
    "\n",
    "\n",
    "\n",
    "- wygeneruj dane  i narysuj wykres w matplotlib tych danych\n",
    "\n",
    "\n",
    "- zrób regresję liniową prostą i predykcje i dołącz do wykresu\n",
    "\n",
    "\n",
    "- zbadaj współczynnik r2 score\n",
    "\n",
    "\n",
    "- wykonaj regresję drzew decyzyjnych stopnia 1,2,3 (max_depth). Który model jest przeuczony i dlaczego ?\n",
    "\n",
    "\n",
    "- do powyższego sprawdź wszystkie naistotniejsze współczynniki - max error, mae, mse rmse itd.\n",
    "\n",
    "\n",
    "- zbuduj graf i zapisz (skorzystaj z funkcji z lekcji, niepotrzebnie zeby sie tego uczyć na pamięc)"
   ]
  },
  {
   "cell_type": "code",
   "execution_count": null,
   "id": "6bb8b5a3",
   "metadata": {},
   "outputs": [],
   "source": [
    "from sklearn.datasets import make_regression\n",
    "\n",
    "data, target = make_regression(n_samples=200, n_features=1, noise=20)\n",
    "target = target ** 2\n",
    "\n",
    "print (f'{data[:5]}\\n')\n",
    "print (target[:5])"
   ]
  }
 ],
 "metadata": {
  "kernelspec": {
   "display_name": "Python 3 (ipykernel)",
   "language": "python",
   "name": "python3"
  },
  "language_info": {
   "codemirror_mode": {
    "name": "ipython",
    "version": 3
   },
   "file_extension": ".py",
   "mimetype": "text/x-python",
   "name": "python",
   "nbconvert_exporter": "python",
   "pygments_lexer": "ipython3",
   "version": "3.8.12"
  }
 },
 "nbformat": 4,
 "nbformat_minor": 5
}
