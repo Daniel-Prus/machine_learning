{
 "cells": [
  {
   "cell_type": "markdown",
   "id": "f091dec7",
   "metadata": {},
   "source": [
    "### 1. Uczenie maszynowe - regresja liniowa\n",
    "\n",
    "![alt text](regresja_liniowa.png \"Wartość zero\")"
   ]
  },
  {
   "cell_type": "markdown",
   "id": "b6a22d6e",
   "metadata": {},
   "source": [
    "- musimy odgadnąć pensję dla 6 roku pracy - 4250\n",
    "- użyliśmy prostego liniowego przekształcenia (jest to problem liniowy, bo dane rosną liniowo)\n",
    "\n",
    "- w0 - oznacza wyraz wolny"
   ]
  },
  {
   "cell_type": "markdown",
   "id": "4b6f90d7",
   "metadata": {},
   "source": [
    "![image.png](regresja_wzór.png)"
   ]
  },
  {
   "cell_type": "markdown",
   "id": "e1702a6b",
   "metadata": {},
   "source": [
    "![image.png](regresja_wykres.png)"
   ]
  },
  {
   "cell_type": "markdown",
   "id": "3865e763",
   "metadata": {},
   "source": [
    "![image.png](regresja_wykres_2.png)"
   ]
  },
  {
   "cell_type": "markdown",
   "id": "9811a226",
   "metadata": {},
   "source": [
    "- w0 i w1 są to wartości, które podlegają uczeniu\n",
    "\n",
    "- w0 jest to punkt przecięcia z osią y\n",
    "\n",
    "- w1 - jest to nachylenie prostej, \n"
   ]
  },
  {
   "cell_type": "markdown",
   "id": "a49562da",
   "metadata": {},
   "source": [
    "### 2. Metoda najmniejszych kwadratów OLS - Mean square error"
   ]
  },
  {
   "cell_type": "markdown",
   "id": "304592b0",
   "metadata": {},
   "source": [
    "![image.png](regresja_mse.png)"
   ]
  },
  {
   "cell_type": "markdown",
   "id": "51df2341",
   "metadata": {},
   "source": [
    "- y_pred - predykcja na podstawie modelu\n",
    "\n",
    "- MSE musi być zooptymalizowan żeby znaleźc najlepsza linię\n",
    "\n",
    "- problem regresji liniowej sprowadza się do problemu optymalizacji funkcji kwadratowej - najmniejszy (min) błąd kwadratowy - MSE"
   ]
  },
  {
   "cell_type": "markdown",
   "id": "b940b3a3",
   "metadata": {},
   "source": [
    "### 3. RMSE - root mean swuare error:\n",
    "\n",
    "![image.png](rmse.png)"
   ]
  },
  {
   "cell_type": "markdown",
   "id": "c1835690",
   "metadata": {},
   "source": [
    "- rmse - jest to pierwiastek z mse - łatwiejszy do interpretacji - pokazuje jaki jest średnie odchylenie pomyłki w y_pred od y_true"
   ]
  },
  {
   "cell_type": "markdown",
   "id": "f979c9c6",
   "metadata": {},
   "source": [
    "#### 4. Modele dla wielu zimiennych x\n",
    "\n",
    "\n",
    "![image.png](regresja_zmienne.png)"
   ]
  },
  {
   "cell_type": "markdown",
   "id": "b938ff27",
   "metadata": {},
   "source": [
    "- w powyższym przypadku mamy doczynenia z wiekszą ilościa zmiennych np. 2 zmienne w przestrzeni R3"
   ]
  },
  {
   "cell_type": "code",
   "execution_count": null,
   "id": "f50e8ece",
   "metadata": {},
   "outputs": [],
   "source": []
  }
 ],
 "metadata": {
  "kernelspec": {
   "display_name": "Python 3 (ipykernel)",
   "language": "python",
   "name": "python3"
  },
  "language_info": {
   "codemirror_mode": {
    "name": "ipython",
    "version": 3
   },
   "file_extension": ".py",
   "mimetype": "text/x-python",
   "name": "python",
   "nbconvert_exporter": "python",
   "pygments_lexer": "ipython3",
   "version": "3.8.12"
  }
 },
 "nbformat": 4,
 "nbformat_minor": 5
}
