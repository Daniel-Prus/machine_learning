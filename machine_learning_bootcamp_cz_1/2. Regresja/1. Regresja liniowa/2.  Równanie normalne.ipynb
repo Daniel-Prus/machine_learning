{
 "cells": [
  {
   "cell_type": "markdown",
   "id": "d13200d3",
   "metadata": {},
   "source": [
    "### 1. Równanie normalne:\n",
    "\n",
    "![image.png](równanie_normalne.png)"
   ]
  },
  {
   "cell_type": "code",
   "execution_count": 1,
   "id": "0657810a",
   "metadata": {},
   "outputs": [],
   "source": [
    "import numpy as np"
   ]
  },
  {
   "cell_type": "markdown",
   "id": "d2bfc18a",
   "metadata": {},
   "source": [
    "### 2. Przygotowanie danych"
   ]
  },
  {
   "cell_type": "code",
   "execution_count": 2,
   "id": "7aeffa98",
   "metadata": {},
   "outputs": [
    {
     "name": "stdout",
     "output_type": "stream",
     "text": [
      "Lata pracy: [1 2 3 4 5 6]\n",
      "Wynagrodzenie: [3000 3250 3500 3750 4000 4250]\n",
      "Liczba próbek: 6\n"
     ]
    }
   ],
   "source": [
    "X1 = np.array([1, 2, 3, 4, 5, 6])\n",
    "Y = np.array([3000, 3250, 3500, 3750, 4000, 4250])\n",
    "m = len(X1)\n",
    "\n",
    "print(f'Lata pracy: {X1}')\n",
    "print(f'Wynagrodzenie: {Y}')\n",
    "print(f'Liczba próbek: {m}')"
   ]
  },
  {
   "cell_type": "markdown",
   "id": "66f33351",
   "metadata": {},
   "source": [
    "#### - reshape - zmiana kształtu danych na 6 wierszy i 1 kolumnę"
   ]
  },
  {
   "cell_type": "code",
   "execution_count": 9,
   "id": "469ef309",
   "metadata": {},
   "outputs": [
    {
     "name": "stdout",
     "output_type": "stream",
     "text": [
      "[[1]\n",
      " [2]\n",
      " [3]\n",
      " [4]\n",
      " [5]\n",
      " [6]]\n"
     ]
    }
   ],
   "source": [
    "X1 = X1.reshape(m,1)\n",
    "print(X1)"
   ]
  },
  {
   "cell_type": "markdown",
   "id": "2a380731",
   "metadata": {},
   "source": [
    "#### - bias - przygotowanie wektoru jedynek"
   ]
  },
  {
   "cell_type": "code",
   "execution_count": 14,
   "id": "f7631a10",
   "metadata": {},
   "outputs": [
    {
     "name": "stdout",
     "output_type": "stream",
     "text": [
      "[[1.]\n",
      " [1.]\n",
      " [1.]\n",
      " [1.]\n",
      " [1.]\n",
      " [1.]]\n",
      "(6, 1)\n"
     ]
    }
   ],
   "source": [
    "bias = np.ones((m,1))\n",
    "print(bias)\n",
    "print(bias.shape)"
   ]
  },
  {
   "cell_type": "markdown",
   "id": "b4fec40a",
   "metadata": {},
   "source": [
    "#### - połaczenie bias i zmiennej X1"
   ]
  },
  {
   "cell_type": "code",
   "execution_count": 19,
   "id": "57f02854",
   "metadata": {},
   "outputs": [
    {
     "name": "stdout",
     "output_type": "stream",
     "text": [
      "[[1. 1.]\n",
      " [1. 2.]\n",
      " [1. 3.]\n",
      " [1. 4.]\n",
      " [1. 5.]\n",
      " [1. 6.]]\n",
      "(6, 2)\n"
     ]
    }
   ],
   "source": [
    "X = np.append(bias, X1,axis=1)\n",
    "print(X)\n",
    "print(X.shape)"
   ]
  },
  {
   "cell_type": "markdown",
   "id": "551ed531",
   "metadata": {},
   "source": [
    "### <a name='2'></a> 3. Równanie normalne - numpy\n",
    "\n",
    "Regresja liniowa w $R^2$:\n",
    "$$Y = w_0 + w_1X_1$$\n",
    "$$Y = W^TX$$\n",
    "gdzie: $$W= \\left[\\begin{matrix}w_0\\\\w_1\\end{matrix}\\right]$$ $$ X= \\left[\\begin{matrix}1\\\\X_1\\end{matrix}\\right] $$ stąd $$ W^T= \\left[\\begin{matrix}w_0&w_1\\end{matrix}\\right] $$    \n",
    "$$Y = W^TX = \\left[\\begin{matrix}w_0&w_1\\end{matrix}\\right] \\cdot  \\left[\\begin{matrix}1\\\\X_1\\end{matrix}\\right] = w_0 + w_1X_1$$\n",
    "\n",
    "\n",
    "\n",
    "\n",
    "Równanie normalne - równanie pozwalające obliczyć minimum funkcji straty (o ile istnieje)\n",
    "\n",
    "$$W = (X^TX)^{-1}(X^TY)$$"
   ]
  },
  {
   "cell_type": "code",
   "execution_count": 29,
   "id": "9e9bd657",
   "metadata": {},
   "outputs": [
    {
     "data": {
      "text/plain": [
       "array([[1., 1.],\n",
       "       [1., 2.],\n",
       "       [1., 3.],\n",
       "       [1., 4.],\n",
       "       [1., 5.],\n",
       "       [1., 6.]])"
      ]
     },
     "execution_count": 29,
     "metadata": {},
     "output_type": "execute_result"
    }
   ],
   "source": [
    "X"
   ]
  },
  {
   "cell_type": "code",
   "execution_count": 24,
   "id": "1932262c",
   "metadata": {},
   "outputs": [
    {
     "data": {
      "text/plain": [
       "array([[1., 1., 1., 1., 1., 1.],\n",
       "       [1., 2., 3., 4., 5., 6.]])"
      ]
     },
     "execution_count": 24,
     "metadata": {},
     "output_type": "execute_result"
    }
   ],
   "source": [
    "# transponowanie X\n",
    "\n",
    "X.T"
   ]
  },
  {
   "cell_type": "code",
   "execution_count": 25,
   "id": "71ce2637",
   "metadata": {},
   "outputs": [
    {
     "data": {
      "text/plain": [
       "array([[ 6., 21.],\n",
       "       [21., 91.]])"
      ]
     },
     "execution_count": 25,
     "metadata": {},
     "output_type": "execute_result"
    }
   ],
   "source": [
    "# mnożenie macierzy\n",
    "\n",
    "np.dot(X.T,X)"
   ]
  },
  {
   "cell_type": "code",
   "execution_count": 37,
   "id": "c0e69d29",
   "metadata": {},
   "outputs": [
    {
     "data": {
      "text/plain": [
       "array([[ 0.86666667, -0.2       ],\n",
       "       [-0.2       ,  0.05714286]])"
      ]
     },
     "execution_count": 37,
     "metadata": {},
     "output_type": "execute_result"
    }
   ],
   "source": [
    "# obliczenie lewej strony równania - (XT*X)-1 - obliczanie macierzy odwrotnej (podniesienie do potęgi - 1)\n",
    "\n",
    "L = np.linalg.inv(np.dot(X.T,X))\n",
    "L"
   ]
  },
  {
   "cell_type": "code",
   "execution_count": 38,
   "id": "171be356",
   "metadata": {},
   "outputs": [
    {
     "data": {
      "text/plain": [
       "array([21750., 80500.])"
      ]
     },
     "execution_count": 38,
     "metadata": {},
     "output_type": "execute_result"
    }
   ],
   "source": [
    "# obliczanie prwej strony - transponowane X * Y\n",
    "P = np.dot(X.T, Y)\n",
    "P"
   ]
  },
  {
   "cell_type": "code",
   "execution_count": 40,
   "id": "a94270c6",
   "metadata": {},
   "outputs": [
    {
     "data": {
      "text/plain": [
       "array([2750.,  250.])"
      ]
     },
     "execution_count": 40,
     "metadata": {},
     "output_type": "execute_result"
    }
   ],
   "source": [
    "# finałowe mnożenie macierzy - lewej i prawej strony\n",
    "W = np.dot(L,P)\n",
    "W"
   ]
  },
  {
   "cell_type": "markdown",
   "id": "af4add61",
   "metadata": {},
   "source": [
    "#### - 2750 - w0(przecięcie), w1 (nachylenie) 250\n",
    "\n",
    "\n",
    "Końcowa postać modelu$$Y = 2750 + 250X_1$$"
   ]
  },
  {
   "cell_type": "markdown",
   "id": "617e8165",
   "metadata": {},
   "source": [
    "### 4. Regresja liniowa scikit learn - jak możemy dojść do wag"
   ]
  },
  {
   "cell_type": "code",
   "execution_count": 43,
   "id": "558e1dea",
   "metadata": {},
   "outputs": [
    {
     "name": "stdout",
     "output_type": "stream",
     "text": [
      "2750.0\n",
      "250.0\n"
     ]
    }
   ],
   "source": [
    "# tutaj nie musimy łączyć macierzu 1 z X1, sklearn robi to autmatycznie\n",
    "\n",
    "from sklearn.linear_model import LinearRegression\n",
    "\n",
    "regression = LinearRegression()\n",
    "regression.fit(X1, Y)\n",
    "\n",
    "print(regression.intercept_) # w0 - przecięcie\n",
    "print(regression.coef_[0]) # coefficient - współczynnik"
   ]
  },
  {
   "cell_type": "code",
   "execution_count": null,
   "id": "89e47497",
   "metadata": {},
   "outputs": [],
   "source": []
  }
 ],
 "metadata": {
  "kernelspec": {
   "display_name": "Python 3 (ipykernel)",
   "language": "python",
   "name": "python3"
  },
  "language_info": {
   "codemirror_mode": {
    "name": "ipython",
    "version": 3
   },
   "file_extension": ".py",
   "mimetype": "text/x-python",
   "name": "python",
   "nbconvert_exporter": "python",
   "pygments_lexer": "ipython3",
   "version": "3.8.12"
  }
 },
 "nbformat": 4,
 "nbformat_minor": 5
}
