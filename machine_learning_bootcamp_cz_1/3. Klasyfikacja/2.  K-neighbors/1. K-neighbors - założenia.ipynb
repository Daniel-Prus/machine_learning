{
 "cells": [
  {
   "cell_type": "markdown",
   "id": "7d6f083d",
   "metadata": {},
   "source": [
    "### 1. W algorytmie K- najbliższych sąsiadów wykorzystjemy odległość euklidesową:\n",
    "\n",
    "- do określenia odległości między punktami"
   ]
  },
  {
   "cell_type": "markdown",
   "id": "8d4097a9",
   "metadata": {},
   "source": [
    "![alt text](neighbors.png \"K-neighbors\")"
   ]
  },
  {
   "cell_type": "code",
   "execution_count": null,
   "id": "9f2f4d1a",
   "metadata": {},
   "outputs": [],
   "source": []
  }
 ],
 "metadata": {
  "kernelspec": {
   "display_name": "Python 3 (ipykernel)",
   "language": "python",
   "name": "python3"
  },
  "language_info": {
   "codemirror_mode": {
    "name": "ipython",
    "version": 3
   },
   "file_extension": ".py",
   "mimetype": "text/x-python",
   "name": "python",
   "nbconvert_exporter": "python",
   "pygments_lexer": "ipython3",
   "version": "3.8.12"
  }
 },
 "nbformat": 4,
 "nbformat_minor": 5
}
