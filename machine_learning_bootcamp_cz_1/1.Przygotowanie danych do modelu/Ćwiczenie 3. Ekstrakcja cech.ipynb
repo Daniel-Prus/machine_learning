{
 "cells": [
  {
   "cell_type": "markdown",
   "id": "ddb4277c",
   "metadata": {},
   "source": [
    "### Ćwiczenie - ekstrakcja cech.\n",
    "\n",
    "1. Pobierz wolumeny giełdowe Amazona za pomocą podanej poniżej funkcji, zapisz do zmiennej, stwórz kopie, weź 5 pierwszych wartości:\n",
    "- wydobądź z indeksu, dni, miesiące, lata i stwórz nowe zmienne\n",
    "- zresetuj indeks i wyciagnij powyższe\n",
    "\n",
    "\n",
    "2. Dyskretyzacja zmiennej ciągłej - df = pd.DataFrame(data={'height': [175., 178.5, 185., 191., 184.5, 183., 168.]}) :\n",
    "\n",
    "- za pomocą odpowiedniej funkcji w pandas stwórz trzy przedzialy (automatycznie)\n",
    "- za pomocą odpowiedniej funkcji w pandas stwórz trzy przedzialy (ręcznie)\n",
    "- zmapuj te przedziały do odpowiednich wartośći (low, medium, high)\n",
    "- sprowadź do postaci zero jedynkowej za pomocą get dummies\n",
    "\n",
    "\n",
    "3. Ekstrakcja cech - df = pd.DataFrame(data= {'lang': [['PL', 'ENG'], ['PL', 'ENG', 'RUS', 'GER'], ['RUS']]})\n",
    "\n",
    "- stwóz nową zmienną liczącą ile jest języków w danej aplikacji (wiersz), za pomocą lambdy\n",
    "- kolejna zmienna - flaga pl, tablica 0,1 dla języka polskiego, lambda\n",
    "\n",
    "\n",
    "4. Ekstrakcja cech - df = pd.DataFrame({'website': ['www.google.com', 'www.zambrow.org', 'www.facebook.com', 'www.onet.pl']})\n",
    "\n",
    "- rozdziel na domene i rozszerzenie"
   ]
  },
  {
   "cell_type": "code",
   "execution_count": 66,
   "id": "5bff5078",
   "metadata": {},
   "outputs": [],
   "source": [
    "# pobieranie danych poprzez pandas_datareader.data\n",
    "\n",
    "def fetch_financial_data(company='AMZN'):\n",
    "    \"\"\"\n",
    "    This function fetches stock market quotations.\n",
    "    \"\"\"\n",
    "    \n",
    "    import pandas_datareader.data as web\n",
    "    \n",
    "    return web.DataReader (name=company, data_source='stooq')"
   ]
  },
  {
   "cell_type": "code",
   "execution_count": null,
   "id": "88772cf3",
   "metadata": {},
   "outputs": [],
   "source": []
  }
 ],
 "metadata": {
  "kernelspec": {
   "display_name": "Python 3 (ipykernel)",
   "language": "python",
   "name": "python3"
  },
  "language_info": {
   "codemirror_mode": {
    "name": "ipython",
    "version": 3
   },
   "file_extension": ".py",
   "mimetype": "text/x-python",
   "name": "python",
   "nbconvert_exporter": "python",
   "pygments_lexer": "ipython3",
   "version": "3.8.12"
  }
 },
 "nbformat": 4,
 "nbformat_minor": 5
}
