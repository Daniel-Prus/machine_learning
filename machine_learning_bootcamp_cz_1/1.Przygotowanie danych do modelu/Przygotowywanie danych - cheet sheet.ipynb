{
 "cells": [
  {
   "cell_type": "markdown",
   "id": "0d465e2e",
   "metadata": {},
   "source": [
    "#### Biblioteki"
   ]
  },
  {
   "cell_type": "code",
   "execution_count": null,
   "id": "1eb1aa3e",
   "metadata": {},
   "outputs": [],
   "source": [
    "import pandas as pd\n",
    "import numpy as np\n",
    "\n",
    "# zmienna docelowa\n",
    "from sklearn.preprocessing import LabelEncoder\n",
    "\n",
    "#zmienne kategoryczne\n",
    "from sklearn.preprocessing import OneHotEncoder\n",
    "\n",
    "# zmienne numeryczne\n",
    "from sklearn.preprocessing import StandardScaler\n",
    "\n",
    "# tworzenie x_train, x_test\n",
    "from sklearn.model_selection import train_test_split\n",
    "\n",
    "# przegląd braków w szeregach czasowych\n",
    "import plotly.express as px\n",
    "\n",
    "# uzupełnianie braków\n",
    "from sklearn.impute import SimpleImputer\n",
    "\n",
    "# przygotowanie losowego zbiory danych z sklearn\n",
    "from sklearn.datasets import make_regression"
   ]
  },
  {
   "cell_type": "markdown",
   "id": "a1db7585",
   "metadata": {},
   "source": [
    "#### Przydatne ustawienia w notebook"
   ]
  },
  {
   "cell_type": "code",
   "execution_count": null,
   "id": "71a65ea4",
   "metadata": {},
   "outputs": [],
   "source": [
    "# Umożliwia ładne drukowanie tablic numpy\n",
    "\n",
    "np.set_printoptions(edgeitems=30, linewidth=100000, formatter=dict(float=lambda x: f'{x:.2f}'))\n",
    "\n",
    "np.set_printoptions(precision=6, suppress=True, edgeitems=30, linewidth=120, \n",
    "                    formatter=dict(float=lambda x: f'{x:.2f}'))\n"
   ]
  },
  {
   "cell_type": "code",
   "execution_count": null,
   "id": "8ed737b7",
   "metadata": {},
   "outputs": [],
   "source": [
    "# ustawienia seaborn\n",
    "\n",
    "sns.set(font_scale=1.3) #zmiana rozmiaru czcionki"
   ]
  },
  {
   "cell_type": "code",
   "execution_count": null,
   "id": "c633c3ea",
   "metadata": {},
   "outputs": [],
   "source": []
  },
  {
   "cell_type": "code",
   "execution_count": null,
   "id": "2f41fb09",
   "metadata": {},
   "outputs": [],
   "source": []
  },
  {
   "cell_type": "code",
   "execution_count": null,
   "id": "148dccee",
   "metadata": {},
   "outputs": [],
   "source": []
  },
  {
   "cell_type": "markdown",
   "id": "71766539",
   "metadata": {},
   "source": [
    "#### Wstępna analiza zbiorów:"
   ]
  },
  {
   "cell_type": "code",
   "execution_count": null,
   "id": "3fffa6d8",
   "metadata": {},
   "outputs": [],
   "source": [
    "# czytelniejsze wczytanie describe() - transponowanie i zaookraglenie liczb\n",
    "\n",
    "df.describe().T.apply (lambda x: round(x,2))"
   ]
  },
  {
   "cell_type": "code",
   "execution_count": null,
   "id": "6abc06c5",
   "metadata": {},
   "outputs": [],
   "source": [
    "# Umożliwia ładne drukowanie tablic numpy\n",
    "\n",
    "np.set_printoptions(edgeitems=30, linewidth=100000, formatter=dict(float=lambda x: f'{x:.2f}'))\n",
    "\n",
    "np.set_printoptions(precision=6, suppress=True, edgeitems=30, linewidth=120, \n",
    "                    formatter=dict(float=lambda x: f'{x:.2f}'))\n",
    "\n",
    "# ustawienia seaborn\n",
    "\n",
    "sns.set(font_scale=1.3) #zmiana rozmiaru czcionki"
   ]
  },
  {
   "cell_type": "code",
   "execution_count": null,
   "id": "70e4e230",
   "metadata": {},
   "outputs": [],
   "source": [
    "# wizualizacja braków szeregach czasowych\n",
    "\n",
    "\"\"\"\n",
    "Może być potrzebne:\n",
    "\n",
    "import matplotlib.pyplot as plt\n",
    "from pandas.plotting import register_matplotlib_converters\n",
    "register_matplotlib_converters()\n",
    "import seaborn as sns\n",
    "sns.set()\n",
    "\n",
    "\n",
    "oraz zresetowanie indeksu!!!!\n",
    "\"\"\"\n",
    "\n",
    "import plotly.express as px\n",
    "px.line(df_plotly, 'index', 'price', width=600, height=400, title='Szeregi czasowe - braki danych')\n",
    "\n",
    "# badanie zależności zmiennych cat, cat i target - histogram\n",
    "\n",
    "px.histogram(df, x='charges', width=900, height=600, nbins=50, facet_col='smoker', facet_row='sex')\n",
    "px.histogram(df, x='smoker', width=700, height=400, facet_col='sex', color='sex' )"
   ]
  },
  {
   "cell_type": "code",
   "execution_count": null,
   "id": "de65a6bc",
   "metadata": {},
   "outputs": [],
   "source": [
    "# wizualizacja regresji liniowej:\n",
    "\n",
    "plt.figure(figsize=(15,8))\n",
    "plt.title('Regresja liniowa')\n",
    "plt.xlabel('x - variable(predictor/idependent variable)')\n",
    "plt.ylabel('y - variable(response/dependent variable)')\n",
    "plt.scatter (data, target, label='cecha x')\n",
    "plt.legend()\n",
    "plt.show()"
   ]
  },
  {
   "cell_type": "markdown",
   "id": "cf1b2636",
   "metadata": {},
   "source": [
    "#### 1. Przygotowywanie zbiorów treningowych, testowych ,walidacyjnych"
   ]
  },
  {
   "cell_type": "code",
   "execution_count": null,
   "id": "60efd978",
   "metadata": {},
   "outputs": [],
   "source": [
    "# wizualizacja zmiennej docelowej\n",
    "\n",
    "df['target'].value_counts().plot.pie(autopct = '%.0f%%')"
   ]
  },
  {
   "cell_type": "code",
   "execution_count": null,
   "id": "f9f83f3f",
   "metadata": {},
   "outputs": [],
   "source": [
    "# łącznie numpy data i tablicy numpy zmiennej docelowej\n",
    "\n",
    "all_data = np.c_[data,target]"
   ]
  },
  {
   "cell_type": "code",
   "execution_count": null,
   "id": "41ebae3d",
   "metadata": {},
   "outputs": [],
   "source": [
    "# wycinanie zmiennej docelowej z dataframe (na stałe)\n",
    "data = df.copy()\n",
    "target = data.pop('target')"
   ]
  },
  {
   "cell_type": "code",
   "execution_count": null,
   "id": "a25ee92a",
   "metadata": {},
   "outputs": [],
   "source": [
    "from sklearn.model_selection import train_test_split\n",
    "\n",
    "X_train, X_test, y_train, y_test = train_test_split(data, target, random_state=40)\n",
    "\n",
    "\"\"\"\n",
    "random_state = 42 - najczęściej używane w dokumentacji scikit learn\n",
    "\n",
    "Random state ensures that the splits that you generate are reproducible. Scikit-learn uses random permutations \n",
    "to generate the splits. The random state that you provide is used as a seed to the random number generator. \n",
    "This ensures that the random numbers are generated in the same order.\n",
    "\n",
    "\n",
    "\"\"\"\n",
    "\n",
    "\n",
    "\n",
    "\n",
    "# printowanie danych na temat zbiorów train, test, data, target\n",
    "\"\"\"\n",
    "print (f'data shape: {data.shape}')\n",
    "print (f'target shape: {target.shape}')\n",
    "print (f'X_train shape: {X_train.shape}')\n",
    "print (f'X_test shape: {X_test.shape}')\n",
    "print (f'y_train shape: {y_train.shape}')\n",
    "print (f'y_test shape: {y_test.shape}\\n')\n",
    "\n",
    "print (f'Train ratio {len(X_train) / len(data):.4f}')\n",
    "print (f'Test ratio {len(X_test) / len(data):.4f}')\n",
    "\n",
    "print (f'\\nTarget:\\n{target.value_counts() / len(target)}')\n",
    "\n",
    "print (f'\\ny_train:\\n{y_train.value_counts() / len(y_train)}')\n",
    "print (f'\\ny_test:\\n{y_test.value_counts() / len(y_test)}')\n",
    "\"\"\""
   ]
  },
  {
   "cell_type": "code",
   "execution_count": null,
   "id": "3d55197f",
   "metadata": {},
   "outputs": [],
   "source": [
    "# wizualizacja train/test (kółka i krzyżyki)\n",
    "\n",
    "plt.figure(figsize=(10, 8))\n",
    "plt.scatter(X_train[:, 0], X_train[:, 1], c=y_train, cmap='RdYlBu', label = 'training_set')\n",
    "plt.scatter(X_test[:, 0], X_test[:, 1], c=y_test, cmap='RdYlBu', marker='x', alpha=0.5, label='test_set')\n",
    "plt.title('Zbiór treningowy i testowy')\n",
    "plt.legend()\n",
    "plt.show()"
   ]
  },
  {
   "cell_type": "markdown",
   "id": "d5f8f4d9",
   "metadata": {},
   "source": [
    "#### Eksrakcja cech:"
   ]
  },
  {
   "cell_type": "code",
   "execution_count": null,
   "id": "cff156c5",
   "metadata": {},
   "outputs": [],
   "source": [
    "# Tworzenie przedziałów z wartości liczbowych - kategorii\n",
    "df['height_cat'] = pd.cut(df.height, bins=(160,175,185,195), labels=['small', 'medium', 'high'])\n",
    "df['height_cat'] = pd.cut(df['height'], bins= 3 )\n",
    "\n",
    "# zamiana kategorii na 0,1:\n",
    "pd.get_dummies(df, columns=['height_cat'], drop_first=True)"
   ]
  },
  {
   "cell_type": "code",
   "execution_count": null,
   "id": "3f5943e3",
   "metadata": {},
   "outputs": [],
   "source": [
    "# wydobywanie dat z indeksu\n",
    "df['day'] = df.index.day\n",
    "df['month'] = df.index.month\n",
    "df['year'] = df.index.year"
   ]
  },
  {
   "cell_type": "code",
   "execution_count": null,
   "id": "edf6425e",
   "metadata": {},
   "outputs": [],
   "source": [
    "# wydobywanie dat z kolumny\n",
    "df['day_col'] = df['Date'].dt.day\n",
    "df['month_col'] = df['Date'].dt.month\n",
    "df['year_col'] = df['Date'].dt.year"
   ]
  },
  {
   "cell_type": "code",
   "execution_count": null,
   "id": "bc2054b7",
   "metadata": {},
   "outputs": [],
   "source": [
    "# stworzenie flagi 0,1\n",
    "\n",
    "df['pl_flag'] = df['lang'].apply (lambda x: 1 if 'PL' in x else 0)"
   ]
  },
  {
   "cell_type": "markdown",
   "id": "e1190375",
   "metadata": {},
   "source": [
    "#### Przygotowywanie danych - transformacja zmiennych"
   ]
  },
  {
   "cell_type": "code",
   "execution_count": null,
   "id": "46344c19",
   "metadata": {},
   "outputs": [],
   "source": [
    "# zmienna docelowa\n",
    "\n",
    "from sklearn.preprocessing import LabelEncoder\n",
    "\n",
    "le = LabelEncoder()\n",
    "df['bought'] = le.fit_transform(df['bought'])\n",
    "\n",
    "# powrót do poprzednich wartości\n",
    "le.inverse_transform(df['bought'])"
   ]
  },
  {
   "cell_type": "code",
   "execution_count": null,
   "id": "9f31d2d6",
   "metadata": {},
   "outputs": [],
   "source": [
    "# zmienne kategoryczne \n",
    "\n",
    "df = pd.get_dummies(df, drop_first=True)\n",
    "\n",
    "from sklearn.preprocessing import OneHotEncoder\n",
    "encoder = OneHotEncoder(drop='first', sparse=False)\n",
    "encoder.fit_transform[df[['size']]\n",
    "                      \n",
    "encoder.categories_"
   ]
  },
  {
   "cell_type": "code",
   "execution_count": null,
   "id": "786182fc",
   "metadata": {},
   "outputs": [],
   "source": [
    "# zmienne numeryczne\n",
    "\n",
    "from sklearn.preprocessing import StandardScaler\n",
    "\n",
    "scaler = StandardScaler()\n",
    "scaler.fit_transform(df[['price', 'weight']])\n",
    "df[['price', 'weight']] = scaler.fit_transform(df[['price', 'weight']])\n",
    "\n",
    "\n",
    "def standarize (x):\n",
    "    return (x - x.mean()) / x.std()"
   ]
  },
  {
   "cell_type": "markdown",
   "id": "e57e822f",
   "metadata": {},
   "source": [
    "#### Uzupełnianie braków danych"
   ]
  },
  {
   "cell_type": "code",
   "execution_count": null,
   "id": "a9955023",
   "metadata": {},
   "outputs": [],
   "source": [
    "# sklearn\n",
    "\n",
    "from sklearn.impute import SimpleImputer\n",
    "\n",
    "# zmienne numeryczne - mean, median...\n",
    "imputer = SimpleImputer()\n",
    "df[['weight','price']] = imputer.fit_transform(df[['weight','price']])\n",
    "\n",
    "# zmienne kategoryczne\n",
    "imputer = SimpleImputer(strategy='most_frequent')\n",
    "imputer.fit_transform(df[['size']])\n",
    "\n",
    "# constant - wymaga param - fill_value = 'male'\n",
    "imputer = SimpleImputer(strategy='constant', fill_value = 'male')\n",
    "imputer.fit_transform(df[['gender']])"
   ]
  },
  {
   "cell_type": "code",
   "execution_count": null,
   "id": "b97ab133",
   "metadata": {},
   "outputs": [],
   "source": [
    "# pandas uzupełnianie braków\n",
    "\n",
    "\n",
    "\n",
    "# mean\n",
    "df_pandas['price'].fillna(value=df_pandas['price'].mean(), inplace=True)\n",
    "\n",
    "# median\n",
    "df_pandas['weight'].fillna(value=df_pandas['weight'].median(), inplace=True)\n",
    "\n",
    "# most_frequent\n",
    "df_pandas['size'].value_counts()\n",
    "df_pandas['size'] = df_pandas['size'].fillna(value='M')\n",
    "\n",
    "# constant\n",
    "df_pandas['gender'] = df_pandas['gender'].fillna(value='male')\n",
    "\n",
    "\n",
    "\n",
    "# wycianie NaN/ zostawianie wierszy bez NaN według kolumn\n",
    "\n",
    "\n",
    "# wiersze z NaN w 'weight'\n",
    "df[pd.isnull(df['weight'])]\n",
    "\n",
    "# wiersze bez NaN w 'weight'\n",
    "df[~pd.isnull(df['weight'])]\n",
    "\n",
    "# usuwanie wierzy, gdy w dwóch wybranych kolumnach jest równoczesnie NaN\n",
    "\n",
    "df[~(pd.isnull(df['weight']) & pd.isnull(df['size']))]\n",
    "\n",
    "df[(pd.notnull(df['weight']) | pd.notnull(df['size']))]\n"
   ]
  },
  {
   "cell_type": "markdown",
   "id": "6aaf1a81",
   "metadata": {},
   "source": [
    "#### Przygotowywanie danych losowych - scikit learn"
   ]
  },
  {
   "cell_type": "code",
   "execution_count": null,
   "id": "452adee2",
   "metadata": {},
   "outputs": [],
   "source": [
    "from sklearn.datasets import make_regression\n",
    "\n",
    "data, target = make_regression(n_samples=100, n_features=1, n_targets=1, noise=30.0, random_state=42)\n",
    "\n",
    "print(f'data shape: {data.shape}')\n",
    "print(f'target shape: {target.shape}')"
   ]
  }
 ],
 "metadata": {
  "kernelspec": {
   "display_name": "Python 3 (ipykernel)",
   "language": "python",
   "name": "python3"
  },
  "language_info": {
   "codemirror_mode": {
    "name": "ipython",
    "version": 3
   },
   "file_extension": ".py",
   "mimetype": "text/x-python",
   "name": "python",
   "nbconvert_exporter": "python",
   "pygments_lexer": "ipython3",
   "version": "3.8.12"
  }
 },
 "nbformat": 4,
 "nbformat_minor": 5
}
