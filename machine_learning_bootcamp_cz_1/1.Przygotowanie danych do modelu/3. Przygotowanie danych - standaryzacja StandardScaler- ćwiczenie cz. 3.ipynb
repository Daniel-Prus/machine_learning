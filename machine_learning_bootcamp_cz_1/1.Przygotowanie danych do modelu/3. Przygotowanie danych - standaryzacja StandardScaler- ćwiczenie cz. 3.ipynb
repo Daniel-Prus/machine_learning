{
 "cells": [
  {
   "cell_type": "markdown",
   "id": "a71a628f",
   "metadata": {},
   "source": [
    "### import pandas as pd\n",
    "import numpy as np\n",
    "import sklearn"
   ]
  },
  {
   "cell_type": "markdown",
   "id": "937d5432",
   "metadata": {},
   "source": [
    "### 1. Data"
   ]
  },
  {
   "cell_type": "code",
   "execution_count": 3,
   "id": "6dbee088",
   "metadata": {},
   "outputs": [
    {
     "data": {
      "text/html": [
       "<div>\n",
       "<style scoped>\n",
       "    .dataframe tbody tr th:only-of-type {\n",
       "        vertical-align: middle;\n",
       "    }\n",
       "\n",
       "    .dataframe tbody tr th {\n",
       "        vertical-align: top;\n",
       "    }\n",
       "\n",
       "    .dataframe thead th {\n",
       "        text-align: right;\n",
       "    }\n",
       "</style>\n",
       "<table border=\"1\" class=\"dataframe\">\n",
       "  <thead>\n",
       "    <tr style=\"text-align: right;\">\n",
       "      <th></th>\n",
       "      <th>size</th>\n",
       "      <th>color</th>\n",
       "      <th>gender</th>\n",
       "      <th>price</th>\n",
       "      <th>weight</th>\n",
       "      <th>bought</th>\n",
       "    </tr>\n",
       "  </thead>\n",
       "  <tbody>\n",
       "    <tr>\n",
       "      <th>0</th>\n",
       "      <td>XL</td>\n",
       "      <td>red</td>\n",
       "      <td>female</td>\n",
       "      <td>199.0</td>\n",
       "      <td>500</td>\n",
       "      <td>yes</td>\n",
       "    </tr>\n",
       "    <tr>\n",
       "      <th>1</th>\n",
       "      <td>L</td>\n",
       "      <td>green</td>\n",
       "      <td>male</td>\n",
       "      <td>89.0</td>\n",
       "      <td>450</td>\n",
       "      <td>no</td>\n",
       "    </tr>\n",
       "    <tr>\n",
       "      <th>2</th>\n",
       "      <td>M</td>\n",
       "      <td>blue</td>\n",
       "      <td>male</td>\n",
       "      <td>99.0</td>\n",
       "      <td>300</td>\n",
       "      <td>yes</td>\n",
       "    </tr>\n",
       "    <tr>\n",
       "      <th>3</th>\n",
       "      <td>L</td>\n",
       "      <td>green</td>\n",
       "      <td>female</td>\n",
       "      <td>129.0</td>\n",
       "      <td>380</td>\n",
       "      <td>no</td>\n",
       "    </tr>\n",
       "    <tr>\n",
       "      <th>4</th>\n",
       "      <td>M</td>\n",
       "      <td>red</td>\n",
       "      <td>female</td>\n",
       "      <td>79.0</td>\n",
       "      <td>410</td>\n",
       "      <td>yes</td>\n",
       "    </tr>\n",
       "  </tbody>\n",
       "</table>\n",
       "</div>"
      ],
      "text/plain": [
       "  size  color  gender  price  weight bought\n",
       "0   XL    red  female  199.0     500    yes\n",
       "1    L  green    male   89.0     450     no\n",
       "2    M   blue    male   99.0     300    yes\n",
       "3    L  green  female  129.0     380     no\n",
       "4    M    red  female   79.0     410    yes"
      ]
     },
     "execution_count": 3,
     "metadata": {},
     "output_type": "execute_result"
    }
   ],
   "source": [
    "#Dane:\n",
    "\n",
    "data = {\n",
    "    'size': ['XL', 'L', 'M', 'L', 'M'],\n",
    "    'color': ['red', 'green', 'blue', 'green', 'red'],\n",
    "    'gender': ['female', 'male', 'male', 'female', 'female'],\n",
    "    'price': [199.0, 89.0, 99.0, 129.0, 79.0],\n",
    "    'weight': [500, 450, 300, 380, 410],\n",
    "    'bought': ['yes', 'no', 'yes', 'no', 'yes']}\n",
    "\n",
    "df_raw = pd.DataFrame(data)\n",
    "\n",
    "# kopia zapasowa\n",
    "df = df_raw.copy()\n",
    "df"
   ]
  },
  {
   "cell_type": "code",
   "execution_count": 4,
   "id": "d36acd64",
   "metadata": {},
   "outputs": [
    {
     "data": {
      "text/html": [
       "<div>\n",
       "<style scoped>\n",
       "    .dataframe tbody tr th:only-of-type {\n",
       "        vertical-align: middle;\n",
       "    }\n",
       "\n",
       "    .dataframe tbody tr th {\n",
       "        vertical-align: top;\n",
       "    }\n",
       "\n",
       "    .dataframe thead th {\n",
       "        text-align: right;\n",
       "    }\n",
       "</style>\n",
       "<table border=\"1\" class=\"dataframe\">\n",
       "  <thead>\n",
       "    <tr style=\"text-align: right;\">\n",
       "      <th></th>\n",
       "      <th>color</th>\n",
       "      <th>gender</th>\n",
       "      <th>price</th>\n",
       "      <th>weight</th>\n",
       "      <th>bought</th>\n",
       "      <th>size_M</th>\n",
       "      <th>size_XL</th>\n",
       "    </tr>\n",
       "  </thead>\n",
       "  <tbody>\n",
       "    <tr>\n",
       "      <th>0</th>\n",
       "      <td>red</td>\n",
       "      <td>female</td>\n",
       "      <td>199.0</td>\n",
       "      <td>500</td>\n",
       "      <td>yes</td>\n",
       "      <td>0</td>\n",
       "      <td>1</td>\n",
       "    </tr>\n",
       "    <tr>\n",
       "      <th>1</th>\n",
       "      <td>green</td>\n",
       "      <td>male</td>\n",
       "      <td>89.0</td>\n",
       "      <td>450</td>\n",
       "      <td>no</td>\n",
       "      <td>0</td>\n",
       "      <td>0</td>\n",
       "    </tr>\n",
       "    <tr>\n",
       "      <th>2</th>\n",
       "      <td>blue</td>\n",
       "      <td>male</td>\n",
       "      <td>99.0</td>\n",
       "      <td>300</td>\n",
       "      <td>yes</td>\n",
       "      <td>1</td>\n",
       "      <td>0</td>\n",
       "    </tr>\n",
       "    <tr>\n",
       "      <th>3</th>\n",
       "      <td>green</td>\n",
       "      <td>female</td>\n",
       "      <td>129.0</td>\n",
       "      <td>380</td>\n",
       "      <td>no</td>\n",
       "      <td>0</td>\n",
       "      <td>0</td>\n",
       "    </tr>\n",
       "    <tr>\n",
       "      <th>4</th>\n",
       "      <td>red</td>\n",
       "      <td>female</td>\n",
       "      <td>79.0</td>\n",
       "      <td>410</td>\n",
       "      <td>yes</td>\n",
       "      <td>1</td>\n",
       "      <td>0</td>\n",
       "    </tr>\n",
       "  </tbody>\n",
       "</table>\n",
       "</div>"
      ],
      "text/plain": [
       "   color  gender  price  weight bought  size_M  size_XL\n",
       "0    red  female  199.0     500    yes       0        1\n",
       "1  green    male   89.0     450     no       0        0\n",
       "2   blue    male   99.0     300    yes       1        0\n",
       "3  green  female  129.0     380     no       0        0\n",
       "4    red  female   79.0     410    yes       1        0"
      ]
     },
     "execution_count": 4,
     "metadata": {},
     "output_type": "execute_result"
    }
   ],
   "source": [
    "pd.get_dummies(df, drop_first=True, columns=['size'])"
   ]
  },
  {
   "cell_type": "markdown",
   "id": "13eb9791",
   "metadata": {},
   "source": [
    "### 2. Standaryzacja - pandas"
   ]
  },
  {
   "cell_type": "code",
   "execution_count": 6,
   "id": "4a317b1c",
   "metadata": {
    "collapsed": true
   },
   "outputs": [
    {
     "data": {
      "text/plain": [
       "\"\\nZmienne numeryczne - weight and bought.\\n\\nW modelach machine learnig zmienne numeryczne trzeba wystandaryzować - doprowdzić do postaci, w których skala wartości \\nnie ma znczenia, a znaczenie ma ich rozrzut, czyli 'wariancja'.\\n\\nGdy mamy zmienne - jedna bardzo małe wartości, druga duże wartości, to ta druga za bardzo może wpłynąć na model i wartościowe\\nwartości z pierwszej zostaną przyćmione, zakryte.\\n\\n\\n\\n\\n\\n\""
      ]
     },
     "execution_count": 6,
     "metadata": {},
     "output_type": "execute_result"
    }
   ],
   "source": [
    "\"\"\"\n",
    "Zmienne numeryczne - weight and bought.\n",
    "\n",
    "W modelach machine learnig zmienne numeryczne trzeba wystandaryzować - doprowdzić do postaci, w których skala wartości \n",
    "nie ma znczenia, a znaczenie ma ich rozrzut, czyli 'wariancja'.\n",
    "\n",
    "Gdy mamy zmienne - jedna bardzo małe wartości, druga duże wartości, to ta druga za bardzo może wpłynąć na model i wartościowe\n",
    "wartości z pierwszej zostaną przyćmione, zakryte - dlatego zmienne trzeba wystandaryzować.\n",
    "\n",
    "\n",
    "\n",
    "\"\"\""
   ]
  },
  {
   "cell_type": "markdown",
   "id": "f19dd452",
   "metadata": {},
   "source": [
    "#### - przykład - Odchylenie standardowe jest estymatorem obciążonym wariancji.\n",
    "\n",
    "##### std() - pandas nieobciążony\n",
    "##### std() - numpy obciążony\n",
    "\n",
    "\n",
    "Może to wpływać na wyniki, gdyż zaimplementowana postać estymatora jest inna:"
   ]
  },
  {
   "cell_type": "code",
   "execution_count": 11,
   "id": "4173ac6c",
   "metadata": {},
   "outputs": [
    {
     "name": "stdout",
     "output_type": "stream",
     "text": [
      "0    199.0\n",
      "1     89.0\n",
      "2     99.0\n",
      "3    129.0\n",
      "4     79.0\n",
      "Name: price, dtype: float64\n",
      "\n",
      "Średnia: 119.0\n",
      "Odchylenie standardowe: 48.4768\n"
     ]
    }
   ],
   "source": [
    "# pandas\n",
    "\n",
    "print (f\"{df['price']}\\n\")\n",
    "print (f\"Średnia: {df['price'].mean()}\")\n",
    "print (f\"Odchylenie standardowe: {df['price'].std():.4f}\")"
   ]
  },
  {
   "cell_type": "code",
   "execution_count": 13,
   "id": "d92b6979",
   "metadata": {},
   "outputs": [
    {
     "data": {
      "text/plain": [
       "0    1.650274\n",
       "1   -0.618853\n",
       "2   -0.412568\n",
       "3    0.206284\n",
       "4   -0.825137\n",
       "Name: price, dtype: float64"
      ]
     },
     "execution_count": 13,
     "metadata": {},
     "output_type": "execute_result"
    }
   ],
   "source": [
    "# proce standaryzacji - od każdej zmiennej df['price'] odjemujemy śrędnią i potem dzielimy przez std\n",
    "\n",
    "(df['price'] - df['price'].mean()) / df['price'].std() # dane wystdanaryzowane"
   ]
  },
  {
   "cell_type": "code",
   "execution_count": 14,
   "id": "f9dc3994",
   "metadata": {},
   "outputs": [],
   "source": [
    "# funckja standaryzująca:\n",
    "\n",
    "def standarize (x):\n",
    "    return (x - x.mean()) / x.std()"
   ]
  },
  {
   "cell_type": "code",
   "execution_count": 15,
   "id": "aecabcc9",
   "metadata": {},
   "outputs": [
    {
     "data": {
      "text/plain": [
       "0    1.650274\n",
       "1   -0.618853\n",
       "2   -0.412568\n",
       "3    0.206284\n",
       "4   -0.825137\n",
       "Name: price, dtype: float64"
      ]
     },
     "execution_count": 15,
     "metadata": {},
     "output_type": "execute_result"
    }
   ],
   "source": [
    "standarize(df['price'])"
   ]
  },
  {
   "cell_type": "markdown",
   "id": "e487c728",
   "metadata": {},
   "source": [
    "### 3. Standaryzacja za pomocą sklearn\n",
    "\n",
    "#### - wartości standaryzacji z pandas i sklearn jest kwestia estymatora obciążonego i nieobciążonego wariancji, std ulega zmianie"
   ]
  },
  {
   "cell_type": "code",
   "execution_count": 17,
   "id": "4ce6deb8",
   "metadata": {},
   "outputs": [],
   "source": [
    "from sklearn.preprocessing import scale"
   ]
  },
  {
   "cell_type": "code",
   "execution_count": 19,
   "id": "24a97b9f",
   "metadata": {},
   "outputs": [
    {
     "data": {
      "text/plain": [
       "array([ 1.84506242, -0.69189841, -0.4612656 ,  0.2306328 , -0.92253121])"
      ]
     },
     "execution_count": 19,
     "metadata": {},
     "output_type": "execute_result"
    }
   ],
   "source": [
    "scale(df['price']) # wartości się różnią w porównaniu z pandas"
   ]
  },
  {
   "cell_type": "markdown",
   "id": "e47e5c2a",
   "metadata": {},
   "source": [
    "#### - według autora od funkcji 'scale' lepsza jest klasa StandardScaler, pozwala ona zachować dane, wartości statystyk i gdy pojawiają się nowe dane (scale bardziej do szybkich obliczeń)"
   ]
  },
  {
   "cell_type": "code",
   "execution_count": 23,
   "id": "0d1f1a68",
   "metadata": {},
   "outputs": [
    {
     "data": {
      "text/plain": [
       "array([[ 1.84506242],\n",
       "       [-0.69189841],\n",
       "       [-0.4612656 ],\n",
       "       [ 0.2306328 ],\n",
       "       [-0.92253121]])"
      ]
     },
     "execution_count": 23,
     "metadata": {},
     "output_type": "execute_result"
    }
   ],
   "source": [
    "from sklearn.preprocessing import StandardScaler\n",
    "\n",
    "scaler_price = StandardScaler()\n",
    "scaler_price.fit(df[['price']])\n",
    "scaler_price.transform(df[['price']]) #pamiętać o podwójnych nawiasach !!!"
   ]
  },
  {
   "cell_type": "code",
   "execution_count": 28,
   "id": "5d0164e2",
   "metadata": {},
   "outputs": [
    {
     "data": {
      "text/plain": [
       "array([[ 1.3660019 ],\n",
       "       [ 0.62360956],\n",
       "       [-1.60356745],\n",
       "       [-0.41573971],\n",
       "       [ 0.02969569]])"
      ]
     },
     "execution_count": 28,
     "metadata": {},
     "output_type": "execute_result"
    }
   ],
   "source": [
    "scaler_price = StandardScaler()\n",
    "scaler_price.fit_transform(df[['price']])\n",
    "\n",
    "scaler_weight = StandardScaler()\n",
    "scaler_weight.fit_transform(df[['weight']])"
   ]
  },
  {
   "cell_type": "code",
   "execution_count": 30,
   "id": "3b3b4e60",
   "metadata": {},
   "outputs": [],
   "source": [
    "# standaryzacja za jednym zamachem\n",
    "\n",
    "scaler = StandardScaler()\n",
    "df[['price','weight']] = scaler.fit_transform(df[['price','weight']])"
   ]
  },
  {
   "cell_type": "code",
   "execution_count": 31,
   "id": "fd52a6d3",
   "metadata": {},
   "outputs": [
    {
     "data": {
      "text/html": [
       "<div>\n",
       "<style scoped>\n",
       "    .dataframe tbody tr th:only-of-type {\n",
       "        vertical-align: middle;\n",
       "    }\n",
       "\n",
       "    .dataframe tbody tr th {\n",
       "        vertical-align: top;\n",
       "    }\n",
       "\n",
       "    .dataframe thead th {\n",
       "        text-align: right;\n",
       "    }\n",
       "</style>\n",
       "<table border=\"1\" class=\"dataframe\">\n",
       "  <thead>\n",
       "    <tr style=\"text-align: right;\">\n",
       "      <th></th>\n",
       "      <th>size</th>\n",
       "      <th>color</th>\n",
       "      <th>gender</th>\n",
       "      <th>price</th>\n",
       "      <th>weight</th>\n",
       "      <th>bought</th>\n",
       "    </tr>\n",
       "  </thead>\n",
       "  <tbody>\n",
       "    <tr>\n",
       "      <th>0</th>\n",
       "      <td>XL</td>\n",
       "      <td>red</td>\n",
       "      <td>female</td>\n",
       "      <td>1.845062</td>\n",
       "      <td>1.366002</td>\n",
       "      <td>yes</td>\n",
       "    </tr>\n",
       "    <tr>\n",
       "      <th>1</th>\n",
       "      <td>L</td>\n",
       "      <td>green</td>\n",
       "      <td>male</td>\n",
       "      <td>-0.691898</td>\n",
       "      <td>0.623610</td>\n",
       "      <td>no</td>\n",
       "    </tr>\n",
       "    <tr>\n",
       "      <th>2</th>\n",
       "      <td>M</td>\n",
       "      <td>blue</td>\n",
       "      <td>male</td>\n",
       "      <td>-0.461266</td>\n",
       "      <td>-1.603567</td>\n",
       "      <td>yes</td>\n",
       "    </tr>\n",
       "    <tr>\n",
       "      <th>3</th>\n",
       "      <td>L</td>\n",
       "      <td>green</td>\n",
       "      <td>female</td>\n",
       "      <td>0.230633</td>\n",
       "      <td>-0.415740</td>\n",
       "      <td>no</td>\n",
       "    </tr>\n",
       "    <tr>\n",
       "      <th>4</th>\n",
       "      <td>M</td>\n",
       "      <td>red</td>\n",
       "      <td>female</td>\n",
       "      <td>-0.922531</td>\n",
       "      <td>0.029696</td>\n",
       "      <td>yes</td>\n",
       "    </tr>\n",
       "  </tbody>\n",
       "</table>\n",
       "</div>"
      ],
      "text/plain": [
       "  size  color  gender     price    weight bought\n",
       "0   XL    red  female  1.845062  1.366002    yes\n",
       "1    L  green    male -0.691898  0.623610     no\n",
       "2    M   blue    male -0.461266 -1.603567    yes\n",
       "3    L  green  female  0.230633 -0.415740     no\n",
       "4    M    red  female -0.922531  0.029696    yes"
      ]
     },
     "execution_count": 31,
     "metadata": {},
     "output_type": "execute_result"
    }
   ],
   "source": [
    "df"
   ]
  },
  {
   "cell_type": "markdown",
   "id": "750f7661",
   "metadata": {},
   "source": [
    "### 4. Podsumowanie"
   ]
  },
  {
   "cell_type": "code",
   "execution_count": 36,
   "id": "800b01c8",
   "metadata": {},
   "outputs": [],
   "source": [
    "# import bibliotek\n",
    "import sklearn\n",
    "import pandas as pd\n",
    "import numpy as np\n",
    "\n",
    "from sklearn.preprocessing import LabelEncoder\n",
    "from sklearn.preprocessing import StandardScaler"
   ]
  },
  {
   "cell_type": "code",
   "execution_count": 33,
   "id": "ee80cd81",
   "metadata": {},
   "outputs": [
    {
     "data": {
      "text/html": [
       "<div>\n",
       "<style scoped>\n",
       "    .dataframe tbody tr th:only-of-type {\n",
       "        vertical-align: middle;\n",
       "    }\n",
       "\n",
       "    .dataframe tbody tr th {\n",
       "        vertical-align: top;\n",
       "    }\n",
       "\n",
       "    .dataframe thead th {\n",
       "        text-align: right;\n",
       "    }\n",
       "</style>\n",
       "<table border=\"1\" class=\"dataframe\">\n",
       "  <thead>\n",
       "    <tr style=\"text-align: right;\">\n",
       "      <th></th>\n",
       "      <th>size</th>\n",
       "      <th>color</th>\n",
       "      <th>gender</th>\n",
       "      <th>price</th>\n",
       "      <th>weight</th>\n",
       "      <th>bought</th>\n",
       "    </tr>\n",
       "  </thead>\n",
       "  <tbody>\n",
       "    <tr>\n",
       "      <th>0</th>\n",
       "      <td>XL</td>\n",
       "      <td>red</td>\n",
       "      <td>female</td>\n",
       "      <td>199.0</td>\n",
       "      <td>500</td>\n",
       "      <td>yes</td>\n",
       "    </tr>\n",
       "    <tr>\n",
       "      <th>1</th>\n",
       "      <td>L</td>\n",
       "      <td>green</td>\n",
       "      <td>male</td>\n",
       "      <td>89.0</td>\n",
       "      <td>450</td>\n",
       "      <td>no</td>\n",
       "    </tr>\n",
       "    <tr>\n",
       "      <th>2</th>\n",
       "      <td>M</td>\n",
       "      <td>blue</td>\n",
       "      <td>male</td>\n",
       "      <td>99.0</td>\n",
       "      <td>300</td>\n",
       "      <td>yes</td>\n",
       "    </tr>\n",
       "    <tr>\n",
       "      <th>3</th>\n",
       "      <td>L</td>\n",
       "      <td>green</td>\n",
       "      <td>female</td>\n",
       "      <td>129.0</td>\n",
       "      <td>380</td>\n",
       "      <td>no</td>\n",
       "    </tr>\n",
       "    <tr>\n",
       "      <th>4</th>\n",
       "      <td>M</td>\n",
       "      <td>red</td>\n",
       "      <td>female</td>\n",
       "      <td>79.0</td>\n",
       "      <td>410</td>\n",
       "      <td>yes</td>\n",
       "    </tr>\n",
       "  </tbody>\n",
       "</table>\n",
       "</div>"
      ],
      "text/plain": [
       "  size  color  gender  price  weight bought\n",
       "0   XL    red  female  199.0     500    yes\n",
       "1    L  green    male   89.0     450     no\n",
       "2    M   blue    male   99.0     300    yes\n",
       "3    L  green  female  129.0     380     no\n",
       "4    M    red  female   79.0     410    yes"
      ]
     },
     "execution_count": 33,
     "metadata": {},
     "output_type": "execute_result"
    }
   ],
   "source": [
    "# data\n",
    "df = df_raw.copy()\n",
    "df"
   ]
  },
  {
   "cell_type": "code",
   "execution_count": 39,
   "id": "1a6aeb86",
   "metadata": {},
   "outputs": [],
   "source": [
    "# zmienna docelowa\n",
    "\n",
    "le = LabelEncoder()\n",
    "df['bought'] = le.fit_transform(df['bought'])"
   ]
  },
  {
   "cell_type": "code",
   "execution_count": 41,
   "id": "924265e6",
   "metadata": {},
   "outputs": [],
   "source": [
    "# zmienne numeryczne\n",
    "\n",
    "scaler = StandardScaler()\n",
    "df[['price','weight']] = scaler.fit_transform(df[['price','weight']])"
   ]
  },
  {
   "cell_type": "code",
   "execution_count": 45,
   "id": "e3710343",
   "metadata": {},
   "outputs": [],
   "source": [
    "# zmienne kategoryczne\n",
    "df[['size', 'color', 'gender']] = df[['size', 'color', 'gender']].astype('category')\n",
    "\n",
    "df = pd.get_dummies(df, drop_first=True)"
   ]
  },
  {
   "cell_type": "code",
   "execution_count": 46,
   "id": "eb8c305f",
   "metadata": {},
   "outputs": [
    {
     "data": {
      "text/html": [
       "<div>\n",
       "<style scoped>\n",
       "    .dataframe tbody tr th:only-of-type {\n",
       "        vertical-align: middle;\n",
       "    }\n",
       "\n",
       "    .dataframe tbody tr th {\n",
       "        vertical-align: top;\n",
       "    }\n",
       "\n",
       "    .dataframe thead th {\n",
       "        text-align: right;\n",
       "    }\n",
       "</style>\n",
       "<table border=\"1\" class=\"dataframe\">\n",
       "  <thead>\n",
       "    <tr style=\"text-align: right;\">\n",
       "      <th></th>\n",
       "      <th>price</th>\n",
       "      <th>weight</th>\n",
       "      <th>bought</th>\n",
       "      <th>size_M</th>\n",
       "      <th>size_XL</th>\n",
       "      <th>color_green</th>\n",
       "      <th>color_red</th>\n",
       "      <th>gender_male</th>\n",
       "    </tr>\n",
       "  </thead>\n",
       "  <tbody>\n",
       "    <tr>\n",
       "      <th>0</th>\n",
       "      <td>1.845062</td>\n",
       "      <td>1.366002</td>\n",
       "      <td>1</td>\n",
       "      <td>0</td>\n",
       "      <td>1</td>\n",
       "      <td>0</td>\n",
       "      <td>1</td>\n",
       "      <td>0</td>\n",
       "    </tr>\n",
       "    <tr>\n",
       "      <th>1</th>\n",
       "      <td>-0.691898</td>\n",
       "      <td>0.623610</td>\n",
       "      <td>0</td>\n",
       "      <td>0</td>\n",
       "      <td>0</td>\n",
       "      <td>1</td>\n",
       "      <td>0</td>\n",
       "      <td>1</td>\n",
       "    </tr>\n",
       "    <tr>\n",
       "      <th>2</th>\n",
       "      <td>-0.461266</td>\n",
       "      <td>-1.603567</td>\n",
       "      <td>1</td>\n",
       "      <td>1</td>\n",
       "      <td>0</td>\n",
       "      <td>0</td>\n",
       "      <td>0</td>\n",
       "      <td>1</td>\n",
       "    </tr>\n",
       "    <tr>\n",
       "      <th>3</th>\n",
       "      <td>0.230633</td>\n",
       "      <td>-0.415740</td>\n",
       "      <td>0</td>\n",
       "      <td>0</td>\n",
       "      <td>0</td>\n",
       "      <td>1</td>\n",
       "      <td>0</td>\n",
       "      <td>0</td>\n",
       "    </tr>\n",
       "    <tr>\n",
       "      <th>4</th>\n",
       "      <td>-0.922531</td>\n",
       "      <td>0.029696</td>\n",
       "      <td>1</td>\n",
       "      <td>1</td>\n",
       "      <td>0</td>\n",
       "      <td>0</td>\n",
       "      <td>1</td>\n",
       "      <td>0</td>\n",
       "    </tr>\n",
       "  </tbody>\n",
       "</table>\n",
       "</div>"
      ],
      "text/plain": [
       "      price    weight  bought  size_M  size_XL  color_green  color_red  \\\n",
       "0  1.845062  1.366002       1       0        1            0          1   \n",
       "1 -0.691898  0.623610       0       0        0            1          0   \n",
       "2 -0.461266 -1.603567       1       1        0            0          0   \n",
       "3  0.230633 -0.415740       0       0        0            1          0   \n",
       "4 -0.922531  0.029696       1       1        0            0          1   \n",
       "\n",
       "   gender_male  \n",
       "0            0  \n",
       "1            1  \n",
       "2            1  \n",
       "3            0  \n",
       "4            0  "
      ]
     },
     "execution_count": 46,
     "metadata": {},
     "output_type": "execute_result"
    }
   ],
   "source": [
    "df"
   ]
  },
  {
   "cell_type": "code",
   "execution_count": null,
   "id": "44a310ed",
   "metadata": {},
   "outputs": [],
   "source": []
  }
 ],
 "metadata": {
  "kernelspec": {
   "display_name": "Python 3 (ipykernel)",
   "language": "python",
   "name": "python3"
  },
  "language_info": {
   "codemirror_mode": {
    "name": "ipython",
    "version": 3
   },
   "file_extension": ".py",
   "mimetype": "text/x-python",
   "name": "python",
   "nbconvert_exporter": "python",
   "pygments_lexer": "ipython3",
   "version": "3.8.12"
  }
 },
 "nbformat": 4,
 "nbformat_minor": 5
}
