{
 "cells": [
  {
   "cell_type": "code",
   "execution_count": 1,
   "id": "8f9e94c9",
   "metadata": {},
   "outputs": [
    {
     "data": {
      "text/plain": [
       "'1.0.1'"
      ]
     },
     "execution_count": 1,
     "metadata": {},
     "output_type": "execute_result"
    }
   ],
   "source": [
    "import numpy as np\n",
    "import pandas as pd\n",
    "import sklearn\n",
    "\n",
    "np.random.seed(42)\n",
    "np.set_printoptions(precision=6, suppress=True)\n",
    "sklearn.__version__"
   ]
  },
  {
   "cell_type": "markdown",
   "id": "10946783",
   "metadata": {},
   "source": [
    "#### 1. Dane"
   ]
  },
  {
   "cell_type": "code",
   "execution_count": 2,
   "id": "2bfb6519",
   "metadata": {},
   "outputs": [
    {
     "data": {
      "text/html": [
       "<div>\n",
       "<style scoped>\n",
       "    .dataframe tbody tr th:only-of-type {\n",
       "        vertical-align: middle;\n",
       "    }\n",
       "\n",
       "    .dataframe tbody tr th {\n",
       "        vertical-align: top;\n",
       "    }\n",
       "\n",
       "    .dataframe thead th {\n",
       "        text-align: right;\n",
       "    }\n",
       "</style>\n",
       "<table border=\"1\" class=\"dataframe\">\n",
       "  <thead>\n",
       "    <tr style=\"text-align: right;\">\n",
       "      <th></th>\n",
       "      <th>pogoda</th>\n",
       "      <th>temperatura</th>\n",
       "      <th>spacer</th>\n",
       "    </tr>\n",
       "  </thead>\n",
       "  <tbody>\n",
       "    <tr>\n",
       "      <th>0</th>\n",
       "      <td>słonecznie</td>\n",
       "      <td>ciepło</td>\n",
       "      <td>tak</td>\n",
       "    </tr>\n",
       "    <tr>\n",
       "      <th>1</th>\n",
       "      <td>deszczowo</td>\n",
       "      <td>zimno</td>\n",
       "      <td>nie</td>\n",
       "    </tr>\n",
       "    <tr>\n",
       "      <th>2</th>\n",
       "      <td>pochmurno</td>\n",
       "      <td>ciepło</td>\n",
       "      <td>tak</td>\n",
       "    </tr>\n",
       "    <tr>\n",
       "      <th>3</th>\n",
       "      <td>deszczowo</td>\n",
       "      <td>ciepło</td>\n",
       "      <td>nie</td>\n",
       "    </tr>\n",
       "    <tr>\n",
       "      <th>4</th>\n",
       "      <td>słonecznie</td>\n",
       "      <td>ciepło</td>\n",
       "      <td>tak</td>\n",
       "    </tr>\n",
       "    <tr>\n",
       "      <th>5</th>\n",
       "      <td>słonecznie</td>\n",
       "      <td>umiarkowanie</td>\n",
       "      <td>tak</td>\n",
       "    </tr>\n",
       "    <tr>\n",
       "      <th>6</th>\n",
       "      <td>pochmurno</td>\n",
       "      <td>umiarkowanie</td>\n",
       "      <td>nie</td>\n",
       "    </tr>\n",
       "    <tr>\n",
       "      <th>7</th>\n",
       "      <td>pochmurno</td>\n",
       "      <td>ciepło</td>\n",
       "      <td>tak</td>\n",
       "    </tr>\n",
       "    <tr>\n",
       "      <th>8</th>\n",
       "      <td>słonecznie</td>\n",
       "      <td>zimno</td>\n",
       "      <td>nie</td>\n",
       "    </tr>\n",
       "  </tbody>\n",
       "</table>\n",
       "</div>"
      ],
      "text/plain": [
       "       pogoda   temperatura spacer\n",
       "0  słonecznie        ciepło    tak\n",
       "1   deszczowo         zimno    nie\n",
       "2   pochmurno        ciepło    tak\n",
       "3   deszczowo        ciepło    nie\n",
       "4  słonecznie        ciepło    tak\n",
       "5  słonecznie  umiarkowanie    tak\n",
       "6   pochmurno  umiarkowanie    nie\n",
       "7   pochmurno        ciepło    tak\n",
       "8  słonecznie         zimno    nie"
      ]
     },
     "execution_count": 2,
     "metadata": {},
     "output_type": "execute_result"
    }
   ],
   "source": [
    "pogoda = ['słonecznie', 'deszczowo', 'pochmurno', 'deszczowo', 'słonecznie', 'słonecznie',\n",
    "          'pochmurno', 'pochmurno', 'słonecznie']\n",
    "temperatura = ['ciepło', 'zimno', 'ciepło', 'ciepło', 'ciepło', 'umiarkowanie',\n",
    "               'umiarkowanie', 'ciepło', 'zimno']\n",
    "\n",
    "spacer = ['tak', 'nie', 'tak', 'nie', 'tak', 'tak', 'nie', 'tak', 'nie']      \n",
    "\n",
    "raw_df = pd.DataFrame(data={'pogoda': pogoda, 'temperatura': temperatura, 'spacer': spacer})\n",
    "df = raw_df.copy()\n",
    "df"
   ]
  },
  {
   "cell_type": "markdown",
   "id": "1cab6584",
   "metadata": {},
   "source": [
    "#### 2.Przygotowanie danych do modelu"
   ]
  },
  {
   "cell_type": "markdown",
   "id": "95fb7caa",
   "metadata": {},
   "source": [
    "#### - target"
   ]
  },
  {
   "cell_type": "code",
   "execution_count": 3,
   "id": "016e9c5c",
   "metadata": {},
   "outputs": [],
   "source": [
    "from sklearn.preprocessing import LabelEncoder"
   ]
  },
  {
   "cell_type": "code",
   "execution_count": 6,
   "id": "3b765207",
   "metadata": {},
   "outputs": [
    {
     "data": {
      "text/html": [
       "<div>\n",
       "<style scoped>\n",
       "    .dataframe tbody tr th:only-of-type {\n",
       "        vertical-align: middle;\n",
       "    }\n",
       "\n",
       "    .dataframe tbody tr th {\n",
       "        vertical-align: top;\n",
       "    }\n",
       "\n",
       "    .dataframe thead th {\n",
       "        text-align: right;\n",
       "    }\n",
       "</style>\n",
       "<table border=\"1\" class=\"dataframe\">\n",
       "  <thead>\n",
       "    <tr style=\"text-align: right;\">\n",
       "      <th></th>\n",
       "      <th>pogoda</th>\n",
       "      <th>temperatura</th>\n",
       "      <th>spacer</th>\n",
       "    </tr>\n",
       "  </thead>\n",
       "  <tbody>\n",
       "    <tr>\n",
       "      <th>0</th>\n",
       "      <td>słonecznie</td>\n",
       "      <td>ciepło</td>\n",
       "      <td>1</td>\n",
       "    </tr>\n",
       "    <tr>\n",
       "      <th>1</th>\n",
       "      <td>deszczowo</td>\n",
       "      <td>zimno</td>\n",
       "      <td>0</td>\n",
       "    </tr>\n",
       "    <tr>\n",
       "      <th>2</th>\n",
       "      <td>pochmurno</td>\n",
       "      <td>ciepło</td>\n",
       "      <td>1</td>\n",
       "    </tr>\n",
       "    <tr>\n",
       "      <th>3</th>\n",
       "      <td>deszczowo</td>\n",
       "      <td>ciepło</td>\n",
       "      <td>0</td>\n",
       "    </tr>\n",
       "    <tr>\n",
       "      <th>4</th>\n",
       "      <td>słonecznie</td>\n",
       "      <td>ciepło</td>\n",
       "      <td>1</td>\n",
       "    </tr>\n",
       "    <tr>\n",
       "      <th>5</th>\n",
       "      <td>słonecznie</td>\n",
       "      <td>umiarkowanie</td>\n",
       "      <td>1</td>\n",
       "    </tr>\n",
       "    <tr>\n",
       "      <th>6</th>\n",
       "      <td>pochmurno</td>\n",
       "      <td>umiarkowanie</td>\n",
       "      <td>0</td>\n",
       "    </tr>\n",
       "    <tr>\n",
       "      <th>7</th>\n",
       "      <td>pochmurno</td>\n",
       "      <td>ciepło</td>\n",
       "      <td>1</td>\n",
       "    </tr>\n",
       "    <tr>\n",
       "      <th>8</th>\n",
       "      <td>słonecznie</td>\n",
       "      <td>zimno</td>\n",
       "      <td>0</td>\n",
       "    </tr>\n",
       "  </tbody>\n",
       "</table>\n",
       "</div>"
      ],
      "text/plain": [
       "       pogoda   temperatura  spacer\n",
       "0  słonecznie        ciepło       1\n",
       "1   deszczowo         zimno       0\n",
       "2   pochmurno        ciepło       1\n",
       "3   deszczowo        ciepło       0\n",
       "4  słonecznie        ciepło       1\n",
       "5  słonecznie  umiarkowanie       1\n",
       "6   pochmurno  umiarkowanie       0\n",
       "7   pochmurno        ciepło       1\n",
       "8  słonecznie         zimno       0"
      ]
     },
     "execution_count": 6,
     "metadata": {},
     "output_type": "execute_result"
    }
   ],
   "source": [
    "le = LabelEncoder()\n",
    "df['spacer'] = le.fit_transform(df['spacer'])\n",
    "df"
   ]
  },
  {
   "cell_type": "markdown",
   "id": "cf0b4b1a",
   "metadata": {},
   "source": [
    "#### - variables"
   ]
  },
  {
   "cell_type": "code",
   "execution_count": 9,
   "id": "1f45b70a",
   "metadata": {},
   "outputs": [],
   "source": [
    "df_dummy = pd.get_dummies(df, columns=['pogoda', 'temperatura'], drop_first=True)"
   ]
  },
  {
   "cell_type": "code",
   "execution_count": 10,
   "id": "1dbaa1fb",
   "metadata": {},
   "outputs": [
    {
     "data": {
      "text/html": [
       "<div>\n",
       "<style scoped>\n",
       "    .dataframe tbody tr th:only-of-type {\n",
       "        vertical-align: middle;\n",
       "    }\n",
       "\n",
       "    .dataframe tbody tr th {\n",
       "        vertical-align: top;\n",
       "    }\n",
       "\n",
       "    .dataframe thead th {\n",
       "        text-align: right;\n",
       "    }\n",
       "</style>\n",
       "<table border=\"1\" class=\"dataframe\">\n",
       "  <thead>\n",
       "    <tr style=\"text-align: right;\">\n",
       "      <th></th>\n",
       "      <th>spacer</th>\n",
       "      <th>pogoda_pochmurno</th>\n",
       "      <th>pogoda_słonecznie</th>\n",
       "      <th>temperatura_umiarkowanie</th>\n",
       "      <th>temperatura_zimno</th>\n",
       "    </tr>\n",
       "  </thead>\n",
       "  <tbody>\n",
       "    <tr>\n",
       "      <th>0</th>\n",
       "      <td>1</td>\n",
       "      <td>0</td>\n",
       "      <td>1</td>\n",
       "      <td>0</td>\n",
       "      <td>0</td>\n",
       "    </tr>\n",
       "    <tr>\n",
       "      <th>1</th>\n",
       "      <td>0</td>\n",
       "      <td>0</td>\n",
       "      <td>0</td>\n",
       "      <td>0</td>\n",
       "      <td>1</td>\n",
       "    </tr>\n",
       "    <tr>\n",
       "      <th>2</th>\n",
       "      <td>1</td>\n",
       "      <td>1</td>\n",
       "      <td>0</td>\n",
       "      <td>0</td>\n",
       "      <td>0</td>\n",
       "    </tr>\n",
       "    <tr>\n",
       "      <th>3</th>\n",
       "      <td>0</td>\n",
       "      <td>0</td>\n",
       "      <td>0</td>\n",
       "      <td>0</td>\n",
       "      <td>0</td>\n",
       "    </tr>\n",
       "    <tr>\n",
       "      <th>4</th>\n",
       "      <td>1</td>\n",
       "      <td>0</td>\n",
       "      <td>1</td>\n",
       "      <td>0</td>\n",
       "      <td>0</td>\n",
       "    </tr>\n",
       "    <tr>\n",
       "      <th>5</th>\n",
       "      <td>1</td>\n",
       "      <td>0</td>\n",
       "      <td>1</td>\n",
       "      <td>1</td>\n",
       "      <td>0</td>\n",
       "    </tr>\n",
       "    <tr>\n",
       "      <th>6</th>\n",
       "      <td>0</td>\n",
       "      <td>1</td>\n",
       "      <td>0</td>\n",
       "      <td>1</td>\n",
       "      <td>0</td>\n",
       "    </tr>\n",
       "    <tr>\n",
       "      <th>7</th>\n",
       "      <td>1</td>\n",
       "      <td>1</td>\n",
       "      <td>0</td>\n",
       "      <td>0</td>\n",
       "      <td>0</td>\n",
       "    </tr>\n",
       "    <tr>\n",
       "      <th>8</th>\n",
       "      <td>0</td>\n",
       "      <td>0</td>\n",
       "      <td>1</td>\n",
       "      <td>0</td>\n",
       "      <td>1</td>\n",
       "    </tr>\n",
       "  </tbody>\n",
       "</table>\n",
       "</div>"
      ],
      "text/plain": [
       "   spacer  pogoda_pochmurno  pogoda_słonecznie  temperatura_umiarkowanie  \\\n",
       "0       1                 0                  1                         0   \n",
       "1       0                 0                  0                         0   \n",
       "2       1                 1                  0                         0   \n",
       "3       0                 0                  0                         0   \n",
       "4       1                 0                  1                         0   \n",
       "5       1                 0                  1                         1   \n",
       "6       0                 1                  0                         1   \n",
       "7       1                 1                  0                         0   \n",
       "8       0                 0                  1                         0   \n",
       "\n",
       "   temperatura_zimno  \n",
       "0                  0  \n",
       "1                  1  \n",
       "2                  0  \n",
       "3                  0  \n",
       "4                  0  \n",
       "5                  0  \n",
       "6                  0  \n",
       "7                  0  \n",
       "8                  1  "
      ]
     },
     "execution_count": 10,
     "metadata": {},
     "output_type": "execute_result"
    }
   ],
   "source": [
    "df_dummy"
   ]
  },
  {
   "cell_type": "markdown",
   "id": "49e41fed",
   "metadata": {},
   "source": [
    "#### data, target"
   ]
  },
  {
   "cell_type": "code",
   "execution_count": 11,
   "id": "9142adb5",
   "metadata": {},
   "outputs": [],
   "source": [
    "data = df_dummy.copy()\n",
    "target = data.pop('spacer')"
   ]
  },
  {
   "cell_type": "markdown",
   "id": "2684bb3c",
   "metadata": {},
   "source": [
    "#### 3. Bayes Gaussian model"
   ]
  },
  {
   "cell_type": "code",
   "execution_count": 19,
   "id": "7b537cde",
   "metadata": {},
   "outputs": [],
   "source": [
    "from sklearn.naive_bayes import GaussianNB"
   ]
  },
  {
   "cell_type": "code",
   "execution_count": 20,
   "id": "2a2b67e1",
   "metadata": {},
   "outputs": [
    {
     "data": {
      "text/plain": [
       "0.7777777777777778"
      ]
     },
     "execution_count": 20,
     "metadata": {},
     "output_type": "execute_result"
    }
   ],
   "source": [
    "model = GaussianNB()\n",
    "model.fit(data, target)\n",
    "model.score(data, target)"
   ]
  },
  {
   "cell_type": "markdown",
   "id": "72691afb",
   "metadata": {},
   "source": [
    "#### 4. Predykcja na podstawie pierwszego wiersza"
   ]
  },
  {
   "cell_type": "code",
   "execution_count": 35,
   "id": "d8c7aa2f",
   "metadata": {},
   "outputs": [],
   "source": [
    "first_row = data.iloc[0].to_frame().T"
   ]
  },
  {
   "cell_type": "code",
   "execution_count": 36,
   "id": "476347f5",
   "metadata": {},
   "outputs": [
    {
     "data": {
      "text/html": [
       "<div>\n",
       "<style scoped>\n",
       "    .dataframe tbody tr th:only-of-type {\n",
       "        vertical-align: middle;\n",
       "    }\n",
       "\n",
       "    .dataframe tbody tr th {\n",
       "        vertical-align: top;\n",
       "    }\n",
       "\n",
       "    .dataframe thead th {\n",
       "        text-align: right;\n",
       "    }\n",
       "</style>\n",
       "<table border=\"1\" class=\"dataframe\">\n",
       "  <thead>\n",
       "    <tr style=\"text-align: right;\">\n",
       "      <th></th>\n",
       "      <th>pogoda_pochmurno</th>\n",
       "      <th>pogoda_słonecznie</th>\n",
       "      <th>temperatura_umiarkowanie</th>\n",
       "      <th>temperatura_zimno</th>\n",
       "    </tr>\n",
       "  </thead>\n",
       "  <tbody>\n",
       "    <tr>\n",
       "      <th>0</th>\n",
       "      <td>0</td>\n",
       "      <td>1</td>\n",
       "      <td>0</td>\n",
       "      <td>0</td>\n",
       "    </tr>\n",
       "  </tbody>\n",
       "</table>\n",
       "</div>"
      ],
      "text/plain": [
       "   pogoda_pochmurno  pogoda_słonecznie  temperatura_umiarkowanie  \\\n",
       "0                 0                  1                         0   \n",
       "\n",
       "   temperatura_zimno  \n",
       "0                  0  "
      ]
     },
     "execution_count": 36,
     "metadata": {},
     "output_type": "execute_result"
    }
   ],
   "source": [
    "first_row"
   ]
  },
  {
   "cell_type": "code",
   "execution_count": 37,
   "id": "9014890e",
   "metadata": {},
   "outputs": [],
   "source": [
    "first = first_row.values"
   ]
  },
  {
   "cell_type": "code",
   "execution_count": 39,
   "id": "3578a752",
   "metadata": {},
   "outputs": [],
   "source": [
    "prediction = model.predict(first_row)"
   ]
  },
  {
   "cell_type": "code",
   "execution_count": 40,
   "id": "653e5cef",
   "metadata": {},
   "outputs": [
    {
     "data": {
      "text/plain": [
       "array([1], dtype=int64)"
      ]
     },
     "execution_count": 40,
     "metadata": {},
     "output_type": "execute_result"
    }
   ],
   "source": [
    "prediction"
   ]
  },
  {
   "cell_type": "code",
   "execution_count": 46,
   "id": "fb775b82",
   "metadata": {},
   "outputs": [
    {
     "data": {
      "text/plain": [
       "1"
      ]
     },
     "execution_count": 46,
     "metadata": {},
     "output_type": "execute_result"
    }
   ],
   "source": [
    "le.classes_[prediction[0]]"
   ]
  },
  {
   "cell_type": "code",
   "execution_count": 52,
   "id": "ecfe4de1",
   "metadata": {},
   "outputs": [
    {
     "data": {
      "text/plain": [
       "array([0, 1])"
      ]
     },
     "execution_count": 52,
     "metadata": {},
     "output_type": "execute_result"
    }
   ],
   "source": [
    "le.classes_"
   ]
  },
  {
   "cell_type": "code",
   "execution_count": 56,
   "id": "ecc239e5",
   "metadata": {},
   "outputs": [
    {
     "data": {
      "text/plain": [
       "array([[0.000006, 0.999994]])"
      ]
     },
     "execution_count": 56,
     "metadata": {},
     "output_type": "execute_result"
    }
   ],
   "source": [
    "model.predict_proba(first_row)"
   ]
  },
  {
   "cell_type": "code",
   "execution_count": null,
   "id": "468fa264",
   "metadata": {},
   "outputs": [],
   "source": []
  }
 ],
 "metadata": {
  "kernelspec": {
   "display_name": "Python 3 (ipykernel)",
   "language": "python",
   "name": "python3"
  },
  "language_info": {
   "codemirror_mode": {
    "name": "ipython",
    "version": 3
   },
   "file_extension": ".py",
   "mimetype": "text/x-python",
   "name": "python",
   "nbconvert_exporter": "python",
   "pygments_lexer": "ipython3",
   "version": "3.8.12"
  }
 },
 "nbformat": 4,
 "nbformat_minor": 5
}
