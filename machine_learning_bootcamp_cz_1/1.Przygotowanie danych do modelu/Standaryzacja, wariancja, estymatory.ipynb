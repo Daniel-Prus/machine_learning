{
 "cells": [
  {
   "cell_type": "code",
   "execution_count": 1,
   "id": "0d24f75e",
   "metadata": {},
   "outputs": [],
   "source": [
    "import pandas as pd\n",
    "import numpy as np\n",
    "import sklearn"
   ]
  },
  {
   "cell_type": "code",
   "execution_count": 2,
   "id": "9379ddb9",
   "metadata": {},
   "outputs": [
    {
     "data": {
      "text/html": [
       "<div>\n",
       "<style scoped>\n",
       "    .dataframe tbody tr th:only-of-type {\n",
       "        vertical-align: middle;\n",
       "    }\n",
       "\n",
       "    .dataframe tbody tr th {\n",
       "        vertical-align: top;\n",
       "    }\n",
       "\n",
       "    .dataframe thead th {\n",
       "        text-align: right;\n",
       "    }\n",
       "</style>\n",
       "<table border=\"1\" class=\"dataframe\">\n",
       "  <thead>\n",
       "    <tr style=\"text-align: right;\">\n",
       "      <th></th>\n",
       "      <th>size</th>\n",
       "      <th>color</th>\n",
       "      <th>gender</th>\n",
       "      <th>price</th>\n",
       "      <th>weight</th>\n",
       "      <th>bought</th>\n",
       "    </tr>\n",
       "  </thead>\n",
       "  <tbody>\n",
       "    <tr>\n",
       "      <th>0</th>\n",
       "      <td>XL</td>\n",
       "      <td>red</td>\n",
       "      <td>female</td>\n",
       "      <td>199.0</td>\n",
       "      <td>500</td>\n",
       "      <td>yes</td>\n",
       "    </tr>\n",
       "    <tr>\n",
       "      <th>1</th>\n",
       "      <td>L</td>\n",
       "      <td>green</td>\n",
       "      <td>male</td>\n",
       "      <td>89.0</td>\n",
       "      <td>450</td>\n",
       "      <td>no</td>\n",
       "    </tr>\n",
       "    <tr>\n",
       "      <th>2</th>\n",
       "      <td>M</td>\n",
       "      <td>blue</td>\n",
       "      <td>male</td>\n",
       "      <td>99.0</td>\n",
       "      <td>300</td>\n",
       "      <td>yes</td>\n",
       "    </tr>\n",
       "    <tr>\n",
       "      <th>3</th>\n",
       "      <td>L</td>\n",
       "      <td>green</td>\n",
       "      <td>female</td>\n",
       "      <td>129.0</td>\n",
       "      <td>380</td>\n",
       "      <td>no</td>\n",
       "    </tr>\n",
       "    <tr>\n",
       "      <th>4</th>\n",
       "      <td>M</td>\n",
       "      <td>red</td>\n",
       "      <td>female</td>\n",
       "      <td>79.0</td>\n",
       "      <td>410</td>\n",
       "      <td>yes</td>\n",
       "    </tr>\n",
       "  </tbody>\n",
       "</table>\n",
       "</div>"
      ],
      "text/plain": [
       "  size  color  gender  price  weight bought\n",
       "0   XL    red  female  199.0     500    yes\n",
       "1    L  green    male   89.0     450     no\n",
       "2    M   blue    male   99.0     300    yes\n",
       "3    L  green  female  129.0     380     no\n",
       "4    M    red  female   79.0     410    yes"
      ]
     },
     "execution_count": 2,
     "metadata": {},
     "output_type": "execute_result"
    }
   ],
   "source": [
    "#Dane:\n",
    "\n",
    "data = {\n",
    "    'size': ['XL', 'L', 'M', 'L', 'M'],\n",
    "    'color': ['red', 'green', 'blue', 'green', 'red'],\n",
    "    'gender': ['female', 'male', 'male', 'female', 'female'],\n",
    "    'price': [199.0, 89.0, 99.0, 129.0, 79.0],\n",
    "    'weight': [500, 450, 300, 380, 410],\n",
    "    'bought': ['yes', 'no', 'yes', 'no', 'yes']}\n",
    "\n",
    "df_raw = pd.DataFrame(data)\n",
    "\n",
    "# kopia zapasowa\n",
    "df = df_raw.copy()\n",
    "df"
   ]
  },
  {
   "cell_type": "markdown",
   "id": "1d7d20e0",
   "metadata": {},
   "source": [
    "### 1. Standaryzacja ręczna:\n",
    "\n",
    "(x - Xmu) / Xstd"
   ]
  },
  {
   "cell_type": "markdown",
   "id": "b098bce9",
   "metadata": {},
   "source": [
    "#### - pandas - estymator nieobciążony"
   ]
  },
  {
   "cell_type": "code",
   "execution_count": 8,
   "id": "a38cac85",
   "metadata": {
    "scrolled": true
   },
   "outputs": [
    {
     "data": {
      "text/plain": [
       "0    1.650274\n",
       "1   -0.618853\n",
       "2   -0.412568\n",
       "3    0.206284\n",
       "4   -0.825137\n",
       "Name: price, dtype: float64"
      ]
     },
     "execution_count": 8,
     "metadata": {},
     "output_type": "execute_result"
    }
   ],
   "source": [
    "(df['price'] - df['price'].mean()) / df['price'].std()"
   ]
  },
  {
   "cell_type": "code",
   "execution_count": 9,
   "id": "ac9bafdb",
   "metadata": {},
   "outputs": [
    {
     "data": {
      "text/plain": [
       "2350.0"
      ]
     },
     "execution_count": 9,
     "metadata": {},
     "output_type": "execute_result"
    }
   ],
   "source": [
    "df['price'].var()"
   ]
  },
  {
   "cell_type": "code",
   "execution_count": 10,
   "id": "970b2705",
   "metadata": {},
   "outputs": [
    {
     "data": {
      "text/plain": [
       "48.47679857416329"
      ]
     },
     "execution_count": 10,
     "metadata": {},
     "output_type": "execute_result"
    }
   ],
   "source": [
    "df['price'].std()"
   ]
  },
  {
   "cell_type": "markdown",
   "id": "053694e0",
   "metadata": {},
   "source": [
    "#### - numpy - estymator obciążony"
   ]
  },
  {
   "cell_type": "code",
   "execution_count": 11,
   "id": "ea914fa4",
   "metadata": {},
   "outputs": [
    {
     "data": {
      "text/plain": [
       "array([199.,  89.,  99., 129.,  79.])"
      ]
     },
     "execution_count": 11,
     "metadata": {},
     "output_type": "execute_result"
    }
   ],
   "source": [
    "price = df['price'].to_numpy()\n",
    "price"
   ]
  },
  {
   "cell_type": "code",
   "execution_count": 12,
   "id": "55be5e04",
   "metadata": {},
   "outputs": [
    {
     "data": {
      "text/plain": [
       "1880.0"
      ]
     },
     "execution_count": 12,
     "metadata": {},
     "output_type": "execute_result"
    }
   ],
   "source": [
    "price.var()"
   ]
  },
  {
   "cell_type": "code",
   "execution_count": 13,
   "id": "d52730ac",
   "metadata": {},
   "outputs": [
    {
     "data": {
      "text/plain": [
       "43.3589667773576"
      ]
     },
     "execution_count": 13,
     "metadata": {},
     "output_type": "execute_result"
    }
   ],
   "source": [
    "price.std()"
   ]
  },
  {
   "cell_type": "code",
   "execution_count": 14,
   "id": "fcb338ed",
   "metadata": {},
   "outputs": [
    {
     "data": {
      "text/plain": [
       "array([ 1.84506242, -0.69189841, -0.4612656 ,  0.2306328 , -0.92253121])"
      ]
     },
     "execution_count": 14,
     "metadata": {},
     "output_type": "execute_result"
    }
   ],
   "source": [
    "(price - price.mean())/ price.std()"
   ]
  },
  {
   "cell_type": "markdown",
   "id": "13f0309c",
   "metadata": {},
   "source": [
    "#### - funkcja:"
   ]
  },
  {
   "cell_type": "code",
   "execution_count": 15,
   "id": "c636639a",
   "metadata": {},
   "outputs": [],
   "source": [
    "def standarize(x):\n",
    "    return (x- x.mean()) / x.std()"
   ]
  },
  {
   "cell_type": "code",
   "execution_count": 16,
   "id": "4424afab",
   "metadata": {},
   "outputs": [
    {
     "data": {
      "text/plain": [
       "0    1.650274\n",
       "1   -0.618853\n",
       "2   -0.412568\n",
       "3    0.206284\n",
       "4   -0.825137\n",
       "Name: price, dtype: float64"
      ]
     },
     "execution_count": 16,
     "metadata": {},
     "output_type": "execute_result"
    }
   ],
   "source": [
    "# pandas\n",
    "\n",
    "standarize(df['price'])"
   ]
  },
  {
   "cell_type": "markdown",
   "id": "79b5afd6",
   "metadata": {},
   "source": [
    "#### - odwrócenie wzoru"
   ]
  },
  {
   "cell_type": "code",
   "execution_count": 17,
   "id": "a2a5a7b0",
   "metadata": {
    "scrolled": true
   },
   "outputs": [
    {
     "data": {
      "text/plain": [
       "0    199.0\n",
       "1     89.0\n",
       "2     99.0\n",
       "3    129.0\n",
       "4     79.0\n",
       "Name: price, dtype: float64"
      ]
     },
     "execution_count": 17,
     "metadata": {},
     "output_type": "execute_result"
    }
   ],
   "source": [
    "df['price']"
   ]
  },
  {
   "cell_type": "code",
   "execution_count": 18,
   "id": "9a89296f",
   "metadata": {},
   "outputs": [],
   "source": [
    "# odwrócenie wzoru:\n",
    "\n",
    "s = standarize(df['price'])\n",
    "\n",
    "# s= (x -x.mean) / x.std\n",
    "price_mean = 119\n",
    "price_std = 43.358966777357\n",
    "s = standarize(price)\n"
   ]
  },
  {
   "cell_type": "code",
   "execution_count": 48,
   "id": "4a362062",
   "metadata": {},
   "outputs": [
    {
     "data": {
      "text/plain": [
       "array([199.,  89.,  99., 129.,  79.])"
      ]
     },
     "execution_count": 48,
     "metadata": {},
     "output_type": "execute_result"
    }
   ],
   "source": [
    "# wyprowadzenie wzoru\n",
    "\"\"\"\n",
    "s= (x -x.mean) / x.std                      wzór\n",
    "\n",
    "s= (x -x.mean) / x.std  // * std            mnożymy przez prawy mianownik\n",
    "\n",
    "s * std = x - x.mean                        \n",
    "\n",
    "x - x.mean = s * std                        zamiana strom\n",
    "\n",
    "x = s * std + x.mean                        wzór na x\n",
    "\"\"\"\n",
    "\n",
    "price = s * price_std + price_mean\n",
    "price"
   ]
  },
  {
   "cell_type": "code",
   "execution_count": null,
   "id": "1b99c481",
   "metadata": {},
   "outputs": [],
   "source": []
  },
  {
   "cell_type": "markdown",
   "id": "54816f18",
   "metadata": {},
   "source": [
    "### 2. Zadanie z Data Science Bootcamp\n",
    "\n",
    "Ustaw ziarno losowe na wartość 30. Następnie zbuduj dwuwymiarową tablicę o kształcie (10, 4) wartości pseudolosowo wygenerowanych z rozkładu normalego  N(100,5).\n",
    "\n",
    "μ=100 \n",
    "\n",
    "σ2=5"
   ]
  },
  {
   "cell_type": "code",
   "execution_count": 19,
   "id": "d3546344",
   "metadata": {},
   "outputs": [],
   "source": [
    "np.random.seed(30)\n",
    "mu = 100\n",
    "sigma = np.sqrt(5)"
   ]
  },
  {
   "cell_type": "code",
   "execution_count": 49,
   "id": "d2a75b3a",
   "metadata": {},
   "outputs": [
    {
     "data": {
      "text/plain": [
       "array([[ 1.05069979, -0.53687446, -0.02919272,  1.39405598],\n",
       "       [-0.39786744,  1.01912738,  1.8988813 , -0.35484964],\n",
       "       [-0.38701647, -1.92730539,  0.55075659,  0.95435581],\n",
       "       [ 0.7827765 , -1.7932379 ,  1.2418555 ,  1.70774688],\n",
       "       [ 0.3231534 , -0.99183439, -1.16328237, -0.0213351 ],\n",
       "       [-1.58199529, -1.24311418, -0.41016902, -1.05507534],\n",
       "       [-1.05731214, -1.28411722,  0.91312604, -1.38774534],\n",
       "       [ 0.03002776, -0.45000776,  0.20563314, -0.46002618],\n",
       "       [-0.17341299, -0.21665484, -0.25993484,  0.56629343],\n",
       "       [ 0.99052247, -0.5947633 ,  0.34346298, -2.58932253]])"
      ]
     },
     "execution_count": 49,
     "metadata": {},
     "output_type": "execute_result"
    }
   ],
   "source": [
    "np.random.randn(10,4) "
   ]
  },
  {
   "cell_type": "code",
   "execution_count": 20,
   "id": "4ddbc9e4",
   "metadata": {},
   "outputs": [
    {
     "data": {
      "text/plain": [
       "array([[ 97.17349231, 103.41650023,  97.82942436, 101.05220329],\n",
       "       [ 99.7748353 , 100.67930221,  96.14063068, 103.544381  ],\n",
       "       [100.30029631,  97.52499594, 103.52901961, 100.24037271],\n",
       "       [ 98.29153712,  98.2666258 , 103.09437633, 101.70027274],\n",
       "       [ 99.36127721, 101.20382627,  95.34026547, 102.09694365],\n",
       "       [ 99.98708001,  98.95468525,  99.05410904, 102.38025432],\n",
       "       [ 93.50787269, 103.61547679, 103.18753701,  98.51356237],\n",
       "       [102.20256689,  96.19764407,  97.54000366,  97.05813038],\n",
       "       [101.81233513,  97.66380453,  98.45883627,  98.09317768],\n",
       "       [102.48979932,  95.70413391,  98.43161651, 101.89861815]])"
      ]
     },
     "execution_count": 20,
     "metadata": {},
     "output_type": "execute_result"
    }
   ],
   "source": [
    "np.random.randn(10,4) * sigma + mu"
   ]
  },
  {
   "cell_type": "markdown",
   "id": "44424ebe",
   "metadata": {},
   "source": [
    "### 3. Wnioskowanie statystyczne\n",
    "\n",
    "https://www.fuw.edu.pl/~prozanski/WS/?var"
   ]
  },
  {
   "cell_type": "markdown",
   "id": "d7e6db9c",
   "metadata": {},
   "source": [
    "\n",
    "\n",
    "\n",
    "### Estymator dla znanej wartości oczekiwanej\n",
    "\n",
    "Ten estymator jest nieobciążony i zgodny, ale użyteczny tylko wówczas, gdy znamy prawdziwą wartość oczekiwaną μ populacji. W przeciwnym wypadku, mamy do dyspozycji dwa estymatory i warto uważać aby ich nie pomylić.\n"
   ]
  },
  {
   "cell_type": "code",
   "execution_count": 21,
   "id": "4245d891",
   "metadata": {
    "scrolled": true
   },
   "outputs": [],
   "source": [
    "X = np.array([199.0, 89.0, 99.0, 129.0, 79.0])\n",
    "mu = np.mean(X)  # znana wartość oczekiwana\n",
    "\n",
    "\n",
    "# wariancja\n",
    "s2 = np.sum( (X - mu)**2 ) / len(X)\n",
    "\n",
    "# odchylenie standardowe jako pierwiastek z wariancji\n",
    "s = np.sqrt(s2)"
   ]
  },
  {
   "cell_type": "code",
   "execution_count": 22,
   "id": "fc8f55f9",
   "metadata": {},
   "outputs": [
    {
     "data": {
      "text/plain": [
       "1880.0"
      ]
     },
     "execution_count": 22,
     "metadata": {},
     "output_type": "execute_result"
    }
   ],
   "source": [
    "s2 "
   ]
  },
  {
   "cell_type": "code",
   "execution_count": 23,
   "id": "0cc39324",
   "metadata": {},
   "outputs": [
    {
     "data": {
      "text/plain": [
       "43.3589667773576"
      ]
     },
     "execution_count": 23,
     "metadata": {},
     "output_type": "execute_result"
    }
   ],
   "source": [
    "s"
   ]
  },
  {
   "cell_type": "code",
   "execution_count": 24,
   "id": "a066301e",
   "metadata": {},
   "outputs": [
    {
     "data": {
      "text/plain": [
       "1880.0"
      ]
     },
     "execution_count": 24,
     "metadata": {},
     "output_type": "execute_result"
    }
   ],
   "source": [
    "np.var(X)"
   ]
  },
  {
   "cell_type": "code",
   "execution_count": 25,
   "id": "5b6eaf66",
   "metadata": {},
   "outputs": [
    {
     "data": {
      "text/plain": [
       "43.3589667773576"
      ]
     },
     "execution_count": 25,
     "metadata": {},
     "output_type": "execute_result"
    }
   ],
   "source": [
    "np.std(X)"
   ]
  },
  {
   "cell_type": "markdown",
   "id": "3649e66b",
   "metadata": {},
   "source": [
    "### Estymator nieobciążony wariancji\n",
    "\n",
    "Z tego estymatora korzystamy wtedy, gdy nie znamy wariancji. Warto pamiętać, że o ile s21 jest estymatorem nieobciążonym wariancji, to s1 jako estymator odchylenia standardowego jest już obciążony.\n"
   ]
  },
  {
   "cell_type": "code",
   "execution_count": 37,
   "id": "2de95b13",
   "metadata": {},
   "outputs": [],
   "source": [
    "X = np.array([199.0, 89.0, 99.0, 129.0, 79.0])\n",
    "\n",
    "# wariancja\n",
    "s2 = np.var(X, ddof=1)\n",
    "# odchylenie standardowe czyli pierwiastek z wariancji\n",
    "s = np.std(X, ddof=1)"
   ]
  },
  {
   "cell_type": "markdown",
   "id": "a3efa011",
   "metadata": {},
   "source": [
    "#### - numpy - nieobciążony"
   ]
  },
  {
   "cell_type": "code",
   "execution_count": 38,
   "id": "5298cac1",
   "metadata": {},
   "outputs": [
    {
     "data": {
      "text/plain": [
       "2350.0"
      ]
     },
     "execution_count": 38,
     "metadata": {},
     "output_type": "execute_result"
    }
   ],
   "source": [
    "s2"
   ]
  },
  {
   "cell_type": "code",
   "execution_count": 39,
   "id": "d9ede12a",
   "metadata": {},
   "outputs": [
    {
     "data": {
      "text/plain": [
       "48.47679857416329"
      ]
     },
     "execution_count": 39,
     "metadata": {},
     "output_type": "execute_result"
    }
   ],
   "source": [
    "s"
   ]
  },
  {
   "cell_type": "markdown",
   "id": "b03590de",
   "metadata": {},
   "source": [
    "#### - pandas - nieobciążony"
   ]
  },
  {
   "cell_type": "code",
   "execution_count": 43,
   "id": "6e8d8f23",
   "metadata": {},
   "outputs": [],
   "source": [
    "price = df['price']"
   ]
  },
  {
   "cell_type": "code",
   "execution_count": 44,
   "id": "527b5e97",
   "metadata": {},
   "outputs": [
    {
     "data": {
      "text/plain": [
       "48.47679857416329"
      ]
     },
     "execution_count": 44,
     "metadata": {},
     "output_type": "execute_result"
    }
   ],
   "source": [
    "price.std()"
   ]
  },
  {
   "cell_type": "code",
   "execution_count": 45,
   "id": "0d86ec14",
   "metadata": {},
   "outputs": [
    {
     "data": {
      "text/plain": [
       "2350.0"
      ]
     },
     "execution_count": 45,
     "metadata": {},
     "output_type": "execute_result"
    }
   ],
   "source": [
    "price.var()"
   ]
  },
  {
   "cell_type": "markdown",
   "id": "6a8c0835",
   "metadata": {},
   "source": [
    "#### - numpy obciążony"
   ]
  },
  {
   "cell_type": "code",
   "execution_count": 47,
   "id": "eeb38b9c",
   "metadata": {},
   "outputs": [
    {
     "data": {
      "text/plain": [
       "1880.0"
      ]
     },
     "execution_count": 47,
     "metadata": {},
     "output_type": "execute_result"
    }
   ],
   "source": [
    "np.var(X)"
   ]
  },
  {
   "cell_type": "code",
   "execution_count": 48,
   "id": "412a7bdc",
   "metadata": {},
   "outputs": [
    {
     "data": {
      "text/plain": [
       "43.3589667773576"
      ]
     },
     "execution_count": 48,
     "metadata": {},
     "output_type": "execute_result"
    }
   ],
   "source": [
    "np.std(X)"
   ]
  },
  {
   "cell_type": "markdown",
   "id": "7505ef25",
   "metadata": {},
   "source": [
    "### Estymator obciążony wariancji\n",
    "\n",
    "\n",
    "Z tego estymatora raczej nie korzystamy, ale warto go odróżniać, ponieważ niekiedy wzory zapisane są z jego pomocą. Jest to też estymator największej wiarygodności."
   ]
  },
  {
   "cell_type": "code",
   "execution_count": 58,
   "id": "ff649a49",
   "metadata": {},
   "outputs": [],
   "source": [
    "import numpy\n",
    "X = np.array([199.0, 89.0, 99.0, 129.0, 79.0])\n",
    "\n",
    "# wariancja\n",
    "s2 = numpy.var(X)\n",
    "\n",
    "# odchylenie standardowe czyli pierwiastek z wariancji\n",
    "s = numpy.std(X)"
   ]
  },
  {
   "cell_type": "code",
   "execution_count": 59,
   "id": "b5ce2892",
   "metadata": {},
   "outputs": [
    {
     "data": {
      "text/plain": [
       "1880.0"
      ]
     },
     "execution_count": 59,
     "metadata": {},
     "output_type": "execute_result"
    }
   ],
   "source": [
    "s2"
   ]
  },
  {
   "cell_type": "code",
   "execution_count": 60,
   "id": "7a817e4c",
   "metadata": {},
   "outputs": [
    {
     "data": {
      "text/plain": [
       "43.3589667773576"
      ]
     },
     "execution_count": 60,
     "metadata": {},
     "output_type": "execute_result"
    }
   ],
   "source": [
    "s"
   ]
  },
  {
   "cell_type": "code",
   "execution_count": null,
   "id": "675d4766",
   "metadata": {},
   "outputs": [],
   "source": []
  }
 ],
 "metadata": {
  "kernelspec": {
   "display_name": "Python 3 (ipykernel)",
   "language": "python",
   "name": "python3"
  },
  "language_info": {
   "codemirror_mode": {
    "name": "ipython",
    "version": 3
   },
   "file_extension": ".py",
   "mimetype": "text/x-python",
   "name": "python",
   "nbconvert_exporter": "python",
   "pygments_lexer": "ipython3",
   "version": "3.8.12"
  }
 },
 "nbformat": 4,
 "nbformat_minor": 5
}
